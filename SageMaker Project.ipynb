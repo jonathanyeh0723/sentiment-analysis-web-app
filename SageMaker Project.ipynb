{
 "cells": [
  {
   "cell_type": "markdown",
   "metadata": {},
   "source": [
    "# Creating a Sentiment Analysis Web App\n",
    "## Using PyTorch and SageMaker\n",
    "\n",
    "_Deep Learning Nanodegree Program | Deployment_\n",
    "\n",
    "---\n",
    "\n",
    "Now that we have a basic understanding of how SageMaker works we will try to use it to construct a complete project from end to end. Our goal will be to have a simple web page which a user can use to enter a movie review. The web page will then send the review off to our deployed model which will predict the sentiment of the entered review.\n",
    "\n",
    "## Instructions\n",
    "\n",
    "Some template code has already been provided for you, and you will need to implement additional functionality to successfully complete this notebook. You will not need to modify the included code beyond what is requested. Sections that begin with '**TODO**' in the header indicate that you need to complete or implement some portion within them. Instructions will be provided for each section and the specifics of the implementation are marked in the code block with a `# TODO: ...` comment. Please be sure to read the instructions carefully!\n",
    "\n",
    "In addition to implementing code, there will be questions for you to answer which relate to the task and your implementation. Each section where you will answer a question is preceded by a '**Question:**' header. Carefully read each question and provide your answer below the '**Answer:**' header by editing the Markdown cell.\n",
    "\n",
    "> **Note**: Code and Markdown cells can be executed using the **Shift+Enter** keyboard shortcut. In addition, a cell can be edited by typically clicking it (double-click for Markdown cells) or by pressing **Enter** while it is highlighted.\n",
    "\n",
    "## General Outline\n",
    "\n",
    "Recall the general outline for SageMaker projects using a notebook instance.\n",
    "\n",
    "1. Download or otherwise retrieve the data.\n",
    "2. Process / Prepare the data.\n",
    "3. Upload the processed data to S3.\n",
    "4. Train a chosen model.\n",
    "5. Test the trained model (typically using a batch transform job).\n",
    "6. Deploy the trained model.\n",
    "7. Use the deployed model.\n",
    "\n",
    "For this project, you will be following the steps in the general outline with some modifications. \n",
    "\n",
    "First, you will not be testing the model in its own step. You will still be testing the model, however, you will do it by deploying your model and then using the deployed model by sending the test data to it. One of the reasons for doing this is so that you can make sure that your deployed model is working correctly before moving forward.\n",
    "\n",
    "In addition, you will deploy and use your trained model a second time. In the second iteration you will customize the way that your trained model is deployed by including some of your own code. In addition, your newly deployed model will be used in the sentiment analysis web app."
   ]
  },
  {
   "cell_type": "code",
   "execution_count": 54,
   "metadata": {},
   "outputs": [
    {
     "name": "stdout",
     "output_type": "stream",
     "text": [
      "Requirement already satisfied: sagemaker==1.72.0 in /home/ec2-user/anaconda3/envs/pytorch_p36/lib/python3.6/site-packages (1.72.0)\n",
      "Requirement already satisfied: numpy>=1.9.0 in /home/ec2-user/anaconda3/envs/pytorch_p36/lib/python3.6/site-packages (from sagemaker==1.72.0) (1.19.5)\n",
      "Requirement already satisfied: protobuf>=3.1 in /home/ec2-user/anaconda3/envs/pytorch_p36/lib/python3.6/site-packages (from sagemaker==1.72.0) (3.17.2)\n",
      "Requirement already satisfied: importlib-metadata>=1.4.0 in /home/ec2-user/anaconda3/envs/pytorch_p36/lib/python3.6/site-packages (from sagemaker==1.72.0) (4.5.0)\n",
      "Requirement already satisfied: scipy>=0.19.0 in /home/ec2-user/anaconda3/envs/pytorch_p36/lib/python3.6/site-packages (from sagemaker==1.72.0) (1.5.3)\n",
      "Requirement already satisfied: packaging>=20.0 in /home/ec2-user/anaconda3/envs/pytorch_p36/lib/python3.6/site-packages (from sagemaker==1.72.0) (21.3)\n",
      "Requirement already satisfied: boto3>=1.14.12 in /home/ec2-user/anaconda3/envs/pytorch_p36/lib/python3.6/site-packages (from sagemaker==1.72.0) (1.21.11)\n",
      "Requirement already satisfied: smdebug-rulesconfig==0.1.4 in /home/ec2-user/anaconda3/envs/pytorch_p36/lib/python3.6/site-packages (from sagemaker==1.72.0) (0.1.4)\n",
      "Requirement already satisfied: protobuf3-to-dict>=0.1.5 in /home/ec2-user/anaconda3/envs/pytorch_p36/lib/python3.6/site-packages (from sagemaker==1.72.0) (0.1.5)\n",
      "Requirement already satisfied: jmespath<1.0.0,>=0.7.1 in /home/ec2-user/anaconda3/envs/pytorch_p36/lib/python3.6/site-packages (from boto3>=1.14.12->sagemaker==1.72.0) (0.10.0)\n",
      "Requirement already satisfied: botocore<1.25.0,>=1.24.11 in /home/ec2-user/anaconda3/envs/pytorch_p36/lib/python3.6/site-packages (from boto3>=1.14.12->sagemaker==1.72.0) (1.24.11)\n",
      "Requirement already satisfied: s3transfer<0.6.0,>=0.5.0 in /home/ec2-user/anaconda3/envs/pytorch_p36/lib/python3.6/site-packages (from boto3>=1.14.12->sagemaker==1.72.0) (0.5.0)\n",
      "Requirement already satisfied: zipp>=0.5 in /home/ec2-user/anaconda3/envs/pytorch_p36/lib/python3.6/site-packages (from importlib-metadata>=1.4.0->sagemaker==1.72.0) (3.4.1)\n",
      "Requirement already satisfied: typing-extensions>=3.6.4 in /home/ec2-user/anaconda3/envs/pytorch_p36/lib/python3.6/site-packages (from importlib-metadata>=1.4.0->sagemaker==1.72.0) (3.10.0.0)\n",
      "Requirement already satisfied: pyparsing!=3.0.5,>=2.0.2 in /home/ec2-user/anaconda3/envs/pytorch_p36/lib/python3.6/site-packages (from packaging>=20.0->sagemaker==1.72.0) (2.4.7)\n",
      "Requirement already satisfied: six>=1.9 in /home/ec2-user/anaconda3/envs/pytorch_p36/lib/python3.6/site-packages (from protobuf>=3.1->sagemaker==1.72.0) (1.16.0)\n",
      "Requirement already satisfied: python-dateutil<3.0.0,>=2.1 in /home/ec2-user/anaconda3/envs/pytorch_p36/lib/python3.6/site-packages (from botocore<1.25.0,>=1.24.11->boto3>=1.14.12->sagemaker==1.72.0) (2.8.1)\n",
      "Requirement already satisfied: urllib3<1.27,>=1.25.4 in /home/ec2-user/anaconda3/envs/pytorch_p36/lib/python3.6/site-packages (from botocore<1.25.0,>=1.24.11->boto3>=1.14.12->sagemaker==1.72.0) (1.26.8)\n"
     ]
    }
   ],
   "source": [
    "# Make sure that we use SageMaker 1.x\n",
    "!pip install sagemaker==1.72.0"
   ]
  },
  {
   "cell_type": "markdown",
   "metadata": {},
   "source": [
    "## Step 1: Downloading the data\n",
    "\n",
    "As in the XGBoost in SageMaker notebook, we will be using the [IMDb dataset](http://ai.stanford.edu/~amaas/data/sentiment/)\n",
    "\n",
    "> Maas, Andrew L., et al. [Learning Word Vectors for Sentiment Analysis](http://ai.stanford.edu/~amaas/data/sentiment/). In _Proceedings of the 49th Annual Meeting of the Association for Computational Linguistics: Human Language Technologies_. Association for Computational Linguistics, 2011."
   ]
  },
  {
   "cell_type": "code",
   "execution_count": 55,
   "metadata": {},
   "outputs": [
    {
     "name": "stdout",
     "output_type": "stream",
     "text": [
      "mkdir: cannot create directory ‘../data’: File exists\n",
      "--2022-03-10 09:22:01--  http://ai.stanford.edu/~amaas/data/sentiment/aclImdb_v1.tar.gz\n",
      "Resolving ai.stanford.edu (ai.stanford.edu)... 171.64.68.10\n",
      "Connecting to ai.stanford.edu (ai.stanford.edu)|171.64.68.10|:80... connected.\n",
      "HTTP request sent, awaiting response... 200 OK\n",
      "Length: 84125825 (80M) [application/x-gzip]\n",
      "Saving to: ‘../data/aclImdb_v1.tar.gz’\n",
      "\n",
      "../data/aclImdb_v1. 100%[===================>]  80.23M  22.9MB/s    in 6.3s    \n",
      "\n",
      "2022-03-10 09:22:07 (12.8 MB/s) - ‘../data/aclImdb_v1.tar.gz’ saved [84125825/84125825]\n",
      "\n"
     ]
    }
   ],
   "source": [
    "%mkdir ../data\n",
    "!wget -O ../data/aclImdb_v1.tar.gz http://ai.stanford.edu/~amaas/data/sentiment/aclImdb_v1.tar.gz\n",
    "!tar -zxf ../data/aclImdb_v1.tar.gz -C ../data"
   ]
  },
  {
   "cell_type": "markdown",
   "metadata": {},
   "source": [
    "## Step 2: Preparing and Processing the data\n",
    "\n",
    "Also, as in the XGBoost notebook, we will be doing some initial data processing. The first few steps are the same as in the XGBoost example. To begin with, we will read in each of the reviews and combine them into a single input structure. Then, we will split the dataset into a training set and a testing set."
   ]
  },
  {
   "cell_type": "code",
   "execution_count": 56,
   "metadata": {},
   "outputs": [],
   "source": [
    "import os\n",
    "import glob\n",
    "\n",
    "def read_imdb_data(data_dir='../data/aclImdb'):\n",
    "    data = {}\n",
    "    labels = {}\n",
    "    \n",
    "    for data_type in ['train', 'test']:\n",
    "        data[data_type] = {}\n",
    "        labels[data_type] = {}\n",
    "        \n",
    "        for sentiment in ['pos', 'neg']:\n",
    "            data[data_type][sentiment] = []\n",
    "            labels[data_type][sentiment] = []\n",
    "            \n",
    "            path = os.path.join(data_dir, data_type, sentiment, '*.txt')\n",
    "            files = glob.glob(path)\n",
    "            \n",
    "            for f in files:\n",
    "                with open(f) as review:\n",
    "                    data[data_type][sentiment].append(review.read())\n",
    "                    # Here we represent a positive review by '1' and a negative review by '0'\n",
    "                    labels[data_type][sentiment].append(1 if sentiment == 'pos' else 0)\n",
    "                    \n",
    "            assert len(data[data_type][sentiment]) == len(labels[data_type][sentiment]), \\\n",
    "                    \"{}/{} data size does not match labels size\".format(data_type, sentiment)\n",
    "                \n",
    "    return data, labels"
   ]
  },
  {
   "cell_type": "code",
   "execution_count": 57,
   "metadata": {},
   "outputs": [
    {
     "name": "stdout",
     "output_type": "stream",
     "text": [
      "IMDB reviews: train = 12500 pos / 12500 neg, test = 12500 pos / 12500 neg\n"
     ]
    }
   ],
   "source": [
    "data, labels = read_imdb_data()\n",
    "print(\"IMDB reviews: train = {} pos / {} neg, test = {} pos / {} neg\".format(\n",
    "            len(data['train']['pos']), len(data['train']['neg']),\n",
    "            len(data['test']['pos']), len(data['test']['neg'])))"
   ]
  },
  {
   "cell_type": "markdown",
   "metadata": {},
   "source": [
    "Now that we've read the raw training and testing data from the downloaded dataset, we will combine the positive and negative reviews and shuffle the resulting records."
   ]
  },
  {
   "cell_type": "code",
   "execution_count": 58,
   "metadata": {},
   "outputs": [],
   "source": [
    "from sklearn.utils import shuffle\n",
    "\n",
    "def prepare_imdb_data(data, labels):\n",
    "    \"\"\"Prepare training and test sets from IMDb movie reviews.\"\"\"\n",
    "    \n",
    "    #Combine positive and negative reviews and labels\n",
    "    data_train = data['train']['pos'] + data['train']['neg']\n",
    "    data_test = data['test']['pos'] + data['test']['neg']\n",
    "    labels_train = labels['train']['pos'] + labels['train']['neg']\n",
    "    labels_test = labels['test']['pos'] + labels['test']['neg']\n",
    "    \n",
    "    #Shuffle reviews and corresponding labels within training and test sets\n",
    "    data_train, labels_train = shuffle(data_train, labels_train)\n",
    "    data_test, labels_test = shuffle(data_test, labels_test)\n",
    "    \n",
    "    # Return a unified training data, test data, training labels, test labets\n",
    "    return data_train, data_test, labels_train, labels_test"
   ]
  },
  {
   "cell_type": "code",
   "execution_count": 59,
   "metadata": {},
   "outputs": [
    {
     "name": "stdout",
     "output_type": "stream",
     "text": [
      "IMDb reviews (combined): train = 25000, test = 25000\n"
     ]
    }
   ],
   "source": [
    "train_X, test_X, train_y, test_y = prepare_imdb_data(data, labels)\n",
    "print(\"IMDb reviews (combined): train = {}, test = {}\".format(len(train_X), len(test_X)))"
   ]
  },
  {
   "cell_type": "markdown",
   "metadata": {},
   "source": [
    "Now that we have our training and testing sets unified and prepared, we should do a quick check and see an example of the data our model will be trained on. This is generally a good idea as it allows you to see how each of the further processing steps affects the reviews and it also ensures that the data has been loaded correctly."
   ]
  },
  {
   "cell_type": "code",
   "execution_count": 60,
   "metadata": {},
   "outputs": [
    {
     "name": "stdout",
     "output_type": "stream",
     "text": [
      "This film is pretty poor. The acting is abysmal and completely forced. Furthermore, by shooting the film as a docudrama doesn't necessarily make it more believable, you can't get out of it that easily Mr Dir. Don't let my comments mislead you however, as i would recommend you watch this film, as it does shed some light on the psychology or non existent psychology behind the perpetrators of such crimes. However, the climax of the film is absolutely rubbish! There is no other way to put it! It pure and simply fails to capture any sense of atmosphere! What takes place does not translate to me any feelings of desperation, panic, fear or dread that one would surely experience in such terrifying circumstances. No instead it leaves you with jaw dropping \"Was that it?!\" spilling from your tongue, and by no means are you haunted by these boys actions. Rather you just feel embarrassed for yet another film that started with potential, but ended up falling flat on its face at the most crucial point.Zero Day indeed....zzzzzzzzzzzzz\n",
      "0\n"
     ]
    }
   ],
   "source": [
    "print(train_X[100])\n",
    "print(train_y[100])"
   ]
  },
  {
   "cell_type": "markdown",
   "metadata": {},
   "source": [
    "The first step in processing the reviews is to make sure that any html tags that appear should be removed. In addition we wish to tokenize our input, that way words such as *entertained* and *entertaining* are considered the same with regard to sentiment analysis."
   ]
  },
  {
   "cell_type": "code",
   "execution_count": 61,
   "metadata": {},
   "outputs": [],
   "source": [
    "import nltk\n",
    "from nltk.corpus import stopwords\n",
    "from nltk.stem.porter import *\n",
    "\n",
    "import re\n",
    "from bs4 import BeautifulSoup\n",
    "\n",
    "def review_to_words(review):\n",
    "    nltk.download(\"stopwords\", quiet=True)\n",
    "    stemmer = PorterStemmer()\n",
    "    \n",
    "    text = BeautifulSoup(review, \"html.parser\").get_text() # Remove HTML tags\n",
    "    text = re.sub(r\"[^a-zA-Z0-9]\", \" \", text.lower()) # Convert to lower case\n",
    "    words = text.split() # Split string into words\n",
    "    words = [w for w in words if w not in stopwords.words(\"english\")] # Remove stopwords\n",
    "    words = [PorterStemmer().stem(w) for w in words] # stem\n",
    "    \n",
    "    return words"
   ]
  },
  {
   "cell_type": "markdown",
   "metadata": {},
   "source": [
    "The `review_to_words` method defined above uses `BeautifulSoup` to remove any html tags that appear and uses the `nltk` package to tokenize the reviews. As a check to ensure we know how everything is working, try applying `review_to_words` to one of the reviews in the training set."
   ]
  },
  {
   "cell_type": "code",
   "execution_count": 62,
   "metadata": {},
   "outputs": [
    {
     "data": {
      "text/plain": [
       "['film',\n",
       " 'pretti',\n",
       " 'poor',\n",
       " 'act',\n",
       " 'abysm',\n",
       " 'complet',\n",
       " 'forc',\n",
       " 'furthermor',\n",
       " 'shoot',\n",
       " 'film',\n",
       " 'docudrama',\n",
       " 'necessarili',\n",
       " 'make',\n",
       " 'believ',\n",
       " 'get',\n",
       " 'easili',\n",
       " 'mr',\n",
       " 'dir',\n",
       " 'let',\n",
       " 'comment',\n",
       " 'mislead',\n",
       " 'howev',\n",
       " 'would',\n",
       " 'recommend',\n",
       " 'watch',\n",
       " 'film',\n",
       " 'shed',\n",
       " 'light',\n",
       " 'psycholog',\n",
       " 'non',\n",
       " 'exist',\n",
       " 'psycholog',\n",
       " 'behind',\n",
       " 'perpetr',\n",
       " 'crime',\n",
       " 'howev',\n",
       " 'climax',\n",
       " 'film',\n",
       " 'absolut',\n",
       " 'rubbish',\n",
       " 'way',\n",
       " 'put',\n",
       " 'pure',\n",
       " 'simpli',\n",
       " 'fail',\n",
       " 'captur',\n",
       " 'sens',\n",
       " 'atmospher',\n",
       " 'take',\n",
       " 'place',\n",
       " 'translat',\n",
       " 'feel',\n",
       " 'desper',\n",
       " 'panic',\n",
       " 'fear',\n",
       " 'dread',\n",
       " 'one',\n",
       " 'would',\n",
       " 'sure',\n",
       " 'experi',\n",
       " 'terrifi',\n",
       " 'circumst',\n",
       " 'instead',\n",
       " 'leav',\n",
       " 'jaw',\n",
       " 'drop',\n",
       " 'spill',\n",
       " 'tongu',\n",
       " 'mean',\n",
       " 'haunt',\n",
       " 'boy',\n",
       " 'action',\n",
       " 'rather',\n",
       " 'feel',\n",
       " 'embarrass',\n",
       " 'yet',\n",
       " 'anoth',\n",
       " 'film',\n",
       " 'start',\n",
       " 'potenti',\n",
       " 'end',\n",
       " 'fall',\n",
       " 'flat',\n",
       " 'face',\n",
       " 'crucial',\n",
       " 'point',\n",
       " 'zero',\n",
       " 'day',\n",
       " 'inde',\n",
       " 'zzzzzzzzzzzzz']"
      ]
     },
     "execution_count": 62,
     "metadata": {},
     "output_type": "execute_result"
    }
   ],
   "source": [
    "# TODO: Apply review_to_words to a review (train_X[100] or any other review)\n",
    "review_to_words(train_X[100])"
   ]
  },
  {
   "cell_type": "markdown",
   "metadata": {},
   "source": [
    "**Question:** Above we mentioned that `review_to_words` method removes html formatting and allows us to tokenize the words found in a review, for example, converting *entertained* and *entertaining* into *entertain* so that they are treated as though they are the same word. What else, if anything, does this method do to the input?"
   ]
  },
  {
   "cell_type": "markdown",
   "metadata": {},
   "source": [
    "**Answer:**\n",
    "\n",
    "The review_to_words mainly leverage two libraries to turn the review to words. These are:\n",
    "- NLTK (Natural Language Tool Kit)\n",
    "- Beautifulsoup\n",
    "\n",
    "In a nutshell, it first downloads the stopwords, and then removes HTML tags, converts all texts to lower case, split the string into words, remove any stopwords, and finally stems it (for example, change, changing, changes, changed, changer will be converted to ‘chang’), return the words."
   ]
  },
  {
   "cell_type": "markdown",
   "metadata": {},
   "source": [
    "The method below applies the `review_to_words` method to each of the reviews in the training and testing datasets. In addition it caches the results. This is because performing this processing step can take a long time. This way if you are unable to complete the notebook in the current session, you can come back without needing to process the data a second time."
   ]
  },
  {
   "cell_type": "code",
   "execution_count": 63,
   "metadata": {},
   "outputs": [],
   "source": [
    "import pickle\n",
    "\n",
    "cache_dir = os.path.join(\"../cache\", \"sentiment_analysis\")  # where to store cache files\n",
    "os.makedirs(cache_dir, exist_ok=True)  # ensure cache directory exists\n",
    "\n",
    "def preprocess_data(data_train, data_test, labels_train, labels_test,\n",
    "                    cache_dir=cache_dir, cache_file=\"preprocessed_data.pkl\"):\n",
    "    \"\"\"Convert each review to words; read from cache if available.\"\"\"\n",
    "\n",
    "    # If cache_file is not None, try to read from it first\n",
    "    cache_data = None\n",
    "    if cache_file is not None:\n",
    "        try:\n",
    "            with open(os.path.join(cache_dir, cache_file), \"rb\") as f:\n",
    "                cache_data = pickle.load(f)\n",
    "            print(\"Read preprocessed data from cache file:\", cache_file)\n",
    "        except:\n",
    "            pass  # unable to read from cache, but that's okay\n",
    "    \n",
    "    # If cache is missing, then do the heavy lifting\n",
    "    if cache_data is None:\n",
    "        # Preprocess training and test data to obtain words for each review\n",
    "        #words_train = list(map(review_to_words, data_train))\n",
    "        #words_test = list(map(review_to_words, data_test))\n",
    "        words_train = [review_to_words(review) for review in data_train]\n",
    "        words_test = [review_to_words(review) for review in data_test]\n",
    "        \n",
    "        # Write to cache file for future runs\n",
    "        if cache_file is not None:\n",
    "            cache_data = dict(words_train=words_train, words_test=words_test,\n",
    "                              labels_train=labels_train, labels_test=labels_test)\n",
    "            with open(os.path.join(cache_dir, cache_file), \"wb\") as f:\n",
    "                pickle.dump(cache_data, f)\n",
    "            print(\"Wrote preprocessed data to cache file:\", cache_file)\n",
    "    else:\n",
    "        # Unpack data loaded from cache file\n",
    "        words_train, words_test, labels_train, labels_test = (cache_data['words_train'],\n",
    "                cache_data['words_test'], cache_data['labels_train'], cache_data['labels_test'])\n",
    "    \n",
    "    return words_train, words_test, labels_train, labels_test"
   ]
  },
  {
   "cell_type": "code",
   "execution_count": 64,
   "metadata": {},
   "outputs": [
    {
     "name": "stdout",
     "output_type": "stream",
     "text": [
      "Read preprocessed data from cache file: preprocessed_data.pkl\n"
     ]
    }
   ],
   "source": [
    "# Preprocess data\n",
    "train_X, test_X, train_y, test_y = preprocess_data(train_X, test_X, train_y, test_y)"
   ]
  },
  {
   "cell_type": "markdown",
   "metadata": {},
   "source": [
    "## Transform the data\n",
    "\n",
    "In the XGBoost notebook we transformed the data from its word representation to a bag-of-words feature representation. For the model we are going to construct in this notebook we will construct a feature representation which is very similar. To start, we will represent each word as an integer. Of course, some of the words that appear in the reviews occur very infrequently and so likely don't contain much information for the purposes of sentiment analysis. The way we will deal with this problem is that we will fix the size of our working vocabulary and we will only include the words that appear most frequently. We will then combine all of the infrequent words into a single category and, in our case, we will label it as `1`.\n",
    "\n",
    "Since we will be using a recurrent neural network, it will be convenient if the length of each review is the same. To do this, we will fix a size for our reviews and then pad short reviews with the category 'no word' (which we will label `0`) and truncate long reviews."
   ]
  },
  {
   "cell_type": "markdown",
   "metadata": {},
   "source": [
    "### (TODO) Create a word dictionary\n",
    "\n",
    "To begin with, we need to construct a way to map words that appear in the reviews to integers. Here we fix the size of our vocabulary (including the 'no word' and 'infrequent' categories) to be `5000` but you may wish to change this to see how it affects the model.\n",
    "\n",
    "> **TODO:** Complete the implementation for the `build_dict()` method below. Note that even though the vocab_size is set to `5000`, we only want to construct a mapping for the most frequently appearing `4998` words. This is because we want to reserve the special labels `0` for 'no word' and `1` for 'infrequent word'."
   ]
  },
  {
   "cell_type": "code",
   "execution_count": 65,
   "metadata": {},
   "outputs": [
    {
     "name": "stdout",
     "output_type": "stream",
     "text": [
      "25000\n",
      "<class 'list'>\n",
      "['seen', 'first', 'ten', 'episod', 'must', 'say', 'show', 'suck', 'bother', 'show', 'shot', 'canada', 'know', 'cheaper', 'shot', 'california', 'could', 'scene', 'desert', 'would', 'true', 'movi', 'first', 'scene', 'outsid', 'anoth', 'world', 'mountain', 'lot', 'pinetre', 'look', 'cold', 'nt', 'feel', 'egyptian', 'work', 'well', 'movi', 'felt', 'like', 'ancient', 'egypt', 'feel', 'like', 'run', 'around', 'fight', 'alien', 'canadian', 'forrest', 'lame', 'appaerantli', 'planet', 'fall', 'come', 'well', 'see', 'leav', 'ground', 'forrest', 'look', 'like', 'forrest', 'outsid', 'vancouv', 'make', 'show', 'even', 'unbeliev', 'dumb', 'richard', 'dean', 'anderson', 'kurt', 'russel', 'sure', 'decent', 'job', 'tri', 'copi', 'russel', 'perform', 'littl', 'bit', 'cool', 'russel', 'nearli', 'good', 'actor', 'russel', 'russel', 'way', 'play', 'neill', 'well', 'much', 'cynic', 'anderson', 'neil', 'way', 'soft', 'like', 'russel', 'version', 'nt', 'give', 'troubl', 'deton', 'bomb', 'end', 'movi', 'michael', 'shank', 'realli', 'good', 'job', 'jackson', 'though', 'take', 'jame', 'spader', 'teal', 'c', 'realli', 'annoy', 'charact', 'jaffa', 'jaffa', 'jaffa', 'aaaarrgh', 'former', 'bodyguard', 'pathet', 'ra', 'charact', 'seen', 'pilot', 'one', 'episod', 'far', 'teal', 'c', 'speak', 'talk', 'act', 'like', 'robot', 'seen', 'better', 'act', 'jean', 'claud', 'van', 'damm', 'fact', 'teal', 'c', 'ra', 'charact', 'peopl', 'save', 'movi', 'speak', 'english', 'sudden', 'also', 'incred', 'dumb', 'made', 'alien', 'scari', 'movi', 'spoke', 'ancient', 'languag', 'real', 'monster', 'special', 'effect', 'realli', 'good', 'pilot', 'rare', 'effect', 'actual', 'show', 'badli', 'done', 'look', 'cheap', 'especi', 'planet', 'visit', 'crystal', 'obviou', 'walk', 'around', 'soundstag', 'badli', 'made', 'paint', 'background', 'insult', 'us', 'viewer', 'made', 'look', 'cheap', 'especi', 'could', 'made', 'front', 'bluescreen', 'cgi', 'background', 'x', 'file', 'better', 'effect', 'air', 'first', 'episod', '1993', '4', 'year', 'sg', '1', 'start', 'nt', 'appar', 'two', 'million', 'dollar', 'budget', 'per', 'episod', 'sg', '1', 'supposedli', 'must', 'spend', 'money', 'cater', 'see', 'screen', 'incred', 'bore', 'pointless', 'show', 'could', 'great', 'shot', 'show', 'hollywood', 'bigger', 'budget', 'better', 'writer', 'better', 'charact']\n"
     ]
    }
   ],
   "source": [
    "# Take a look at the data\n",
    "\n",
    "print(len(train_X))\n",
    "print(type(train_X))\n",
    "print(train_X[0])"
   ]
  },
  {
   "cell_type": "code",
   "execution_count": 66,
   "metadata": {},
   "outputs": [],
   "source": [
    "import numpy as np\n",
    "\n",
    "def build_dict(data, vocab_size = 5000):\n",
    "    \"\"\"Construct and return a dictionary mapping each of the most frequently appearing words to a unique integer.\"\"\"\n",
    "    \n",
    "    # TODO: Determine how often each word appears in `data`. Note that `data` is a list of sentences and that a\n",
    "    #       sentence is a list of words.\n",
    "    \n",
    "    word_count = {} # A dict storing the words that appear in the reviews along with how often they occur\n",
    "    \n",
    "    for i in range(len(data)):\n",
    "        for w in data[i]:\n",
    "            if w not in word_count:\n",
    "                word_count[w] = 1\n",
    "            else:\n",
    "                word_count[w] += 1\n",
    "    \n",
    "    # TODO: Sort the words found in `data` so that sorted_words[0] is the most frequently appearing word and\n",
    "    #       sorted_words[-1] is the least frequently appearing word.\n",
    "    \n",
    "    sorted_dict = sorted(word_count.items(), key=lambda x: x[1], reverse=True)\n",
    "    \n",
    "    sorted_words = [item[0] for item in sorted_dict]\n",
    "    \n",
    "    word_dict = {} # This is what we are building, a dictionary that translates words into integers\n",
    "    for idx, word in enumerate(sorted_words[:vocab_size - 2]): # The -2 is so that we save room for the 'no word'\n",
    "        #print(word, idx)\n",
    "        word_dict[word] = idx + 2                              # 'infrequent' labels\n",
    "        \n",
    "    return word_dict"
   ]
  },
  {
   "cell_type": "code",
   "execution_count": 67,
   "metadata": {},
   "outputs": [
    {
     "name": "stdout",
     "output_type": "stream",
     "text": [
      "{'movi': 2, 'film': 3, 'one': 4, 'like': 5, 'time': 6, 'good': 7, 'make': 8, 'charact': 9, 'get': 10, 'see': 11, 'watch': 12, 'stori': 13, 'even': 14, 'would': 15, 'realli': 16, 'well': 17, 'scene': 18, 'look': 19, 'show': 20, 'much': 21, 'end': 22, 'peopl': 23, 'bad': 24, 'go': 25, 'great': 26, 'also': 27, 'first': 28, 'love': 29, 'think': 30, 'way': 31, 'act': 32, 'play': 33, 'made': 34, 'thing': 35, 'could': 36, 'know': 37, 'say': 38, 'seem': 39, 'work': 40, 'plot': 41, 'two': 42, 'actor': 43, 'year': 44, 'come': 45, 'mani': 46, 'seen': 47, 'take': 48, 'want': 49, 'life': 50, 'never': 51, 'littl': 52, 'best': 53, 'tri': 54, 'man': 55, 'ever': 56, 'give': 57, 'better': 58, 'still': 59, 'perform': 60, 'find': 61, 'feel': 62, 'part': 63, 'back': 64, 'use': 65, 'someth': 66, 'director': 67, 'actual': 68, 'interest': 69, 'lot': 70, 'real': 71, 'old': 72, 'cast': 73, 'though': 74, 'live': 75, 'star': 76, 'enjoy': 77, 'guy': 78, 'anoth': 79, 'new': 80, 'role': 81, 'noth': 82, '10': 83, 'funni': 84, 'music': 85, 'point': 86, 'start': 87, 'set': 88, 'girl': 89, 'origin': 90, 'day': 91, 'world': 92, 'everi': 93, 'believ': 94, 'turn': 95, 'quit': 96, 'us': 97, 'direct': 98, 'thought': 99, 'fact': 100, 'minut': 101, 'horror': 102, 'kill': 103, 'action': 104, 'comedi': 105, 'pretti': 106, 'young': 107, 'wonder': 108, 'happen': 109, 'around': 110, 'got': 111, 'effect': 112, 'right': 113, 'long': 114, 'howev': 115, 'big': 116, 'line': 117, 'famili': 118, 'enough': 119, 'seri': 120, 'may': 121, 'need': 122, 'fan': 123, 'bit': 124, 'script': 125, 'beauti': 126, 'person': 127, 'becom': 128, 'without': 129, 'must': 130, 'alway': 131, 'friend': 132, 'tell': 133, 'reason': 134, 'saw': 135, 'last': 136, 'final': 137, 'kid': 138, 'almost': 139, 'put': 140, 'least': 141, 'sure': 142, 'done': 143, 'whole': 144, 'place': 145, 'complet': 146, 'kind': 147, 'differ': 148, 'expect': 149, 'shot': 150, 'far': 151, 'mean': 152, 'anyth': 153, 'book': 154, 'laugh': 155, 'might': 156, 'name': 157, 'sinc': 158, 'begin': 159, '2': 160, 'probabl': 161, 'woman': 162, 'help': 163, 'entertain': 164, 'let': 165, 'screen': 166, 'call': 167, 'tv': 168, 'moment': 169, 'away': 170, 'read': 171, 'yet': 172, 'rather': 173, 'worst': 174, 'run': 175, 'fun': 176, 'lead': 177, 'hard': 178, 'audienc': 179, 'idea': 180, 'anyon': 181, 'episod': 182, 'american': 183, 'found': 184, 'appear': 185, 'bore': 186, 'especi': 187, 'although': 188, 'hope': 189, 'cours': 190, 'keep': 191, 'anim': 192, 'job': 193, 'goe': 194, 'move': 195, 'sens': 196, 'version': 197, 'dvd': 198, 'war': 199, 'money': 200, 'someon': 201, 'mind': 202, 'mayb': 203, 'problem': 204, 'true': 205, 'hous': 206, 'everyth': 207, 'nice': 208, 'second': 209, 'rate': 210, 'three': 211, 'night': 212, 'follow': 213, 'face': 214, 'recommend': 215, 'main': 216, 'product': 217, 'worth': 218, 'leav': 219, 'human': 220, 'special': 221, 'excel': 222, 'togeth': 223, 'wast': 224, 'everyon': 225, 'sound': 226, 'john': 227, 'hand': 228, '1': 229, 'father': 230, 'later': 231, 'eye': 232, 'said': 233, 'view': 234, 'instead': 235, 'review': 236, 'boy': 237, 'high': 238, 'hour': 239, 'miss': 240, 'talk': 241, 'classic': 242, 'wife': 243, 'understand': 244, 'left': 245, 'care': 246, 'black': 247, 'death': 248, 'open': 249, 'murder': 250, 'write': 251, 'half': 252, 'head': 253, 'rememb': 254, 'chang': 255, 'viewer': 256, 'fight': 257, 'gener': 258, 'surpris': 259, 'includ': 260, 'short': 261, 'die': 262, 'fall': 263, 'less': 264, 'els': 265, 'entir': 266, 'piec': 267, 'involv': 268, 'pictur': 269, 'simpli': 270, 'top': 271, 'power': 272, 'home': 273, 'total': 274, 'usual': 275, 'budget': 276, 'attempt': 277, 'suppos': 278, 'releas': 279, 'hollywood': 280, 'terribl': 281, 'song': 282, 'men': 283, 'possibl': 284, 'featur': 285, 'portray': 286, 'disappoint': 287, 'poor': 288, '3': 289, 'coupl': 290, 'stupid': 291, 'camera': 292, 'dead': 293, 'wrong': 294, 'produc': 295, 'low': 296, 'either': 297, 'video': 298, 'aw': 299, 'definit': 300, 'except': 301, 'rest': 302, 'given': 303, 'absolut': 304, 'women': 305, 'lack': 306, 'word': 307, 'writer': 308, 'titl': 309, 'talent': 310, 'decid': 311, 'full': 312, 'perfect': 313, 'along': 314, 'style': 315, 'close': 316, 'truli': 317, 'school': 318, 'save': 319, 'emot': 320, 'age': 321, 'sex': 322, 'next': 323, 'bring': 324, 'mr': 325, 'case': 326, 'killer': 327, 'heart': 328, 'comment': 329, 'sort': 330, 'creat': 331, 'perhap': 332, 'came': 333, 'brother': 334, 'sever': 335, 'joke': 336, 'art': 337, 'dialogu': 338, 'game': 339, 'small': 340, 'base': 341, 'flick': 342, 'written': 343, 'sequenc': 344, 'meet': 345, 'earli': 346, 'often': 347, 'other': 348, 'mother': 349, 'develop': 350, 'humor': 351, 'actress': 352, 'consid': 353, 'dark': 354, 'guess': 355, 'amaz': 356, 'unfortun': 357, 'light': 358, 'lost': 359, 'exampl': 360, 'cinema': 361, 'drama': 362, 'white': 363, 'ye': 364, 'experi': 365, 'imagin': 366, 'mention': 367, 'stop': 368, 'natur': 369, 'forc': 370, 'manag': 371, 'felt': 372, 'present': 373, 'cut': 374, 'children': 375, 'fail': 376, 'son': 377, 'support': 378, 'qualiti': 379, 'car': 380, 'ask': 381, 'hit': 382, 'side': 383, 'voic': 384, 'extrem': 385, 'impress': 386, 'evil': 387, 'wors': 388, 'stand': 389, 'went': 390, 'certainli': 391, 'basic': 392, 'oh': 393, 'overal': 394, 'favorit': 395, 'horribl': 396, 'mysteri': 397, 'number': 398, 'type': 399, 'danc': 400, 'wait': 401, 'hero': 402, '5': 403, 'alreadi': 404, 'learn': 405, 'matter': 406, '4': 407, 'michael': 408, 'genr': 409, 'fine': 410, 'despit': 411, 'throughout': 412, 'walk': 413, 'success': 414, 'histori': 415, 'question': 416, 'zombi': 417, 'town': 418, 'realiz': 419, 'relationship': 420, 'child': 421, 'past': 422, 'daughter': 423, 'late': 424, 'b': 425, 'wish': 426, 'credit': 427, 'hate': 428, 'event': 429, 'theme': 430, 'touch': 431, 'citi': 432, 'today': 433, 'sometim': 434, 'behind': 435, 'god': 436, 'twist': 437, 'sit': 438, 'annoy': 439, 'deal': 440, 'stay': 441, 'abl': 442, 'rent': 443, 'pleas': 444, 'edit': 445, 'blood': 446, 'deserv': 447, 'comic': 448, 'anyway': 449, 'appar': 450, 'soon': 451, 'gave': 452, 'etc': 453, 'level': 454, 'slow': 455, 'chanc': 456, 'score': 457, 'bodi': 458, 'brilliant': 459, 'incred': 460, 'figur': 461, 'situat': 462, 'self': 463, 'major': 464, 'stuff': 465, 'decent': 466, 'element': 467, 'dream': 468, 'return': 469, 'obvious': 470, 'continu': 471, 'order': 472, 'pace': 473, 'ridicul': 474, 'happi': 475, 'group': 476, 'highli': 477, 'add': 478, 'thank': 479, 'ladi': 480, 'novel': 481, 'speak': 482, 'pain': 483, 'career': 484, 'shoot': 485, 'strang': 486, 'heard': 487, 'sad': 488, 'husband': 489, 'polic': 490, 'import': 491, 'break': 492, 'took': 493, 'cannot': 494, 'strong': 495, 'predict': 496, 'robert': 497, 'violenc': 498, 'hilari': 499, 'recent': 500, 'countri': 501, 'known': 502, 'particularli': 503, 'pick': 504, 'documentari': 505, 'season': 506, 'critic': 507, 'jame': 508, 'compar': 509, 'obviou': 510, 'alon': 511, 'told': 512, 'state': 513, 'visual': 514, 'rock': 515, 'exist': 516, 'offer': 517, 'theater': 518, 'opinion': 519, 'gore': 520, 'hold': 521, 'crap': 522, 'result': 523, 'room': 524, 'hear': 525, 'realiti': 526, 'effort': 527, 'clich': 528, 'thriller': 529, 'caus': 530, 'sequel': 531, 'serious': 532, 'explain': 533, 'king': 534, 'local': 535, 'ago': 536, 'none': 537, 'hell': 538, 'note': 539, 'allow': 540, 'david': 541, 'sister': 542, 'simpl': 543, 'femal': 544, 'deliv': 545, 'ok': 546, 'class': 547, 'convinc': 548, 'check': 549, 'suspens': 550, 'win': 551, 'oscar': 552, 'buy': 553, 'huge': 554, 'valu': 555, 'sexual': 556, 'cool': 557, 'scari': 558, 'excit': 559, 'similar': 560, 'exactli': 561, 'apart': 562, 'provid': 563, 'shown': 564, 'avoid': 565, 'seriou': 566, 'english': 567, 'taken': 568, 'whose': 569, 'cinematographi': 570, 'shock': 571, 'polit': 572, 'spoiler': 573, 'offic': 574, 'across': 575, 'middl': 576, 'street': 577, 'pass': 578, 'messag': 579, 'charm': 580, 'silli': 581, 'somewhat': 582, 'modern': 583, 'confus': 584, 'filmmak': 585, 'form': 586, 'tale': 587, 'singl': 588, 'jack': 589, 'mostli': 590, 'william': 591, 'carri': 592, 'attent': 593, 'sing': 594, 'five': 595, 'subject': 596, 'richard': 597, 'prove': 598, 'team': 599, 'stage': 600, 'unlik': 601, 'cop': 602, 'georg': 603, 'monster': 604, 'televis': 605, 'earth': 606, 'villain': 607, 'cover': 608, 'pay': 609, 'marri': 610, 'toward': 611, 'build': 612, 'parent': 613, 'pull': 614, 'due': 615, 'fill': 616, 'respect': 617, 'four': 618, 'dialog': 619, 'remind': 620, 'futur': 621, 'typic': 622, 'weak': 623, '7': 624, 'cheap': 625, 'intellig': 626, 'british': 627, 'atmospher': 628, 'clearli': 629, '80': 630, 'dog': 631, 'non': 632, 'paul': 633, '8': 634, 'artist': 635, 'fast': 636, 'knew': 637, 'crime': 638, 'easili': 639, 'escap': 640, 'doubt': 641, 'adult': 642, 'detail': 643, 'date': 644, 'fire': 645, 'member': 646, 'romant': 647, 'gun': 648, 'drive': 649, 'straight': 650, 'fit': 651, 'beyond': 652, 'attack': 653, 'imag': 654, 'upon': 655, 'posit': 656, 'whether': 657, 'peter': 658, 'fantast': 659, 'appreci': 660, 'captur': 661, 'aspect': 662, 'ten': 663, 'plan': 664, 'discov': 665, 'remain': 666, 'near': 667, 'period': 668, 'air': 669, 'realist': 670, 'mark': 671, 'red': 672, 'dull': 673, 'adapt': 674, 'within': 675, 'spend': 676, 'lose': 677, 'color': 678, 'materi': 679, 'chase': 680, 'mari': 681, 'storylin': 682, 'forget': 683, 'bunch': 684, 'clear': 685, 'lee': 686, 'victim': 687, 'nearli': 688, 'box': 689, 'york': 690, 'match': 691, 'inspir': 692, 'finish': 693, 'mess': 694, 'standard': 695, 'easi': 696, 'truth': 697, 'busi': 698, 'suffer': 699, 'bill': 700, 'space': 701, 'dramat': 702, 'western': 703, 'e': 704, 'list': 705, 'battl': 706, 'notic': 707, 'de': 708, 'french': 709, 'ad': 710, '9': 711, 'tom': 712, 'larg': 713, 'among': 714, 'eventu': 715, 'train': 716, 'accept': 717, 'agre': 718, 'soundtrack': 719, 'spirit': 720, 'third': 721, 'teenag': 722, 'adventur': 723, 'soldier': 724, 'suggest': 725, 'sorri': 726, 'famou': 727, 'drug': 728, 'normal': 729, 'cri': 730, 'babi': 731, 'troubl': 732, 'ultim': 733, 'contain': 734, 'certain': 735, 'cultur': 736, 'romanc': 737, 'rare': 738, 'lame': 739, 'somehow': 740, 'mix': 741, 'disney': 742, 'gone': 743, 'cartoon': 744, 'student': 745, 'fear': 746, 'reveal': 747, 'suck': 748, 'kept': 749, 'attract': 750, 'appeal': 751, 'premis': 752, 'design': 753, 'secret': 754, 'greatest': 755, 'shame': 756, 'throw': 757, 'copi': 758, 'scare': 759, 'wit': 760, 'america': 761, 'admit': 762, 'particular': 763, 'brought': 764, 'relat': 765, 'screenplay': 766, 'whatev': 767, 'pure': 768, '70': 769, 'averag': 770, 'harri': 771, 'master': 772, 'describ': 773, 'treat': 774, 'male': 775, '20': 776, 'fantasi': 777, 'issu': 778, 'warn': 779, 'inde': 780, 'background': 781, 'forward': 782, 'free': 783, 'project': 784, 'memor': 785, 'japanes': 786, 'poorli': 787, 'award': 788, 'locat': 789, 'amus': 790, 'potenti': 791, 'struggl': 792, 'weird': 793, 'magic': 794, 'societi': 795, 'okay': 796, 'imdb': 797, 'accent': 798, 'doctor': 799, 'hot': 800, 'water': 801, 'alien': 802, 'dr': 803, '30': 804, 'express': 805, 'odd': 806, 'choic': 807, 'crazi': 808, 'fiction': 809, 'studio': 810, 'becam': 811, 'control': 812, 'masterpiec': 813, 'fli': 814, 'difficult': 815, 'joe': 816, 'scream': 817, 'costum': 818, 'lover': 819, 'refer': 820, 'uniqu': 821, 'remak': 822, 'vampir': 823, 'girlfriend': 824, 'prison': 825, 'execut': 826, 'wear': 827, 'jump': 828, 'unless': 829, 'wood': 830, 'creepi': 831, 'cheesi': 832, 'superb': 833, 'otherwis': 834, 'parti': 835, 'ghost': 836, 'roll': 837, 'public': 838, 'mad': 839, 'depict': 840, 'badli': 841, 'earlier': 842, 'jane': 843, 'week': 844, 'moral': 845, 'dumb': 846, 'fi': 847, 'grow': 848, 'flaw': 849, 'deep': 850, 'sci': 851, 'maker': 852, 'cat': 853, 'connect': 854, 'footag': 855, 'older': 856, 'bother': 857, 'plenti': 858, 'outsid': 859, 'stick': 860, 'gay': 861, 'catch': 862, 'plu': 863, 'co': 864, 'popular': 865, 'equal': 866, 'social': 867, 'quickli': 868, 'disturb': 869, 'perfectli': 870, 'dress': 871, '90': 872, 'era': 873, 'mistak': 874, 'lie': 875, 'previou': 876, 'ride': 877, 'combin': 878, 'concept': 879, 'band': 880, 'rich': 881, 'answer': 882, 'surviv': 883, 'front': 884, 'sweet': 885, 'christma': 886, 'insid': 887, 'concern': 888, 'bare': 889, 'eat': 890, 'ben': 891, 'listen': 892, 'beat': 893, 'c': 894, 'term': 895, 'serv': 896, 'meant': 897, 'german': 898, 'la': 899, 'stereotyp': 900, 'hardli': 901, 'law': 902, 'innoc': 903, 'desper': 904, 'memori': 905, 'promis': 906, 'intent': 907, 'cute': 908, 'steal': 909, 'variou': 910, 'inform': 911, 'brain': 912, 'post': 913, 'tone': 914, 'island': 915, 'amount': 916, 'nuditi': 917, 'compani': 918, 'track': 919, 'store': 920, 'claim': 921, 'flat': 922, '50': 923, 'hair': 924, 'univers': 925, 'land': 926, 'fairli': 927, 'kick': 928, 'scott': 929, 'danger': 930, 'player': 931, 'plain': 932, 'crew': 933, 'step': 934, 'toni': 935, 'share': 936, 'tast': 937, 'centuri': 938, 'engag': 939, 'achiev': 940, 'cold': 941, 'travel': 942, 'suit': 943, 'record': 944, 'rip': 945, 'sadli': 946, 'manner': 947, 'spot': 948, 'tension': 949, 'wrote': 950, 'fascin': 951, 'intens': 952, 'familiar': 953, 'depth': 954, 'remark': 955, 'burn': 956, 'histor': 957, 'destroy': 958, 'sleep': 959, 'purpos': 960, 'languag': 961, 'ignor': 962, 'ruin': 963, 'delight': 964, 'unbeliev': 965, 'italian': 966, 'abil': 967, 'soul': 968, 'collect': 969, 'detect': 970, 'clever': 971, 'violent': 972, 'rape': 973, 'reach': 974, 'door': 975, 'scienc': 976, 'liter': 977, 'trash': 978, 'commun': 979, 'caught': 980, 'reveng': 981, 'creatur': 982, 'approach': 983, 'trip': 984, 'fashion': 985, 'intrigu': 986, 'paint': 987, 'introduc': 988, 'skill': 989, 'channel': 990, 'complex': 991, 'camp': 992, 'christian': 993, 'extra': 994, 'hole': 995, 'immedi': 996, 'ann': 997, 'limit': 998, 'mental': 999, 'million': 1000, 'slightli': 1001, '6': 1002, 'comput': 1003, 'mere': 1004, 'conclus': 1005, 'slasher': 1006, 'imposs': 1007, 'suddenli': 1008, 'crimin': 1009, 'neither': 1010, 'teen': 1011, 'spent': 1012, 'nation': 1013, 'physic': 1014, 'respons': 1015, 'planet': 1016, 'fake': 1017, 'receiv': 1018, 'sick': 1019, 'blue': 1020, 'bizarr': 1021, 'embarrass': 1022, 'indian': 1023, 'ring': 1024, '15': 1025, 'pop': 1026, 'drop': 1027, 'drag': 1028, 'haunt': 1029, 'pointless': 1030, 'suspect': 1031, 'edg': 1032, 'search': 1033, 'handl': 1034, 'common': 1035, 'biggest': 1036, 'arriv': 1037, 'hurt': 1038, 'faith': 1039, 'technic': 1040, 'angel': 1041, 'genuin': 1042, 'dad': 1043, 'solid': 1044, 'awesom': 1045, 'f': 1046, 'former': 1047, 'van': 1048, 'colleg': 1049, 'focu': 1050, 'count': 1051, 'heavi': 1052, 'tear': 1053, 'rais': 1054, 'wall': 1055, 'visit': 1056, 'laughabl': 1057, 'younger': 1058, 'sign': 1059, 'fair': 1060, 'excus': 1061, 'cult': 1062, 'key': 1063, 'motion': 1064, 'tough': 1065, 'desir': 1066, 'super': 1067, 'addit': 1068, 'stun': 1069, 'exploit': 1070, 'cloth': 1071, 'tortur': 1072, 'smith': 1073, 'davi': 1074, 'race': 1075, 'cross': 1076, 'author': 1077, 'jim': 1078, 'consist': 1079, 'compel': 1080, 'focus': 1081, 'minor': 1082, 'pathet': 1083, 'chemistri': 1084, 'commit': 1085, 'park': 1086, 'tradit': 1087, 'frank': 1088, 'obsess': 1089, 'grade': 1090, '60': 1091, 'asid': 1092, 'brutal': 1093, 'steve': 1094, 'somewher': 1095, 'opportun': 1096, 'u': 1097, 'grant': 1098, 'explor': 1099, 'rule': 1100, 'depress': 1101, 'besid': 1102, 'honest': 1103, 'anti': 1104, 'dub': 1105, 'trailer': 1106, 'intend': 1107, 'bar': 1108, 'west': 1109, 'longer': 1110, 'regard': 1111, 'scientist': 1112, 'decad': 1113, 'judg': 1114, 'silent': 1115, 'creativ': 1116, 'armi': 1117, 'wild': 1118, 'g': 1119, 'south': 1120, 'stewart': 1121, 'draw': 1122, 'road': 1123, 'govern': 1124, 'boss': 1125, 'ex': 1126, 'practic': 1127, 'surprisingli': 1128, 'gang': 1129, 'motiv': 1130, 'festiv': 1131, 'club': 1132, 'page': 1133, 'green': 1134, 'redeem': 1135, 'london': 1136, 'machin': 1137, 'display': 1138, 'idiot': 1139, 'aliv': 1140, 'militari': 1141, 'thrill': 1142, 'repeat': 1143, 'folk': 1144, 'yeah': 1145, '100': 1146, 'nobodi': 1147, '40': 1148, 'garbag': 1149, 'journey': 1150, 'ground': 1151, 'tire': 1152, 'smile': 1153, 'mood': 1154, 'bought': 1155, 'sam': 1156, 'cost': 1157, 'stone': 1158, 'noir': 1159, 'mouth': 1160, 'terrif': 1161, 'agent': 1162, 'requir': 1163, 'utterli': 1164, 'area': 1165, 'honestli': 1166, 'sexi': 1167, 'report': 1168, 'geniu': 1169, 'enter': 1170, 'humour': 1171, 'glad': 1172, 'investig': 1173, 'serial': 1174, 'occasion': 1175, 'passion': 1176, 'narr': 1177, 'marriag': 1178, 'climax': 1179, 'industri': 1180, 'studi': 1181, 'center': 1182, 'ship': 1183, 'demon': 1184, 'charli': 1185, 'nowher': 1186, 'loos': 1187, 'bear': 1188, 'hors': 1189, 'wow': 1190, 'hang': 1191, 'graphic': 1192, 'giant': 1193, 'admir': 1194, 'send': 1195, 'loud': 1196, 'damn': 1197, 'nake': 1198, 'rel': 1199, 'profession': 1200, 'subtl': 1201, 'blow': 1202, 'bottom': 1203, 'insult': 1204, 'batman': 1205, 'boyfriend': 1206, 'kelli': 1207, 'r': 1208, 'doubl': 1209, 'initi': 1210, 'frame': 1211, 'gem': 1212, 'opera': 1213, 'cinemat': 1214, 'church': 1215, 'challeng': 1216, 'drawn': 1217, 'affect': 1218, 'seek': 1219, 'nightmar': 1220, 'j': 1221, 'evid': 1222, 'l': 1223, 'fulli': 1224, 'arm': 1225, 'essenti': 1226, 'conflict': 1227, 'christoph': 1228, 'henri': 1229, 'grace': 1230, 'wind': 1231, 'assum': 1232, 'narrat': 1233, 'witch': 1234, 'hunt': 1235, 'push': 1236, 'wise': 1237, 'chri': 1238, 'repres': 1239, 'nomin': 1240, 'month': 1241, 'avail': 1242, 'hide': 1243, 'sceneri': 1244, 'affair': 1245, 'smart': 1246, 'justic': 1247, 'bond': 1248, 'thu': 1249, 'interview': 1250, 'outstand': 1251, 'flashback': 1252, 'constantli': 1253, 'presenc': 1254, 'satisfi': 1255, 'central': 1256, 'bed': 1257, 'sell': 1258, 'iron': 1259, 'content': 1260, 'gag': 1261, 'everybodi': 1262, 'hotel': 1263, 'slowli': 1264, 'hire': 1265, 'system': 1266, 'charl': 1267, 'hey': 1268, 'adam': 1269, 'individu': 1270, 'thrown': 1271, 'jone': 1272, 'mediocr': 1273, 'allen': 1274, 'ray': 1275, 'billi': 1276, 'lesson': 1277, 'cameo': 1278, 'photographi': 1279, 'fellow': 1280, 'pari': 1281, 'strike': 1282, 'independ': 1283, 'brief': 1284, 'rise': 1285, 'absurd': 1286, 'neg': 1287, 'impact': 1288, 'phone': 1289, 'ill': 1290, 'model': 1291, 'born': 1292, 'angl': 1293, 'fresh': 1294, 'spoil': 1295, 'likabl': 1296, 'abus': 1297, 'hill': 1298, 'discuss': 1299, 'ahead': 1300, 'sight': 1301, 'photograph': 1302, 'sent': 1303, 'occur': 1304, 'shine': 1305, 'logic': 1306, 'blame': 1307, 'mainli': 1308, 'bruce': 1309, 'commerci': 1310, 'forev': 1311, 'skip': 1312, 'teacher': 1313, 'surround': 1314, 'held': 1315, 'segment': 1316, 'zero': 1317, 'blond': 1318, 'resembl': 1319, 'satir': 1320, 'summer': 1321, 'trap': 1322, 'queen': 1323, 'fool': 1324, 'ball': 1325, 'six': 1326, 'tragedi': 1327, 'twice': 1328, 'sub': 1329, 'reaction': 1330, 'pack': 1331, 'bomb': 1332, 'hospit': 1333, 'will': 1334, 'protagonist': 1335, 'mile': 1336, 'sport': 1337, 'drink': 1338, 'mom': 1339, 'vote': 1340, 'jerri': 1341, 'trust': 1342, 'encount': 1343, 'plane': 1344, 'program': 1345, 'station': 1346, 'al': 1347, 'current': 1348, 'choos': 1349, 'martin': 1350, 'celebr': 1351, 'join': 1352, 'round': 1353, 'tragic': 1354, 'lord': 1355, 'field': 1356, 'favourit': 1357, 'robot': 1358, 'jean': 1359, 'vision': 1360, 'arthur': 1361, 'tie': 1362, 'random': 1363, 'roger': 1364, 'fortun': 1365, 'dread': 1366, 'intern': 1367, 'psycholog': 1368, 'improv': 1369, 'epic': 1370, 'prefer': 1371, 'nonsens': 1372, 'formula': 1373, 'pleasur': 1374, 'legend': 1375, 'highlight': 1376, 'dollar': 1377, 'tape': 1378, '11': 1379, 'porn': 1380, 'thin': 1381, 'object': 1382, 'wide': 1383, 'fox': 1384, 'gorgeou': 1385, 'buddi': 1386, 'influenc': 1387, 'ugli': 1388, 'prepar': 1389, 'ii': 1390, 'nasti': 1391, 'supposedli': 1392, 'reflect': 1393, 'progress': 1394, 'warm': 1395, 'youth': 1396, 'worthi': 1397, 'length': 1398, 'unusu': 1399, 'latter': 1400, 'crash': 1401, 'shop': 1402, 'superior': 1403, 'childhood': 1404, 'seven': 1405, 'theatr': 1406, 'remot': 1407, 'pilot': 1408, 'disgust': 1409, 'paid': 1410, 'funniest': 1411, 'trick': 1412, 'convers': 1413, 'fell': 1414, 'castl': 1415, 'rob': 1416, 'establish': 1417, 'gangster': 1418, 'disast': 1419, 'ident': 1420, 'disappear': 1421, 'mine': 1422, 'suicid': 1423, 'heaven': 1424, 'forgotten': 1425, 'singer': 1426, 'mask': 1427, 'decis': 1428, 'tend': 1429, 'heroin': 1430, 'partner': 1431, 'brian': 1432, 'desert': 1433, 'recogn': 1434, 'alan': 1435, 'thoroughli': 1436, 'stuck': 1437, 'p': 1438, 'ms': 1439, 'sky': 1440, 'replac': 1441, 'accur': 1442, 'market': 1443, 'danni': 1444, 'clue': 1445, 'uncl': 1446, 'seemingli': 1447, 'commentari': 1448, 'eddi': 1449, 'andi': 1450, 'jackson': 1451, 'devil': 1452, 'pair': 1453, 'refus': 1454, 'that': 1455, 'therefor': 1456, 'unit': 1457, 'fault': 1458, 'ed': 1459, 'accid': 1460, 'fate': 1461, 'river': 1462, 'tune': 1463, 'afraid': 1464, 'stephen': 1465, 'russian': 1466, 'clean': 1467, 'hidden': 1468, 'readi': 1469, 'quick': 1470, 'irrit': 1471, 'captain': 1472, 'convey': 1473, 'test': 1474, 'instanc': 1475, 'european': 1476, 'insan': 1477, 'frustrat': 1478, 'daniel': 1479, '1950': 1480, 'chines': 1481, 'wed': 1482, 'rescu': 1483, 'food': 1484, 'lock': 1485, 'dirti': 1486, 'angri': 1487, 'joy': 1488, 'price': 1489, 'steven': 1490, 'cage': 1491, 'bland': 1492, 'rang': 1493, 'anymor': 1494, 'wooden': 1495, 'rush': 1496, 'news': 1497, 'n': 1498, 'jason': 1499, '12': 1500, 'board': 1501, 'twenti': 1502, 'led': 1503, 'martial': 1504, 'worri': 1505, 'cgi': 1506, 'hunter': 1507, 'transform': 1508, 'symbol': 1509, 'x': 1510, 'piti': 1511, 'johnni': 1512, 'invent': 1513, 'sentiment': 1514, 'onto': 1515, 'explan': 1516, 'process': 1517, 'attitud': 1518, 'owner': 1519, 'awar': 1520, 'aim': 1521, 'energi': 1522, 'target': 1523, 'necessari': 1524, 'favor': 1525, 'floor': 1526, 'religi': 1527, 'opposit': 1528, 'window': 1529, 'insight': 1530, 'chick': 1531, 'blind': 1532, 'movement': 1533, 'mountain': 1534, 'possess': 1535, 'comparison': 1536, 'research': 1537, 'deepli': 1538, 'grand': 1539, 'comed': 1540, 'rain': 1541, 'whatsoev': 1542, 'mid': 1543, 'bank': 1544, 'began': 1545, 'shadow': 1546, 'parodi': 1547, 'princ': 1548, 'friendship': 1549, 'pre': 1550, 'credibl': 1551, 'taylor': 1552, 'weapon': 1553, 'dougla': 1554, 'flesh': 1555, 'teach': 1556, 'hint': 1557, 'bloodi': 1558, 'protect': 1559, 'terror': 1560, 'marvel': 1561, 'leader': 1562, 'drunk': 1563, 'watchabl': 1564, 'accord': 1565, 'superman': 1566, 'anybodi': 1567, 'load': 1568, 'brown': 1569, 'freddi': 1570, 'appropri': 1571, 'tim': 1572, 'hitler': 1573, 'seat': 1574, 'jeff': 1575, 'villag': 1576, 'unknown': 1577, 'charg': 1578, 'knock': 1579, 'keaton': 1580, 'unnecessari': 1581, 'empti': 1582, 'england': 1583, 'media': 1584, 'enemi': 1585, 'utter': 1586, 'wave': 1587, 'strength': 1588, 'dare': 1589, 'craft': 1590, 'perspect': 1591, 'buck': 1592, 'kiss': 1593, 'contrast': 1594, 'ford': 1595, 'nativ': 1596, 'correct': 1597, 'knowledg': 1598, 'anywher': 1599, 'distract': 1600, 'nazi': 1601, 'magnific': 1602, 'chill': 1603, 'speed': 1604, 'soap': 1605, 'ice': 1606, 'breath': 1607, '1980': 1608, 'mission': 1609, 'fred': 1610, 'moon': 1611, 'crowd': 1612, 'joan': 1613, 'jr': 1614, 'soft': 1615, '000': 1616, 'frighten': 1617, 'kate': 1618, 'dan': 1619, 'dick': 1620, 'nick': 1621, 'hundr': 1622, 'radio': 1623, 'simon': 1624, 'somebodi': 1625, 'dozen': 1626, 'thousand': 1627, 'loss': 1628, 'academi': 1629, 'andrew': 1630, 'shakespear': 1631, 'account': 1632, 'quot': 1633, 'vehicl': 1634, 'sum': 1635, 'root': 1636, 'leg': 1637, '1970': 1638, 'behavior': 1639, 'convent': 1640, 'regular': 1641, 'gold': 1642, 'compet': 1643, 'demand': 1644, 'worker': 1645, 'pretenti': 1646, 'privat': 1647, 'explos': 1648, 'notabl': 1649, 'interpret': 1650, 'lynch': 1651, 'stretch': 1652, 'candi': 1653, 'japan': 1654, 'debut': 1655, 'constant': 1656, 'tarzan': 1657, 'sea': 1658, 'spi': 1659, 'revolv': 1660, 'prais': 1661, 'translat': 1662, 'threaten': 1663, 'quiet': 1664, 'technolog': 1665, 'ass': 1666, 'failur': 1667, 'sat': 1668, 'jesu': 1669, 'franc': 1670, 'aid': 1671, 'met': 1672, 'toy': 1673, 'punch': 1674, 'higher': 1675, 'kevin': 1676, 'interact': 1677, 'abandon': 1678, 'mike': 1679, 'vh': 1680, 'bet': 1681, 'confront': 1682, 'command': 1683, 'separ': 1684, 'recal': 1685, 'techniqu': 1686, 'stunt': 1687, 'gotten': 1688, 'site': 1689, 'belong': 1690, 'servic': 1691, 'cabl': 1692, 'bug': 1693, 'foot': 1694, 'freak': 1695, 'jimmi': 1696, 'bright': 1697, 'fu': 1698, 'african': 1699, 'capabl': 1700, 'boat': 1701, 'stock': 1702, 'fat': 1703, 'succeed': 1704, 'clark': 1705, 'presid': 1706, 'gene': 1707, 'structur': 1708, 'spanish': 1709, 'paper': 1710, 'kidnap': 1711, 'whilst': 1712, 'belief': 1713, 'factor': 1714, 'complic': 1715, 'bob': 1716, 'educ': 1717, 'attend': 1718, 'witti': 1719, 'tree': 1720, 'realism': 1721, 'realis': 1722, 'assist': 1723, 'broken': 1724, 'finest': 1725, 'santa': 1726, 'up': 1727, 'smoke': 1728, 'depart': 1729, 'determin': 1730, 'observ': 1731, 'v': 1732, 'rubbish': 1733, 'routin': 1734, 'oper': 1735, 'lewi': 1736, 'domin': 1737, 'fame': 1738, 'hat': 1739, 'foreign': 1740, 'lone': 1741, 'hook': 1742, 'advanc': 1743, 'safe': 1744, 'morgan': 1745, 'kinda': 1746, 'rank': 1747, 'numer': 1748, 'werewolf': 1749, 'shallow': 1750, 'shape': 1751, 'civil': 1752, 'washington': 1753, 'vs': 1754, 'rose': 1755, 'gari': 1756, 'morn': 1757, 'ordinari': 1758, 'accomplish': 1759, 'winner': 1760, 'kong': 1761, 'whenev': 1762, 'grab': 1763, 'peac': 1764, 'virtual': 1765, 'luck': 1766, 'offens': 1767, 'h': 1768, 'bigger': 1769, 'welcom': 1770, 'complain': 1771, 'patient': 1772, 'unfunni': 1773, 'contriv': 1774, 'activ': 1775, 'dimension': 1776, 'trek': 1777, 'con': 1778, 'pretend': 1779, 'flash': 1780, 'dri': 1781, 'eric': 1782, 'code': 1783, 'cain': 1784, 'wake': 1785, 'lesbian': 1786, 'guard': 1787, 'corrupt': 1788, 'dancer': 1789, 'statu': 1790, 'manipul': 1791, 'albert': 1792, 'sourc': 1793, 'signific': 1794, 'awkward': 1795, 'context': 1796, 'gain': 1797, 'speech': 1798, 'psycho': 1799, 'clip': 1800, '13': 1801, 'anthoni': 1802, 'sean': 1803, 'corni': 1804, 'priest': 1805, 'advic': 1806, 'curiou': 1807, 'w': 1808, 'reli': 1809, 'theatric': 1810, 'religion': 1811, 'addict': 1812, 'flow': 1813, 'skin': 1814, 'jennif': 1815, 'asian': 1816, 'secur': 1817, 'howard': 1818, 'specif': 1819, 'comfort': 1820, 'core': 1821, 'promot': 1822, 'golden': 1823, 'organ': 1824, 'luke': 1825, 'lucki': 1826, 'cheat': 1827, 'cash': 1828, 'lower': 1829, 'dislik': 1830, 'associ': 1831, 'regret': 1832, 'contribut': 1833, 'spell': 1834, 'frequent': 1835, 'devic': 1836, 'wing': 1837, 'degre': 1838, 'frankli': 1839, 'balanc': 1840, 'forgiv': 1841, 'lake': 1842, 'print': 1843, 'sake': 1844, 'mass': 1845, 'thoma': 1846, 'betti': 1847, 'unexpect': 1848, 'gordon': 1849, 'crack': 1850, 'unfold': 1851, 'construct': 1852, 'categori': 1853, 'invit': 1854, 'amateur': 1855, 'depend': 1856, 'grown': 1857, 'matur': 1858, 'anna': 1859, 'grew': 1860, 'intellectu': 1861, 'honor': 1862, 'condit': 1863, 'walter': 1864, 'sudden': 1865, 'sole': 1866, 'spectacular': 1867, 'veteran': 1868, 'mirror': 1869, 'demonstr': 1870, 'experienc': 1871, 'meanwhil': 1872, 'freedom': 1873, 'card': 1874, 'gift': 1875, 'liner': 1876, 'overli': 1877, 'grip': 1878, 'robin': 1879, 'colour': 1880, 'sheriff': 1881, 'section': 1882, 'brilliantli': 1883, 'subtitl': 1884, 'oliv': 1885, 'circumst': 1886, 'crappi': 1887, 'theori': 1888, 'unabl': 1889, 'drew': 1890, 'parker': 1891, 'matt': 1892, 'altern': 1893, 'sheer': 1894, 'path': 1895, 'cook': 1896, 'pile': 1897, 'laughter': 1898, 'defin': 1899, 'treatment': 1900, 'relief': 1901, 'sinatra': 1902, 'wander': 1903, 'accident': 1904, 'hall': 1905, 'lawyer': 1906, 'hank': 1907, 'captiv': 1908, 'dragon': 1909, 'halloween': 1910, 'gratuit': 1911, 'moor': 1912, 'barbara': 1913, 'kung': 1914, 'k': 1915, 'wayn': 1916, 'cowboy': 1917, 'jacki': 1918, 'unintent': 1919, 'broadway': 1920, 'wound': 1921, 'canadian': 1922, 'spoof': 1923, 'surreal': 1924, 'winter': 1925, 'statement': 1926, 'compos': 1927, 'gonna': 1928, 'cheer': 1929, 'treasur': 1930, 'fish': 1931, 'fare': 1932, 'unrealist': 1933, 'emerg': 1934, 'woodi': 1935, 'victor': 1936, 'sensit': 1937, 'driven': 1938, 'ran': 1939, 'sympathet': 1940, 'neighbor': 1941, 'overlook': 1942, 'glass': 1943, 'expos': 1944, 'menac': 1945, 'authent': 1946, 'topic': 1947, 'ancient': 1948, 'chief': 1949, 'gross': 1950, 'handsom': 1951, 'michel': 1952, 'russel': 1953, 'built': 1954, 'network': 1955, 'pleasant': 1956, 'comedian': 1957, 'feet': 1958, 'nevertheless': 1959, 'stranger': 1960, 'contemporari': 1961, 'cinderella': 1962, 'miser': 1963, 'letter': 1964, 'underr': 1965, 'consider': 1966, 'gori': 1967, 'earn': 1968, 'endless': 1969, 'blockbust': 1970, 'switch': 1971, 'solv': 1972, 'brook': 1973, 'edward': 1974, 'virgin': 1975, 'victoria': 1976, 'joseph': 1977, 'convict': 1978, 'bullet': 1979, 'cynic': 1980, 'chosen': 1981, 'scale': 1982, 'alex': 1983, 'scenario': 1984, '0': 1985, 'sword': 1986, 'com': 1987, 'curs': 1988, 'gut': 1989, 'outrag': 1990, 'driver': 1991, 'uk': 1992, 'wrap': 1993, 'monkey': 1994, 'proper': 1995, 'screenwrit': 1996, 'substanc': 1997, 'juli': 1998, 'par': 1999, 'court': 2000, 'remov': 2001, 'bird': 2002, 'indic': 2003, 'consequ': 2004, 'inevit': 2005, 'grave': 2006, 'roy': 2007, 'loser': 2008, 'naiv': 2009, 'advertis': 2010, 'rental': 2011, 'nanci': 2012, 'le': 2013, 'bridg': 2014, 'brave': 2015, 'germani': 2016, 'fatal': 2017, 'invis': 2018, 'slap': 2019, 'anger': 2020, 'footbal': 2021, 'provok': 2022, 'ador': 2023, 'loui': 2024, 'anderson': 2025, 'alcohol': 2026, 'chan': 2027, 'professor': 2028, 'ryan': 2029, 'stumbl': 2030, 'willi': 2031, '1930': 2032, 'assassin': 2033, 'bat': 2034, 'patrick': 2035, 'australian': 2036, 'sharp': 2037, 'eight': 2038, 'trilog': 2039, 'saturday': 2040, 'deni': 2041, 'amateurish': 2042, 'cell': 2043, 'liber': 2044, 'lousi': 2045, 'strongli': 2046, 'refresh': 2047, 'ape': 2048, 'heck': 2049, 'sin': 2050, 'vagu': 2051, 'resid': 2052, 'justifi': 2053, 'san': 2054, 'reput': 2055, 'creator': 2056, 'indi': 2057, 'defeat': 2058, 'sympathi': 2059, 'mini': 2060, 'terrifi': 2061, 'tediou': 2062, 'expert': 2063, 'task': 2064, 'prevent': 2065, 'endur': 2066, 'tabl': 2067, 'offend': 2068, 'trial': 2069, 'employ': 2070, 'imit': 2071, 'rival': 2072, 'basebal': 2073, 'che': 2074, 'max': 2075, 'beach': 2076, 'dig': 2077, 'europ': 2078, 'weekend': 2079, 'pitch': 2080, 'complaint': 2081, 'fairi': 2082, 'format': 2083, 'risk': 2084, 'murphi': 2085, 'purchas': 2086, 'powel': 2087, 'reminisc': 2088, 'tini': 2089, 'titan': 2090, 'glimps': 2091, 'nois': 2092, 'bite': 2093, 'hype': 2094, 'harsh': 2095, 'prime': 2096, 'strip': 2097, '14': 2098, 'asleep': 2099, 'till': 2100, 'fals': 2101, 'north': 2102, 'texa': 2103, 'revel': 2104, 'destruct': 2105, 'africa': 2106, 'descript': 2107, 'sitcom': 2108, 'spin': 2109, 'uninterest': 2110, 'arrest': 2111, 'surfac': 2112, 'inner': 2113, 'semi': 2114, 'excess': 2115, 'twin': 2116, 'makeup': 2117, 'hitchcock': 2118, 'massiv': 2119, 'maintain': 2120, 'argu': 2121, 'controversi': 2122, 'dinosaur': 2123, 'reject': 2124, 'insist': 2125, 'expens': 2126, 'ludicr': 2127, 'stare': 2128, 'melodrama': 2129, 'ideal': 2130, 'kim': 2131, 'press': 2132, 'atroci': 2133, 'subplot': 2134, 'host': 2135, 'ala': 2136, 'ga': 2137, 'forest': 2138, 'supernatur': 2139, 'erot': 2140, 'nail': 2141, 'columbo': 2142, 'identifi': 2143, 'dude': 2144, 'presum': 2145, 'cant': 2146, 'notch': 2147, 'crude': 2148, 'character': 2149, 'forgett': 2150, 'guest': 2151, 'closer': 2152, 'plagu': 2153, 'method': 2154, 'landscap': 2155, 'beast': 2156, 'foster': 2157, 'lion': 2158, 'princess': 2159, 'border': 2160, 'ear': 2161, 'bound': 2162, 'accus': 2163, 'damag': 2164, 'pacino': 2165, 'urban': 2166, 'aunt': 2167, 'jungl': 2168, 'birth': 2169, 'previous': 2170, 'storytel': 2171, 'jess': 2172, 'propaganda': 2173, 'guid': 2174, 'thirti': 2175, 'nude': 2176, 'doll': 2177, 'emma': 2178, 'chose': 2179, 'mate': 2180, '25': 2181, 'whoever': 2182, 'pet': 2183, 'warrior': 2184, 'mainstream': 2185, 'deadli': 2186, 'merit': 2187, 'cooper': 2188, 'size': 2189, 'latest': 2190, 'gritti': 2191, 'upset': 2192, 'friday': 2193, 'poster': 2194, 'exact': 2195, 'citizen': 2196, 'warner': 2197, '1990': 2198, 'settl': 2199, 'sun': 2200, 'contact': 2201, 'ton': 2202, 'blend': 2203, 'corps': 2204, 'buff': 2205, 'rough': 2206, 'wilson': 2207, 'popul': 2208, 'contest': 2209, 'environ': 2210, 'overcom': 2211, 'mgm': 2212, 'alic': 2213, 'widow': 2214, 'select': 2215, 'pitt': 2216, 'bu': 2217, 'rat': 2218, 'metal': 2219, 'link': 2220, 'ted': 2221, 'lift': 2222, 'guilti': 2223, 'particip': 2224, 'revolut': 2225, 'corpor': 2226, 'accompani': 2227, 'exagger': 2228, 'moron': 2229, 'johnson': 2230, 'corner': 2231, 'matrix': 2232, 'afternoon': 2233, '1960': 2234, 'prostitut': 2235, 'leagu': 2236, 'instal': 2237, 'sincer': 2238, 'doom': 2239, 'holm': 2240, 'friendli': 2241, 'multipl': 2242, 'hood': 2243, 'clair': 2244, 'string': 2245, 'junk': 2246, 'hip': 2247, 'aka': 2248, 'irish': 2249, 'defend': 2250, 'sunday': 2251, 'campi': 2252, 'examin': 2253, 'grim': 2254, 'advis': 2255, 'lugosi': 2256, 'blah': 2257, 'rachel': 2258, 'tight': 2259, 'shut': 2260, 'pro': 2261, 'varieti': 2262, 'icon': 2263, 'shake': 2264, 'confid': 2265, 'medic': 2266, 'jaw': 2267, 'mexican': 2268, 'denni': 2269, 'goal': 2270, 'directli': 2271, 'sullivan': 2272, 'attach': 2273, 'dean': 2274, 'prior': 2275, 'breast': 2276, 'sentenc': 2277, 'sarah': 2278, 'legendari': 2279, 'duke': 2280, 'courag': 2281, 'vietnam': 2282, 'terrorist': 2283, 'truck': 2284, 'bourn': 2285, 'proceed': 2286, 'nose': 2287, 'hong': 2288, 'behav': 2289, 'split': 2290, 'un': 2291, 'yell': 2292, 'entri': 2293, 'donald': 2294, 'stolen': 2295, 'jerk': 2296, 'swim': 2297, 'buri': 2298, 'everywher': 2299, 'crush': 2300, 'lifetim': 2301, 'unconvinc': 2302, 'forth': 2303, 'borrow': 2304, 'concentr': 2305, 'gather': 2306, 'confess': 2307, 'california': 2308, 'deliveri': 2309, 'spite': 2310, 'lip': 2311, 'julia': 2312, 'turkey': 2313, 'pan': 2314, 'reward': 2315, 'hoffman': 2316, 'proud': 2317, 'quest': 2318, 'downright': 2319, 'flight': 2320, 'freeman': 2321, 'china': 2322, 'offici': 2323, 'inept': 2324, 'sink': 2325, 'lazi': 2326, 'jon': 2327, 'fabul': 2328, 'notori': 2329, 'fade': 2330, 'worthwhil': 2331, 'betray': 2332, 'jail': 2333, 'encourag': 2334, 'sir': 2335, 'teeth': 2336, 'lisa': 2337, 'storm': 2338, 'branagh': 2339, 'survivor': 2340, 'bell': 2341, 'imageri': 2342, 'cousin': 2343, 'susan': 2344, 'relev': 2345, 'retard': 2346, 'bag': 2347, 'shower': 2348, 'finger': 2349, 'trade': 2350, 'tremend': 2351, 'facial': 2352, 'stab': 2353, 'toler': 2354, 'quirki': 2355, 'summari': 2356, 'shark': 2357, 'bride': 2358, 'hugh': 2359, 'alright': 2360, 'mexico': 2361, 'pose': 2362, 'blown': 2363, 'von': 2364, 'bitter': 2365, 'hyster': 2366, 'ha': 2367, 'cruel': 2368, 'scheme': 2369, 'ned': 2370, 'afterward': 2371, 'larri': 2372, 'christ': 2373, 'ron': 2374, 'bone': 2375, 'address': 2376, 'snake': 2377, 'thumb': 2378, 'beg': 2379, 'traci': 2380, 'swear': 2381, 'tour': 2382, 'screw': 2383, 'distinct': 2384, 'pursu': 2385, 'feed': 2386, 'occas': 2387, 'chair': 2388, 'mechan': 2389, 'stomach': 2390, 'obscur': 2391, 'photo': 2392, 'raw': 2393, 'resist': 2394, 'chain': 2395, 'hardi': 2396, 'cabin': 2397, 'necessarili': 2398, 'render': 2399, 'argument': 2400, 'heavili': 2401, 'gruesom': 2402, 'southern': 2403, 'holiday': 2404, 'sidney': 2405, 'understood': 2406, 'racist': 2407, 'indulg': 2408, 'philip': 2409, 'satan': 2410, 'india': 2411, 'lay': 2412, 'belov': 2413, 'fourth': 2414, 'outfit': 2415, 'midnight': 2416, 'integr': 2417, 'forgot': 2418, 'pregnant': 2419, 'stalk': 2420, 'tongu': 2421, 'obnoxi': 2422, 'inhabit': 2423, 'garden': 2424, 'ticket': 2425, 'slapstick': 2426, 'restor': 2427, 'carol': 2428, 'deeper': 2429, '17': 2430, 'magazin': 2431, 'lincoln': 2432, 'incid': 2433, 'shoe': 2434, 'brad': 2435, 'devot': 2436, 'sandler': 2437, 'benefit': 2438, 'guarante': 2439, 'maria': 2440, 'elizabeth': 2441, 'anticip': 2442, 'divorc': 2443, 'lili': 2444, 'underground': 2445, 'disbelief': 2446, 'mildli': 2447, 'amazingli': 2448, 'slave': 2449, 'princip': 2450, 'greater': 2451, 'capit': 2452, 'cring': 2453, 'bbc': 2454, 'creation': 2455, 'explod': 2456, 'introduct': 2457, 'funnier': 2458, 'halfway': 2459, 'lesli': 2460, 'extraordinari': 2461, 'punish': 2462, 'wreck': 2463, 'text': 2464, 'enhanc': 2465, 'advantag': 2466, 'overwhelm': 2467, 'transfer': 2468, 'extent': 2469, 'tap': 2470, 'preview': 2471, 'east': 2472, 'horrif': 2473, 'lo': 2474, 'dynam': 2475, 'lane': 2476, 'error': 2477, 'deliber': 2478, 'plant': 2479, 'jessica': 2480, 'miscast': 2481, 'ensu': 2482, 'basi': 2483, 'homosexu': 2484, 'sophist': 2485, 'vincent': 2486, 'miller': 2487, '2000': 2488, 'appli': 2489, 'vacat': 2490, 'sleazi': 2491, 'uncomfort': 2492, 'mansion': 2493, 'measur': 2494, 'via': 2495, 'extend': 2496, 'reed': 2497, 'steel': 2498, 'elev': 2499, 'bollywood': 2500, 'spoken': 2501, 'beer': 2502, 'cathol': 2503, 'conceiv': 2504, 'assign': 2505, 'breathtak': 2506, 'blair': 2507, 'daili': 2508, 'mous': 2509, 'fix': 2510, 'overact': 2511, 'melt': 2512, 'alter': 2513, 'savag': 2514, 'dentist': 2515, 'goofi': 2516, 'stanley': 2517, 'hippi': 2518, 'burt': 2519, 'properli': 2520, 'everyday': 2521, 'subsequ': 2522, 'nowaday': 2523, 'succe': 2524, 'inspector': 2525, 'sacrific': 2526, 'oppos': 2527, 'carpent': 2528, 'laura': 2529, 'circl': 2530, 'neck': 2531, 'block': 2532, 'massacr': 2533, 'grey': 2534, 'pool': 2535, 'lesser': 2536, 'fay': 2537, 'mob': 2538, 'seagal': 2539, 'concert': 2540, 'portrait': 2541, 'fallen': 2542, 'access': 2543, 'christi': 2544, 'chees': 2545, 'relax': 2546, 'sinist': 2547, 'competit': 2548, 'isol': 2549, 'react': 2550, 'jake': 2551, 'usa': 2552, 'jewish': 2553, 'suitabl': 2554, 'lyric': 2555, 'spiritu': 2556, 'ironi': 2557, '2006': 2558, 'appal': 2559, 'stink': 2560, 'nine': 2561, 'chop': 2562, 'immens': 2563, 'nonetheless': 2564, 'creep': 2565, 'sold': 2566, 'reduc': 2567, 'retir': 2568, 'showcas': 2569, 'spring': 2570, 'shirt': 2571, 'needless': 2572, 'rage': 2573, 'franchis': 2574, 'luci': 2575, 'adopt': 2576, 'user': 2577, 'navi': 2578, 'nut': 2579, 'per': 2580, 'bath': 2581, 'zone': 2582, 'jay': 2583, 'digit': 2584, 'nurs': 2585, 'bulli': 2586, 'uninspir': 2587, 'stanwyck': 2588, 'asham': 2589, 'laid': 2590, '1940': 2591, 'amongst': 2592, '2001': 2593, 'illustr': 2594, 'oddli': 2595, 'broadcast': 2596, 'sutherland': 2597, 'upper': 2598, 'aspir': 2599, 'stylish': 2600, 'brando': 2601, 'disguis': 2602, 'throat': 2603, 'baker': 2604, 'fulfil': 2605, 'nobl': 2606, 'endear': 2607, 'wwii': 2608, 'pride': 2609, '18': 2610, 'impli': 2611, 'pound': 2612, 'em': 2613, 'neighborhood': 2614, 'wanna': 2615, 'thief': 2616, 'shift': 2617, 'albeit': 2618, 'diseas': 2619, 'bo': 2620, 'dawn': 2621, 'prop': 2622, 'coher': 2623, '16': 2624, 'cinematograph': 2625, 'tens': 2626, 'distribut': 2627, 'rochest': 2628, 'dinner': 2629, 'shoulder': 2630, 'bett': 2631, 'contract': 2632, 'poignant': 2633, 'wash': 2634, 'forti': 2635, 'function': 2636, 'rebel': 2637, 'silenc': 2638, 'shout': 2639, 'snow': 2640, 'surf': 2641, 'knife': 2642, 'matthau': 2643, 'horrend': 2644, 'henc': 2645, 'duti': 2646, 'height': 2647, 'instinct': 2648, 'chuck': 2649, 'reunion': 2650, 'internet': 2651, 'heat': 2652, 'eeri': 2653, 'cancel': 2654, 'widmark': 2655, 'elvira': 2656, 'derek': 2657, 'silver': 2658, 'cannib': 2659, 'proof': 2660, 'mindless': 2661, 'absorb': 2662, 'glori': 2663, 'pie': 2664, 'etern': 2665, 'premier': 2666, 'spielberg': 2667, 'repetit': 2668, 'alik': 2669, 'mill': 2670, 'musician': 2671, 'innov': 2672, 'greatli': 2673, 'torn': 2674, 'incoher': 2675, 'neat': 2676, 'elvi': 2677, 'horrifi': 2678, 'precis': 2679, 'homag': 2680, 'britain': 2681, 'crisi': 2682, 'nelson': 2683, 'redempt': 2684, 'infam': 2685, 'announc': 2686, 'blank': 2687, 'bang': 2688, 'itali': 2689, 'trite': 2690, 'wealthi': 2691, 'lovabl': 2692, 'fbi': 2693, 'racism': 2694, 'burton': 2695, 'diamond': 2696, 'dedic': 2697, 'parallel': 2698, 'hammer': 2699, 'ensembl': 2700, 'helen': 2701, 'pat': 2702, 'resolut': 2703, 'chaplin': 2704, 'wilder': 2705, 'flop': 2706, 'happili': 2707, 'streisand': 2708, 'disagre': 2709, 'triumph': 2710, 'cube': 2711, 'conclud': 2712, 'st': 2713, 'factori': 2714, 'broke': 2715, 'carter': 2716, 'mar': 2717, 'plastic': 2718, 'oil': 2719, 'fighter': 2720, 'weight': 2721, 'rocket': 2722, 'bush': 2723, 'march': 2724, 'row': 2725, 'own': 2726, 'chuckl': 2727, 'climb': 2728, 'vega': 2729, 'kurt': 2730, 'unforgett': 2731, 'spare': 2732, 'enorm': 2733, 'luca': 2734, 'wherea': 2735, 'dump': 2736, 'thug': 2737, 'sensibl': 2738, 'boot': 2739, 'lust': 2740, 'meaning': 2741, 'dane': 2742, 'mst3k': 2743, 'engin': 2744, 'adequ': 2745, 'fifti': 2746, 'bobbi': 2747, 'dear': 2748, 'difficulti': 2749, 'arnold': 2750, 'butt': 2751, 'brand': 2752, 'rap': 2753, 'stress': 2754, 'karloff': 2755, 'caricatur': 2756, 'threat': 2757, 'hamlet': 2758, 'arrog': 2759, 'elabor': 2760, 'barri': 2761, 'swing': 2762, 'journalist': 2763, 'polish': 2764, 'fest': 2765, 'flynn': 2766, 'ralph': 2767, 'ego': 2768, 'homeless': 2769, 'secretari': 2770, 'float': 2771, 'tool': 2772, 'resort': 2773, 'spike': 2774, 'induc': 2775, 'arrang': 2776, 'unbear': 2777, 'conspiraci': 2778, 'puppet': 2779, 'grate': 2780, 'simpson': 2781, 'fanci': 2782, 'muppet': 2783, 'cruis': 2784, 'phillip': 2785, 'guilt': 2786, 'exercis': 2787, 'pig': 2788, 'boll': 2789, 'choreograph': 2790, 'basement': 2791, 'tribut': 2792, 'file': 2793, 'ham': 2794, 'item': 2795, 'puzzl': 2796, 'tower': 2797, 'document': 2798, 'ward': 2799, 'toilet': 2800, '24': 2801, 'editor': 2802, 'korean': 2803, 'layer': 2804, 'fianc': 2805, 'slip': 2806, 'medium': 2807, 'stan': 2808, 'scarecrow': 2809, 'babe': 2810, 'transit': 2811, 'spark': 2812, 'larger': 2813, 'persona': 2814, 'catherin': 2815, 'portion': 2816, 'orient': 2817, 'philosoph': 2818, 'denzel': 2819, 'superfici': 2820, 'minim': 2821, 'assur': 2822, 'librari': 2823, 'territori': 2824, 'slaughter': 2825, 'inexplic': 2826, 'glover': 2827, 'doc': 2828, 'shi': 2829, 'dorothi': 2830, 'curti': 2831, 'boredom': 2832, 'ban': 2833, 'pg': 2834, 'walken': 2835, 'jeremi': 2836, 'financi': 2837, 'sneak': 2838, 'jet': 2839, 'wolf': 2840, 'owe': 2841, 'multi': 2842, 'backdrop': 2843, 'profound': 2844, 'cusack': 2845, 'ambigu': 2846, 'metaphor': 2847, 'hudson': 2848, 'eleph': 2849, 'whale': 2850, '2005': 2851, 'birthday': 2852, 'rave': 2853, 'ultra': 2854, 'stiff': 2855, 'union': 2856, 'gadget': 2857, 'hack': 2858, 'notion': 2859, 'implaus': 2860, 'viru': 2861, 'elsewher': 2862, 'canada': 2863, 'poison': 2864, 'hawk': 2865, 'newspap': 2866, 'lloyd': 2867, 'reader': 2868, 'distanc': 2869, 'afford': 2870, 'squar': 2871, 'urg': 2872, 'bibl': 2873, 'disc': 2874, 'deriv': 2875, 'pad': 2876, 'slight': 2877, '1st': 2878, 'superhero': 2879, 'eastwood': 2880, 'eva': 2881, 'cure': 2882, 'essenc': 2883, 'skit': 2884, 'sadist': 2885, 'charisma': 2886, 'montag': 2887, 'spread': 2888, 'drown': 2889, 'restaur': 2890, 'huh': 2891, 'health': 2892, 'button': 2893, 'heston': 2894, 'godfath': 2895, 'maniac': 2896, 'lab': 2897, 'peak': 2898, 'fetch': 2899, 'invest': 2900, 'estat': 2901, 'companion': 2902, 'gradual': 2903, 'dealt': 2904, 'muslim': 2905, 'scoobi': 2906, 'servant': 2907, 'kane': 2908, 'countless': 2909, 'subtleti': 2910, 'alli': 2911, 'gothic': 2912, 'cup': 2913, 'tea': 2914, 'ritter': 2915, 'miik': 2916, 'briefli': 2917, 'iii': 2918, 'charismat': 2919, 'elect': 2920, 'heroic': 2921, 'electr': 2922, 'salli': 2923, 'neil': 2924, 'grandmoth': 2925, 'reel': 2926, 'nuanc': 2927, 'admittedli': 2928, 'toss': 2929, 'bud': 2930, 'tender': 2931, 'wannab': 2932, 'ingredi': 2933, 'cole': 2934, 'resourc': 2935, 'stronger': 2936, 'label': 2937, 'stood': 2938, 'dawson': 2939, 'kubrick': 2940, 'pit': 2941, 'punk': 2942, 'mild': 2943, 'pauli': 2944, 'gate': 2945, 'carrey': 2946, 'shall': 2947, 'poverti': 2948, 'mafia': 2949, 'reev': 2950, 'tag': 2951, 'updat': 2952, 'outcom': 2953, 'burst': 2954, 'terri': 2955, 'fond': 2956, 'easier': 2957, 'ian': 2958, 'smooth': 2959, 'smash': 2960, 'assault': 2961, 'cox': 2962, 'bakshi': 2963, 'cardboard': 2964, 'useless': 2965, 'astair': 2966, 'sketch': 2967, 'vari': 2968, 'divers': 2969, 'qualifi': 2970, 'resolv': 2971, '2002': 2972, 'vulner': 2973, 'melodramat': 2974, 'fist': 2975, 'exchang': 2976, 'increasingli': 2977, 'samurai': 2978, 'rex': 2979, 'coincid': 2980, 'conveni': 2981, 'suspend': 2982, 'reynold': 2983, 'blast': 2984, 'scratch': 2985, 'luckili': 2986, 'templ': 2987, 'brillianc': 2988, 'insert': 2989, 'tame': 2990, 'be': 2991, 'seventi': 2992, 'farm': 2993, 'soprano': 2994, 'walker': 2995, 'hamilton': 2996, 'jami': 2997, 'matthew': 2998, 'strictli': 2999, 'gotta': 3000, 'nuclear': 3001, 'coach': 3002, 'pin': 3003, 'ambiti': 3004, 'fisher': 3005, 'meat': 3006, 'monk': 3007, 'brosnan': 3008, 'struck': 3009, 'instantli': 3010, 'timeless': 3011, 'grasp': 3012, 'recreat': 3013, 'butcher': 3014, 'kudo': 3015, 'eccentr': 3016, 'discoveri': 3017, 'worthless': 3018, 'spooki': 3019, 'empir': 3020, 'revers': 3021, 'joey': 3022, 'clock': 3023, 'cave': 3024, 'ninja': 3025, 'convolut': 3026, 'closet': 3027, 'bleak': 3028, 'sloppi': 3029, 'sidekick': 3030, 'importantli': 3031, 'clown': 3032, 'miracl': 3033, 'communist': 3034, 'pal': 3035, 'gray': 3036, 'seller': 3037, 'mitchel': 3038, 'wipe': 3039, 'inconsist': 3040, 'evok': 3041, 'eighti': 3042, 'selfish': 3043, 'cliff': 3044, 'fifteen': 3045, 'declar': 3046, 'norman': 3047, 'partli': 3048, 'enthusiast': 3049, 'websit': 3050, '45': 3051, 'superbl': 3052, 'stoog': 3053, 'chew': 3054, 'flawless': 3055, 'destin': 3056, 'piano': 3057, 'australia': 3058, 'debat': 3059, 'ho': 3060, 'aforement': 3061, 'farc': 3062, 'psychiatrist': 3063, 'cheek': 3064, 'seed': 3065, 'lifestyl': 3066, 'anni': 3067, 'directori': 3068, 'regardless': 3069, 'wrestl': 3070, 'splatter': 3071, 'incompet': 3072, 'pressur': 3073, 'drivel': 3074, 'slice': 3075, 'dire': 3076, 'soviet': 3077, 'kitchen': 3078, 'abc': 3079, 'wick': 3080, 'emili': 3081, 'akshay': 3082, 'dash': 3083, 'bash': 3084, 'judi': 3085, 'chapter': 3086, 'cagney': 3087, 'dave': 3088, 'flower': 3089, 'recov': 3090, 'jar': 3091, 'artifici': 3092, 'prize': 3093, 'helicopt': 3094, 'lou': 3095, 'cia': 3096, 'curios': 3097, 'cameron': 3098, 'increas': 3099, 'mann': 3100, 'suppli': 3101, 'doo': 3102, 'duo': 3103, 'ken': 3104, 'distant': 3105, 'seduc': 3106, 'boil': 3107, 'glow': 3108, 'beaten': 3109, 'pleasantli': 3110, 'blob': 3111, 'laurel': 3112, 'splendid': 3113, 'psychot': 3114, 'glenn': 3115, 'ellen': 3116, 'panic': 3117, 'goldberg': 3118, 'francisco': 3119, 'perri': 3120, 'drunken': 3121, 'favour': 3122, 'ranger': 3123, 'hop': 3124, 'craven': 3125, 'combat': 3126, 'eleg': 3127, 'web': 3128, 'craig': 3129, 'turner': 3130, 'shortli': 3131, 'rid': 3132, 'plausibl': 3133, 'gentl': 3134, 'flip': 3135, 'philosophi': 3136, 'min': 3137, 'fx': 3138, 'ruth': 3139, 'greek': 3140, 'slightest': 3141, 'graduat': 3142, 'wizard': 3143, 'hatr': 3144, '20th': 3145, 'alexand': 3146, 'falk': 3147, 'modesti': 3148, 'gandhi': 3149, 'dracula': 3150, 'legal': 3151, 'knight': 3152, 'we': 3153, 'ocean': 3154, 'jealou': 3155, 'fund': 3156, 'manhattan': 3157, 'futurist': 3158, 'unpleas': 3159, 'tall': 3160, 'holi': 3161, 'lend': 3162, 'preciou': 3163, 'felix': 3164, 'harm': 3165, 'nod': 3166, 'tank': 3167, 'thread': 3168, 'scientif': 3169, 'childish': 3170, 'explicit': 3171, 'overdon': 3172, 'reviv': 3173, 'mock': 3174, 'bless': 3175, 'ami': 3176, 'digniti': 3177, 'giallo': 3178, 'forbidden': 3179, 'unwatch': 3180, 'broad': 3181, 'thick': 3182, 'nerv': 3183, 'eve': 3184, '99': 3185, 'yesterday': 3186, 'torment': 3187, 'mel': 3188, 'awe': 3189, 'awaken': 3190, 'fever': 3191, 'elderli': 3192, '2004': 3193, 'repeatedli': 3194, 'margaret': 3195, 'verhoeven': 3196, 'pirat': 3197, 'bin': 3198, 'kay': 3199, 'royal': 3200, 'romero': 3201, 'acclaim': 3202, 'timothi': 3203, 'absenc': 3204, 'automat': 3205, 'launch': 3206, 'politician': 3207, 'rivet': 3208, 'lean': 3209, 'griffith': 3210, 'publish': 3211, 'ambit': 3212, 'roman': 3213, 'custom': 3214, 'ah': 3215, 'uniform': 3216, 'eas': 3217, 'stiller': 3218, 'stinker': 3219, 'pierc': 3220, 'bathroom': 3221, 'warren': 3222, 'sunshin': 3223, 'phrase': 3224, 'antic': 3225, 'gabriel': 3226, 'pulp': 3227, 'transport': 3228, 'purpl': 3229, 'termin': 3230, 'foul': 3231, 'crook': 3232, 'homicid': 3233, 'darker': 3234, 'wallac': 3235, 'tomato': 3236, 'karen': 3237, 'saint': 3238, 'contrari': 3239, 'sixti': 3240, 'brazil': 3241, 'choreographi': 3242, 'pray': 3243, 'viciou': 3244, 'li': 3245, 'eyr': 3246, 'kenneth': 3247, 'marin': 3248, 'awak': 3249, 'hollow': 3250, '2003': 3251, 'revolutionari': 3252, 'rambo': 3253, 'q': 3254, 'horrid': 3255, 'album': 3256, 'juvenil': 3257, 'ought': 3258, 'evolv': 3259, 'prom': 3260, 'coloni': 3261, 'packag': 3262, 'donna': 3263, 'ireland': 3264, 'beatti': 3265, 'option': 3266, 'dose': 3267, 'conserv': 3268, 'defi': 3269, 'boast': 3270, 'kapoor': 3271, 'ramon': 3272, 'stole': 3273, 'twelv': 3274, 'nerd': 3275, 'blade': 3276, 'overr': 3277, 'candid': 3278, 'mummi': 3279, 'mildr': 3280, 'funer': 3281, 'collabor': 3282, 'flame': 3283, 'trio': 3284, 'kirk': 3285, 'jazz': 3286, 'confirm': 3287, 'global': 3288, 'detract': 3289, 'fulci': 3290, 'astonish': 3291, 'natali': 3292, 'protest': 3293, 'altman': 3294, 'shade': 3295, 'bottl': 3296, 'destini': 3297, 'tommi': 3298, 'racial': 3299, 'enterpris': 3300, 'leap': 3301, 'audio': 3302, 'delici': 3303, 'bull': 3304, 'spit': 3305, 'yellow': 3306, 'nicholson': 3307, 'whip': 3308, 'blake': 3309, 'mystic': 3310, 'altogeth': 3311, 'bedroom': 3312, 'neo': 3313, 'fonda': 3314, 'inherit': 3315, 'meaningless': 3316, 'pseudo': 3317, 'harder': 3318, 'vivid': 3319, 'enchant': 3320, 'reunit': 3321, 'threw': 3322, 'todd': 3323, 'swedish': 3324, 'popcorn': 3325, 'adolesc': 3326, 'merci': 3327, 'staff': 3328, 'visibl': 3329, 'lawrenc': 3330, 'madonna': 3331, 'decor': 3332, 'wire': 3333, 'crocodil': 3334, 'uneven': 3335, 'synopsi': 3336, 'suspici': 3337, 'roommat': 3338, 'leonard': 3339, 'await': 3340, 'fanat': 3341, 'ruthless': 3342, 'moodi': 3343, 'respond': 3344, 'voight': 3345, 'befriend': 3346, 'edi': 3347, 'tip': 3348, 'exhibit': 3349, 'lemmon': 3350, 'reserv': 3351, 'bust': 3352, 'kennedi': 3353, 'jew': 3354, 'atlanti': 3355, 'centr': 3356, 'voyag': 3357, 'incident': 3358, 'dimens': 3359, 'carl': 3360, '2007': 3361, 'ventur': 3362, 'holli': 3363, 'rural': 3364, 'bargain': 3365, 'chao': 3366, 'abysm': 3367, 'garner': 3368, 'audit': 3369, 'unsettl': 3370, 'clumsi': 3371, 'bold': 3372, 'bradi': 3373, 'clint': 3374, 'palma': 3375, 'immigr': 3376, 'echo': 3377, 'cuba': 3378, 'ant': 3379, 'elimin': 3380, 'cari': 3381, 'nearbi': 3382, 'lit': 3383, 'hart': 3384, 'neglect': 3385, 'characterist': 3386, 'acknowledg': 3387, 'tiger': 3388, 'daddi': 3389, 'wealth': 3390, 'cd': 3391, 'poetic': 3392, 'versu': 3393, 'trail': 3394, 'troop': 3395, 'mall': 3396, 'imperson': 3397, 'humili': 3398, '2nd': 3399, 'timon': 3400, 'saga': 3401, 'mistaken': 3402, 'solo': 3403, 'homer': 3404, 'celluloid': 3405, 'mickey': 3406, 'infect': 3407, 'collaps': 3408, 'paus': 3409, 'repuls': 3410, 'marshal': 3411, 'jeffrey': 3412, 'domest': 3413, 'prejudic': 3414, 'pun': 3415, 'gear': 3416, 'chest': 3417, 'apolog': 3418, 'ginger': 3419, 'pant': 3420, 'interrupt': 3421, 'promin': 3422, 'cake': 3423, 'coffe': 3424, 'olivi': 3425, '1996': 3426, 'inappropri': 3427, 'undoubtedli': 3428, 'inan': 3429, 'assembl': 3430, 'equip': 3431, 'tribe': 3432, 'harvey': 3433, 'coat': 3434, 'sore': 3435, 'leon': 3436, 'hbo': 3437, 'milk': 3438, 'furthermor': 3439, 'jenni': 3440, 'instant': 3441, 'aveng': 3442, 'embrac': 3443, 'humbl': 3444, 'primari': 3445, 'florida': 3446, 'consum': 3447, 'exot': 3448, 'solut': 3449, 'pen': 3450, 'airplan': 3451, 'devast': 3452, 'institut': 3453, 'brooklyn': 3454, 'maggi': 3455, 'pot': 3456, 'highest': 3457, 'trace': 3458, 'colleagu': 3459, 'retain': 3460, 'colonel': 3461, 'polanski': 3462, 'vulgar': 3463, 'seduct': 3464, 'gender': 3465, 'poke': 3466, '1999': 3467, 'ya': 3468, 'wive': 3469, 'smaller': 3470, 'principl': 3471, 'illog': 3472, 'dian': 3473, '3rd': 3474, 'rick': 3475, 'sale': 3476, 'cope': 3477, 'godzilla': 3478, 'linda': 3479, 'outer': 3480, 'descend': 3481, 'strain': 3482, 'disabl': 3483, 'bowl': 3484, 'dutch': 3485, 'dive': 3486, 'beneath': 3487, 'gloriou': 3488, 'scope': 3489, 'yard': 3490, 'devoid': 3491, 'lol': 3492, 'primarili': 3493, 'inferior': 3494, 'secondli': 3495, 'mixtur': 3496, 'cue': 3497, 'hal': 3498, 'rabbit': 3499, 'blatant': 3500, 'vast': 3501, 'bubbl': 3502, 'dud': 3503, 'gundam': 3504, 'predecessor': 3505, 'glamor': 3506, 'museum': 3507, 'disjoint': 3508, 'invas': 3509, 'casual': 3510, 'april': 3511, 'pearl': 3512, 'arab': 3513, 'simplist': 3514, 'z': 3515, 'talki': 3516, 'senseless': 3517, 'hideou': 3518, 'shelf': 3519, 'breed': 3520, 'grinch': 3521, 'alfr': 3522, 'countrysid': 3523, 'et': 3524, 'trademark': 3525, 'domino': 3526, 'shirley': 3527, 'streep': 3528, 'myer': 3529, 'aggress': 3530, 'alert': 3531, 'garbo': 3532, 'experiment': 3533, 'boom': 3534, 'applaud': 3535, 'hopeless': 3536, 'obtain': 3537, 'mail': 3538, 'rendit': 3539, 'robinson': 3540, 'uwe': 3541, 'defens': 3542, 'loyal': 3543, 'stir': 3544, 'unhappi': 3545, 'robberi': 3546, 'illeg': 3547, 'sh': 3548, 'slide': 3549, 'disgrac': 3550, 'acid': 3551, 'khan': 3552, 'vanish': 3553, 'hardcor': 3554, 'stack': 3555, 'oz': 3556, 'stellar': 3557, 'mayor': 3558, 'maci': 3559, 'soccer': 3560, 'spider': 3561, 'craze': 3562, 'amanda': 3563, 'topless': 3564, 'blew': 3565, 'incomprehens': 3566, 'dismiss': 3567, 'hartley': 3568, 'span': 3569, 'rifl': 3570, 'declin': 3571, 'tempt': 3572, 'psychic': 3573, 'scroog': 3574, 'dicken': 3575, 'tenant': 3576, 'counter': 3577, 'emphasi': 3578, 'recruit': 3579, 'fri': 3580, 'berlin': 3581, 'wont': 3582, 'grandfath': 3583, 'diana': 3584, 'trashi': 3585, 'parad': 3586, 'woo': 3587, 'riot': 3588, 'resurrect': 3589, 'sympath': 3590, 'niro': 3591, 'intim': 3592, 'ration': 3593, 'revolt': 3594, 'sibl': 3595, 'justin': 3596, 'porno': 3597, 'faster': 3598, 'wet': 3599, 'ethnic': 3600, 'goer': 3601, 'shed': 3602, 'lumet': 3603, 'shaw': 3604, 'bitch': 3605, 'farmer': 3606, 'nephew': 3607, 'hopper': 3608, 'steam': 3609, '00': 3610, 'rider': 3611, 'region': 3612, 'hesit': 3613, 'honesti': 3614, 'choru': 3615, 'weakest': 3616, 'unreal': 3617, 'commend': 3618, 'enlighten': 3619, 'andr': 3620, 'feminist': 3621, 'lena': 3622, 'ensur': 3623, 'gap': 3624, 'immort': 3625, 'ballet': 3626, 'dealer': 3627, 'slick': 3628, 'eager': 3629, 'wheel': 3630, 'partial': 3631, 'wendi': 3632, 'biographi': 3633, 'worm': 3634, 'jonathan': 3635, 'mario': 3636, 'patriot': 3637, 'similarli': 3638, 'util': 3639, 'morri': 3640, 'vice': 3641, 'kingdom': 3642, 'franco': 3643, 'hung': 3644, 'owen': 3645, 'blunt': 3646, 'nostalg': 3647, 'skull': 3648, 'safeti': 3649, 'mutant': 3650, 'prequel': 3651, 'repress': 3652, 'sappi': 3653, 'psychopath': 3654, 'confin': 3655, 'wore': 3656, 'victori': 3657, 'leo': 3658, 'charlott': 3659, 'snap': 3660, 'sandra': 3661, 'properti': 3662, 'macarthur': 3663, 'composit': 3664, 'drum': 3665, 'bergman': 3666, 'rambl': 3667, 'thru': 3668, 'compass': 3669, 'despair': 3670, 'montana': 3671, 'rope': 3672, 'exit': 3673, 'bonu': 3674, 'speci': 3675, '1972': 3676, 'repli': 3677, 'bow': 3678, 'deed': 3679, 'latin': 3680, 'rocki': 3681, 'dust': 3682, 'dalton': 3683, 'strand': 3684, 'valuabl': 3685, 'campbel': 3686, 'cg': 3687, 'tad': 3688, 'miseri': 3689, 'tail': 3690, 'compens': 3691, 'pattern': 3692, 'recycl': 3693, 'snl': 3694, 'heartbreak': 3695, 'farrel': 3696, 'bumbl': 3697, 'drain': 3698, 'whoopi': 3699, 'del': 3700, 'nervou': 3701, 'acquir': 3702, 'kyle': 3703, 'emperor': 3704, 'hyde': 3705, 'wacki': 3706, 'gal': 3707, 'martian': 3708, 'radic': 3709, 'airport': 3710, 'orson': 3711, 'contempl': 3712, '35': 3713, 'romp': 3714, 'da': 3715, 'slug': 3716, 'rotten': 3717, 'gimmick': 3718, 'carradin': 3719, 'bleed': 3720, 'tonight': 3721, 'mistress': 3722, 'oppress': 3723, 'downhil': 3724, 'rapist': 3725, 'chess': 3726, 'percept': 3727, 'pour': 3728, 'roth': 3729, 'olli': 3730, 'dazzl': 3731, 'unpredict': 3732, 'slash': 3733, 'mislead': 3734, 'shelley': 3735, 'pursuit': 3736, 'arc': 3737, 'pervers': 3738, 'attorney': 3739, 'melodi': 3740, 'taught': 3741, 'arguabl': 3742, '1983': 3743, 'tooth': 3744, 'tackl': 3745, 'pervert': 3746, 'stilt': 3747, 'paltrow': 3748, 'belt': 3749, 'preach': 3750, 'banal': 3751, 'champion': 3752, 'heal': 3753, 'edgar': 3754, 'programm': 3755, 'rubi': 3756, 'virginia': 3757, 'gambl': 3758, 'sensat': 3759, 'closest': 3760, 'maid': 3761, 'chicken': 3762, 'tiresom': 3763, 'poem': 3764, 'conneri': 3765, 'vocal': 3766, 'raymond': 3767, 'passeng': 3768, 'duval': 3769, 'orang': 3770, 'dixon': 3771, 'employe': 3772, 'plight': 3773, 'uplift': 3774, 'bela': 3775, 'marti': 3776, 'mesmer': 3777, 'vengeanc': 3778, 'graham': 3779, 'franki': 3780, 'cleverli': 3781, 'crystal': 3782, 'suffic': 3783, 'calm': 3784, 'outing': 3785, 'tube': 3786, 'convincingli': 3787, 'clone': 3788, 'habit': 3789, 'scottish': 3790, 'abraham': 3791, 'extens': 3792, 'swallow': 3793, 'mute': 3794, '1968': 3795, 'whine': 3796, 'secretli': 3797, 'engross': 3798, 'pokemon': 3799, 'numb': 3800, 'gerard': 3801, 'yawn': 3802, 'bay': 3803, 'amitabh': 3804, 'paranoia': 3805, 'iran': 3806, 'inject': 3807, 'giggl': 3808, 'profan': 3809, 'monologu': 3810, 'quarter': 3811, 'lundgren': 3812, 'climact': 3813, 'volum': 3814, 'sirk': 3815, 'lowest': 3816, 'taxi': 3817, 'nichola': 3818, 'expand': 3819, 'ethan': 3820, 'plod': 3821, 'chicago': 3822, 'dispos': 3823, 'backward': 3824, 'trend': 3825, 'septemb': 3826, 'frankenstein': 3827, 'spock': 3828, 'poetri': 3829, 'underst': 3830, 'austen': 3831, 'grotesqu': 3832, 'earl': 3833, 'fed': 3834, 'profess': 3835, 'junior': 3836, 'im': 3837, 'meander': 3838, 'linger': 3839, 'bend': 3840, 'richardson': 3841, 'franci': 3842, 'surpass': 3843, 'abort': 3844, 'spoke': 3845, 'econom': 3846, 'rant': 3847, 'descent': 3848, 'muddl': 3849, 'household': 3850, 'greedi': 3851, 'instrument': 3852, 'tourist': 3853, 'cannon': 3854, 'stallon': 3855, 'compliment': 3856, 'hum': 3857, 'nostalgia': 3858, 'sue': 3859, 'rubber': 3860, 'simplic': 3861, 'waitress': 3862, 'literatur': 3863, 'catchi': 3864, 'mundan': 3865, 'dysfunct': 3866, 'myth': 3867, 'lure': 3868, 'der': 3869, 'eugen': 3870, 'coast': 3871, 'carel': 3872, 'flee': 3873, 'duck': 3874, 'dement': 3875, 'map': 3876, 'crucial': 3877, 'recognit': 3878, 'irrelev': 3879, 'dictat': 3880, 'hello': 3881, 'sissi': 3882, 'phantom': 3883, 'omen': 3884, 'damon': 3885, 'molli': 3886, 'firstli': 3887, 'phoni': 3888, 'mortal': 3889, 'eaten': 3890, 'lang': 3891, 'occupi': 3892, 'mankind': 3893, 'cent': 3894, 'louis': 3895, 'deaf': 3896, 'alongsid': 3897, 'june': 3898, 'furi': 3899, 'randi': 3900, 'bacal': 3901, 'stale': 3902, 'recognis': 3903, 'equival': 3904, 'insur': 3905, 'damm': 3906, 'wisdom': 3907, 'labor': 3908, 'rooney': 3909, 'dreari': 3910, 'onlin': 3911, 'grayson': 3912, 'rude': 3913, 'freez': 3914, 'bump': 3915, 'heel': 3916, 'newli': 3917, 'biko': 3918, 'bike': 3919, 'lengthi': 3920, 'loyalti': 3921, '1973': 3922, 'reign': 3923, 'distinguish': 3924, 'drake': 3925, 'blackmail': 3926, 'cyborg': 3927, 'ashley': 3928, 'buffalo': 3929, 'daisi': 3930, 'likewis': 3931, 'twilight': 3932, 'antwon': 3933, 'pink': 3934, 'startl': 3935, 'incorpor': 3936, 'basketbal': 3937, 'emphas': 3938, 'butler': 3939, 'attribut': 3940, 'boxer': 3941, 'provoc': 3942, 'proce': 3943, 'approv': 3944, 'interior': 3945, 'nineti': 3946, 'keith': 3947, 'vein': 3948, 'analysi': 3949, 'inher': 3950, 'worn': 3951, 'exposur': 3952, 'ridden': 3953, 'sailor': 3954, 'baddi': 3955, 'unorigin': 3956, 'chronicl': 3957, 'tunnel': 3958, 'prey': 3959, 'barrymor': 3960, 'julian': 3961, 'improvis': 3962, 'barrel': 3963, 'walsh': 3964, 'simmon': 3965, 'meg': 3966, 'drift': 3967, 'indiffer': 3968, 'er': 3969, 'bunni': 3970, 'nicol': 3971, 'millionair': 3972, 'mighti': 3973, 'fleet': 3974, 'predat': 3975, 'stalker': 3976, 'belushi': 3977, 'undeni': 3978, 'robbin': 3979, 'elm': 3980, 'hypnot': 3981, 'underli': 3982, 'othello': 3983, 'degrad': 3984, 'substitut': 3985, 'meyer': 3986, 'unrel': 3987, 'condemn': 3988, 'carla': 3989, 'mormon': 3990, 'unawar': 3991, 'priceless': 3992, 'firm': 3993, 'marion': 3994, 'greed': 3995, 'roof': 3996, 'mtv': 3997, 'errol': 3998, 'watson': 3999, 'palac': 4000, 'disord': 4001, 'agenda': 4002, '3d': 4003, 'nyc': 4004, 'exquisit': 4005, 'enthusiasm': 4006, 'lampoon': 4007, 'hay': 4008, 'novak': 4009, 'reid': 4010, 'edgi': 4011, 'warmth': 4012, 'dolph': 4013, 'vital': 4014, 'shove': 4015, 'rukh': 4016, 'alarm': 4017, 'alison': 4018, 'eastern': 4019, 'orlean': 4020, 'nun': 4021, 'testament': 4022, 'minimum': 4023, 'drip': 4024, 'what': 4025, 'beatl': 4026, 'cassidi': 4027, 'thompson': 4028, 'gestur': 4029, 'angela': 4030, 'session': 4031, 'championship': 4032, 'crown': 4033, 'israel': 4034, 'simultan': 4035, '13th': 4036, 'iraq': 4037, 'profit': 4038, 'campaign': 4039, 'randomli': 4040, 'showdown': 4041, 'unleash': 4042, 'pamela': 4043, 'petti': 4044, '1933': 4045, 'ponder': 4046, 'spain': 4047, 'coup': 4048, 'preserv': 4049, 'peril': 4050, 'valentin': 4051, 'sergeant': 4052, 'distort': 4053, 'peck': 4054, 'zizek': 4055, 'glanc': 4056, 'mon': 4057, 'gentleman': 4058, 'restrain': 4059, 'travesti': 4060, 'stroke': 4061, 'reson': 4062, 'crow': 4063, 'realm': 4064, 'calib': 4065, 'quinn': 4066, 'han': 4067, 'exposit': 4068, 'crawl': 4069, 'buster': 4070, 'sabrina': 4071, 'stake': 4072, 'regist': 4073, 'shootout': 4074, 'empathi': 4075, 'valley': 4076, 'din': 4077, 'climat': 4078, '1984': 4079, 'fido': 4080, 'cream': 4081, 'rout': 4082, 'brenda': 4083, 'scotland': 4084, 'bro': 4085, 'contradict': 4086, 'kurosawa': 4087, 'wig': 4088, 'cooki': 4089, 'unimagin': 4090, 'perpetu': 4091, 'jan': 4092, 'represent': 4093, 'miyazaki': 4094, 'monoton': 4095, 'demis': 4096, 'shoddi': 4097, 'ross': 4098, 'josh': 4099, 'unsatisfi': 4100, '1997': 4101, 'perceiv': 4102, 'distress': 4103, 'businessman': 4104, 'delic': 4105, 'crawford': 4106, 'painter': 4107, 'shaki': 4108, 'cloud': 4109, 'sammi': 4110, 'baldwin': 4111, 'tacki': 4112, 'compromis': 4113, '1987': 4114, 'pretens': 4115, 'dana': 4116, 'pole': 4117, 'mclaglen': 4118, 'passabl': 4119, 'unseen': 4120, 'abomin': 4121, 'warrant': 4122, 'spacey': 4123, 'censor': 4124, 'ustinov': 4125, 'femm': 4126, 'sucker': 4127, 'greg': 4128, 'derang': 4129, 'traumat': 4130, 'soderbergh': 4131, 'meryl': 4132, 'stargat': 4133, 'geek': 4134, 'darren': 4135, 'wax': 4136, 'fuller': 4137, 'absent': 4138, '1993': 4139, 'fog': 4140, 'wholli': 4141, 'nathan': 4142, 'anchor': 4143, 'tarantino': 4144, 'valid': 4145, 'deceas': 4146, 'primit': 4147, 'dee': 4148, 'uncov': 4149, 'verbal': 4150, 'furiou': 4151, 'reluct': 4152, 'kumar': 4153, 'seal': 4154, 'sid': 4155, 'deniro': 4156, 'norm': 4157, 'polici': 4158, 'click': 4159, 'unravel': 4160, 'tech': 4161, 'exclus': 4162, 'correctli': 4163, 'accuraci': 4164, 'jewel': 4165, 'expedit': 4166, 'judgment': 4167, 'fenc': 4168, 'clash': 4169, 'antonioni': 4170, 'austin': 4171, 'clerk': 4172, 'behold': 4173, 'sand': 4174, 'mode': 4175, 'nicola': 4176, 'fought': 4177, 'bake': 4178, 'malon': 4179, 'alec': 4180, 'trait': 4181, 'pocket': 4182, 'fart': 4183, 'joel': 4184, '1995': 4185, 'dreck': 4186, 'debt': 4187, 'conduct': 4188, 'wang': 4189, 'ritual': 4190, 'sunni': 4191, 'hallucin': 4192, 'patienc': 4193, 'shanghai': 4194, 'fabric': 4195, 'temper': 4196, '1971': 4197, 'murray': 4198, 'enforc': 4199, '2008': 4200, 'roller': 4201, 'tax': 4202, 'unfair': 4203, 'logan': 4204, '3000': 4205, 'seldom': 4206, 'slam': 4207, 'sheet': 4208, 'darn': 4209, 'wretch': 4210, 'sustain': 4211, 'crippl': 4212, 'vanc': 4213, 'technicolor': 4214, 'legaci': 4215, 'shell': 4216, 'bias': 4217, 'robber': 4218, 'despis': 4219, 'pete': 4220, 'tactic': 4221, 'scriptwrit': 4222, 'fundament': 4223, 'rita': 4224, 'guitar': 4225, 'penni': 4226, 'helpless': 4227, 'sweep': 4228, 'divid': 4229, 'stark': 4230, 'runner': 4231, 'preposter': 4232, 'conscious': 4233, 'canyon': 4234, 'grief': 4235, 'bridget': 4236, 'exhaust': 4237, 'critiqu': 4238, 'stuart': 4239, 'soup': 4240, 'outlin': 4241, 'phil': 4242, 'preston': 4243, 'clau': 4244, 'isabel': 4245, 'schedul': 4246, 'squad': 4247, 'boyl': 4248, 'unexpectedli': 4249, 'palanc': 4250, 'vomit': 4251, 'invad': 4252, 'inabl': 4253, 'jacket': 4254, 'marc': 4255, 'jodi': 4256, 'sugar': 4257, 'consciou': 4258, 'drove': 4259, 'passag': 4260, 'cigarett': 4261, 'bloom': 4262, 'propos': 4263, 'russia': 4264, 'alley': 4265, 'agenc': 4266, 'liberti': 4267, 'culmin': 4268, 'rear': 4269, 'flair': 4270, 'sniper': 4271, 'implic': 4272, 'connor': 4273, 'restrict': 4274, 'lacklust': 4275, 'downey': 4276, 'delv': 4277, 'alicia': 4278, 'kansa': 4279, 'newman': 4280, 'sentinel': 4281, 'rehash': 4282, 'gregori': 4283, 'vet': 4284, '1936': 4285, 'chainsaw': 4286, 'feat': 4287, 'sharon': 4288, 'rampag': 4289, 'wrench': 4290, 'asylum': 4291, 'horn': 4292, 'tripe': 4293, '22': 4294, 'karl': 4295, 'rehears': 4296, 'improb': 4297, 'mccoy': 4298, 'awhil': 4299, 'aesthet': 4300, 'arrow': 4301, 'tendenc': 4302, 'delet': 4303, 'behaviour': 4304, 'foxx': 4305, 'lush': 4306, 'bacon': 4307, 'pale': 4308, 'cap': 4309, 'yeti': 4310, 'rod': 4311, 'ladder': 4312, 'kolchak': 4313, 'visitor': 4314, 'tasteless': 4315, 'conscienc': 4316, 'hungri': 4317, 'shortcom': 4318, 'spice': 4319, 'rumor': 4320, 'wildli': 4321, 'globe': 4322, 'hackney': 4323, 'minu': 4324, '19th': 4325, 'paramount': 4326, '1988': 4327, 'sung': 4328, 'weav': 4329, 'lurk': 4330, 'tomorrow': 4331, 'elit': 4332, 'el': 4333, 'basing': 4334, 'newcom': 4335, 'filler': 4336, 'amazon': 4337, 'suspicion': 4338, 'loneli': 4339, 'scoop': 4340, 'underneath': 4341, 'financ': 4342, '1920': 4343, 'rhythm': 4344, 'wagner': 4345, 'prank': 4346, 'coaster': 4347, 'hulk': 4348, 'fright': 4349, 'thunderbird': 4350, 'suffici': 4351, 'paradis': 4352, 'stream': 4353, '1978': 4354, 'aristocrat': 4355, 'posey': 4356, 'paxton': 4357, 'entranc': 4358, 'atroc': 4359, 'inmat': 4360, 'leigh': 4361, 'abrupt': 4362, 'rub': 4363, 'curli': 4364, 'heist': 4365, 'recogniz': 4366, 'grudg': 4367, 'straightforward': 4368, 'impos': 4369, 'lectur': 4370, 'quietli': 4371, 'counterpart': 4372, 'hopkin': 4373, 'tierney': 4374, 'standout': 4375, 'cancer': 4376, 'secondari': 4377, 'literari': 4378, 'ram': 4379, '1989': 4380, 'springer': 4381, 'beverli': 4382, 'teas': 4383, 'ingeni': 4384, 'en': 4385, 'minist': 4386, 'couch': 4387, 'smell': 4388, 'brit': 4389, 'choppi': 4390, 'dirt': 4391, '75': 4392, 'worship': 4393, 'chamberlain': 4394, '1939': 4395, 'iv': 4396, 'chavez': 4397, 'penn': 4398, 'immers': 4399, 'bread': 4400, 'naughti': 4401, 'wwe': 4402, 'moreov': 4403, 'injuri': 4404, 'nolan': 4405, 'laurenc': 4406, 'policeman': 4407, 'clan': 4408, 'convert': 4409, 'misguid': 4410, 'sassi': 4411, 'watcher': 4412, 'esther': 4413, 'nemesi': 4414, 'cattl': 4415, 'missil': 4416, 'yearn': 4417, 'ace': 4418, 'heartfelt': 4419, 'quaid': 4420, '1986': 4421, 'bernard': 4422, 'variat': 4423, 'attenborough': 4424, 'net': 4425, 'sublim': 4426, 'skeptic': 4427, 'duel': 4428, 'enthral': 4429, 'morbid': 4430, 'entitl': 4431, 'transcend': 4432, 'lindsay': 4433, 'geni': 4434, 'ratso': 4435, 'cruelti': 4436, 'moder': 4437, 'youngest': 4438, 'diari': 4439, 'kitti': 4440, 'enabl': 4441, 'dont': 4442, 'vader': 4443, 'mytholog': 4444, '1979': 4445, 'kidman': 4446, 'graini': 4447, 'buzz': 4448, 'bean': 4449, 'steadi': 4450, 'obstacl': 4451, 'setup': 4452, 'unexplain': 4453, 'artsi': 4454, 'uncut': 4455, 'facil': 4456, 'tyler': 4457, 'hopelessli': 4458, 'spiral': 4459, 'grin': 4460, 'characteris': 4461, 'egg': 4462, 'out': 4463, 'hk': 4464, 'bye': 4465, 'brood': 4466, 'rosemari': 4467, 'reliabl': 4468, 'carlito': 4469, 'poe': 4470, 'puppi': 4471, 'despic': 4472, 'athlet': 4473, 'acquaint': 4474, 'fuel': 4475, 'disastr': 4476, 'exterior': 4477, 'martha': 4478, 'hammi': 4479, 'decept': 4480, 'baffl': 4481, 'bronson': 4482, 'bounc': 4483, 'weather': 4484, 'preming': 4485, 'hain': 4486, 'narrow': 4487, 'effici': 4488, 'niec': 4489, 'kline': 4490, 'clueless': 4491, 'christin': 4492, 'spontan': 4493, 'underworld': 4494, 'bewar': 4495, 'patricia': 4496, 'brendan': 4497, 'gina': 4498, 'sweat': 4499, 'heap': 4500, 'gillian': 4501, '1969': 4502, 'oblig': 4503, 'tick': 4504, 'dandi': 4505, 'sleepwalk': 4506, 'loath': 4507, 'dilemma': 4508, 'angst': 4509, 'rome': 4510, 'housewif': 4511, 'insipid': 4512, 'taboo': 4513, 'mermaid': 4514, 'headach': 4515, 'sooner': 4516, 'trigger': 4517, '19': 4518, 'loi': 4519, 'candl': 4520, 'suprem': 4521, 'fontain': 4522, 'shatter': 4523, 'mayhem': 4524, 'analyz': 4525, 'scar': 4526, 'viewpoint': 4527, 'renaiss': 4528, 'harmless': 4529, 'circu': 4530, 'outlaw': 4531, 'virtu': 4532, 'enlist': 4533, 'astound': 4534, 'lester': 4535, 'preachi': 4536, 'biker': 4537, 'goof': 4538, 'uh': 4539, 'hepburn': 4540, '73': 4541, 'injur': 4542, 'cassavet': 4543, 'boston': 4544, 'contempt': 4545, 'ebert': 4546, 'overlong': 4547, 'immatur': 4548, 'hooker': 4549, 'fluff': 4550, 'guin': 4551, 'hokey': 4552, 'corbett': 4553, 'stimul': 4554, 'gere': 4555, 'ariel': 4556, 'oldest': 4557, 'hostag': 4558, 'whore': 4559, 'claustrophob': 4560, 'idol': 4561, 'amor': 4562, 'dismal': 4563, 'macho': 4564, 'filth': 4565, 'scorses': 4566, 'camcord': 4567, 'steer': 4568, 'salt': 4569, 'slimi': 4570, 'stair': 4571, 'phenomenon': 4572, 'intric': 4573, 'zoom': 4574, 'tripl': 4575, 'foolish': 4576, 'redund': 4577, 'dish': 4578, 'spade': 4579, 'bent': 4580, 'sox': 4581, 'glorifi': 4582, 'surgeri': 4583, 'messi': 4584, 'muscl': 4585, 'perman': 4586, 'keen': 4587, 'strongest': 4588, 'mount': 4589, 'fascist': 4590, 'preced': 4591, 'cohen': 4592, 'shield': 4593, 'proport': 4594, 'gabl': 4595, 'antagonist': 4596, 'remad': 4597, 'assert': 4598, 'faint': 4599, 'shred': 4600, 'widescreen': 4601, 'corman': 4602, 'down': 4603, 'dwarf': 4604, 'trivia': 4605, 'beard': 4606, 'schlock': 4607, 'astronaut': 4608, 'radiat': 4609, '1976': 4610, 'flirt': 4611, 'cow': 4612, 'spree': 4613, 'flag': 4614, 'zane': 4615, 'rhyme': 4616, 'mutual': 4617, 'cush': 4618, 'obligatori': 4619, 'nolt': 4620, '1981': 4621, 'naschi': 4622, 'gasp': 4623, 'harold': 4624, 'spinal': 4625, 'transplant': 4626, 'flashi': 4627, 'conquer': 4628, 'alvin': 4629, 'frantic': 4630, 'margin': 4631, 'joker': 4632, 'claud': 4633, 'divin': 4634, 'scandal': 4635, 'www': 4636, 'vaniti': 4637, 'off': 4638, 'instruct': 4639, 'carey': 4640, 'persuad': 4641, 'fishburn': 4642, 'boob': 4643, '95': 4644, 'info': 4645, 'bachelor': 4646, 'someday': 4647, 'triangl': 4648, 'discern': 4649, 'sensual': 4650, 'deer': 4651, 'resum': 4652, '28': 4653, 'flock': 4654, 'departur': 4655, 'mobil': 4656, 'repris': 4657, 'inflict': 4658, 'bitten': 4659, 'raj': 4660, 'barn': 4661, 'danish': 4662, 'strive': 4663, 'neurot': 4664, 'interestingli': 4665, 'brush': 4666, 'ritchi': 4667, 'hara': 4668, '1945': 4669, 'wield': 4670, 'archiv': 4671, 'mol': 4672, 'aborigin': 4673, 'neill': 4674, 'europa': 4675, 'axe': 4676, 'casino': 4677, 'dylan': 4678, 'hapless': 4679, 'hug': 4680, 'fragil': 4681, 'dim': 4682, 'prophet': 4683, 'vibrant': 4684, 'melissa': 4685, 'jade': 4686, 'harrison': 4687, 'rot': 4688, 'submit': 4689, 'earnest': 4690, 'senior': 4691, 'undermin': 4692, 'proclaim': 4693, 'biblic': 4694, 'cher': 4695, 'carlo': 4696, 'miracul': 4697, 'cb': 4698, 'cliffhang': 4699, 'recit': 4700, 'parson': 4701, 'ish': 4702, 'mobster': 4703, 'banter': 4704, 'hilar': 4705, 'pixar': 4706, 'timberlak': 4707, 'colin': 4708, 'bate': 4709, 'dame': 4710, 'artwork': 4711, 'helm': 4712, 'heartwarm': 4713, 'wendigo': 4714, 'traffic': 4715, 'luka': 4716, 'loretta': 4717, 'clad': 4718, 'cycl': 4719, 'anton': 4720, 'pacif': 4721, 'frontier': 4722, 'kathryn': 4723, 'pickford': 4724, 'akin': 4725, 'static': 4726, 'bikini': 4727, 'trier': 4728, 'legitim': 4729, 'uma': 4730, 'marlon': 4731, 'redneck': 4732, 'holocaust': 4733, 'misfortun': 4734, 'toronto': 4735, 'choke': 4736, 'electron': 4737, 'cerebr': 4738, 'wardrob': 4739, 'foil': 4740, 'isra': 4741, 'illus': 4742, 'aris': 4743, 'jordan': 4744, 'milo': 4745, 'estrang': 4746, 'seedi': 4747, 'winchest': 4748, 'antholog': 4749, 'orphan': 4750, 'lucil': 4751, 'token': 4752, 'nope': 4753, 'bondag': 4754, 'northern': 4755, 'rooki': 4756, 'sicken': 4757, 'breakfast': 4758, 'http': 4759, 'razor': 4760, 'alexandr': 4761, 'mason': 4762, 'shepherd': 4763, 'feast': 4764, 'venom': 4765, 'pc': 4766, 'jo': 4767, 'articl': 4768, 'lui': 4769, 'vanessa': 4770, 'vile': 4771, 'eli': 4772, 'blatantli': 4773, 'flavor': 4774, 'mathieu': 4775, 'howl': 4776, 'boyer': 4777, 'disregard': 4778, 'gilbert': 4779, 'highway': 4780, 'psych': 4781, 'wrestler': 4782, 'shorter': 4783, 'ceremoni': 4784, 'abund': 4785, 'deem': 4786, 'ideolog': 4787, 'nightclub': 4788, 'glare': 4789, 'charlton': 4790, 'retriev': 4791, 'magician': 4792, 'peer': 4793, 'outdat': 4794, 'turd': 4795, 'knightley': 4796, 'styliz': 4797, 'frog': 4798, 'leather': 4799, 'clinic': 4800, 'fifth': 4801, 'tack': 4802, 'feminin': 4803, 'gunga': 4804, 'audrey': 4805, 'huston': 4806, 'linear': 4807, 'smack': 4808, 'dudley': 4809, 'swept': 4810, 'oppon': 4811, 'comprehend': 4812, 'affleck': 4813, 'cartoonish': 4814, 'sleaz': 4815, 'energet': 4816, 'mitch': 4817, 'client': 4818, 'evolut': 4819, 'lighter': 4820, 'lavish': 4821, 'durat': 4822, 'spawn': 4823, 'boo': 4824, 'lifeless': 4825, 'cuban': 4826, 'phenomen': 4827, '4th': 4828, 'uniformli': 4829, 'moe': 4830, 'toe': 4831, 'compris': 4832, 'summar': 4833, 'tara': 4834, 'btw': 4835, 'monument': 4836, 'plate': 4837, 'greet': 4838, 'deliver': 4839, 'spine': 4840, 'salman': 4841, 'collector': 4842, '1991': 4843, 'bogu': 4844, 'potter': 4845, 'whack': 4846, 'einstein': 4847, 'chip': 4848, '1994': 4849, 'braveheart': 4850, 'breakdown': 4851, 'snatch': 4852, 'bastard': 4853, 'conrad': 4854, 'newer': 4855, 'cemeteri': 4856, 'senat': 4857, 'corn': 4858, 'goldsworthi': 4859, 'neatli': 4860, 'constitut': 4861, 'undead': 4862, 'luxuri': 4863, 'evelyn': 4864, 'appl': 4865, 'replay': 4866, 'historian': 4867, 'sorrow': 4868, 'outright': 4869, '1977': 4870, 'belli': 4871, 'cecil': 4872, 'jedi': 4873, 'occup': 4874, 'healthi': 4875, 'inaccuraci': 4876, 'fluid': 4877, '1974': 4878, 'judd': 4879, 'liu': 4880, 'mcqueen': 4881, 'embark': 4882, 'kent': 4883, 'lex': 4884, 'randolph': 4885, 'alleg': 4886, 'jam': 4887, 'clara': 4888, 'wtf': 4889, 'firmli': 4890, 'bulk': 4891, 'gilliam': 4892, 'nina': 4893, 'ol': 4894, 'undertak': 4895, 'bori': 4896, 'capot': 4897, 'pronounc': 4898, 'trauma': 4899, 'signal': 4900, 'armstrong': 4901, 'kazan': 4902, 'spectacl': 4903, 'jare': 4904, 'creek': 4905, 'jule': 4906, 'ie': 4907, 'eleven': 4908, 'basket': 4909, 'groan': 4910, 'abound': 4911, 'mum': 4912, 'blur': 4913, 'lauren': 4914, 'rosario': 4915, 'cape': 4916, 'pepper': 4917, 'bait': 4918, 'miami': 4919, 'sacrif': 4920, 'goldblum': 4921, 'carmen': 4922, 'antonio': 4923, 'inclus': 4924, 'ash': 4925, 'sidewalk': 4926, 'miniseri': 4927, 'kiddi': 4928, 'lanc': 4929, 'conan': 4930, '1985': 4931, 'comb': 4932, 'meal': 4933, 'truman': 4934, 'pioneer': 4935, 'curtain': 4936, 'poker': 4937, 'spray': 4938, 'forgiven': 4939, 'fruit': 4940, 'galaxi': 4941, 'roar': 4942, 'subtli': 4943, 'unattract': 4944, 'vain': 4945, 'unsuspect': 4946, 'vignett': 4947, 'id': 4948, 'congratul': 4949, 'paula': 4950, 'comprehens': 4951, 'relentless': 4952, 'palm': 4953, 'porter': 4954, 'inaccur': 4955, 'decapit': 4956, 'genet': 4957, 'aussi': 4958, 'bsg': 4959, 'propheci': 4960, 'knee': 4961, 'tokyo': 4962, 'walt': 4963, 'omin': 4964, 'ingrid': 4965, 'rapidli': 4966, 'verg': 4967, 'growth': 4968, 'masterson': 4969, 'profil': 4970, 'detach': 4971, 'motorcycl': 4972, 'hostil': 4973, 'scarfac': 4974, 'drone': 4975, 'incorrect': 4976, 'weari': 4977, 'sparkl': 4978, 'substanti': 4979, 'modest': 4980, 'epitom': 4981, '21st': 4982, 'bach': 4983, 'turtl': 4984, 'casper': 4985, 'ghetto': 4986, 'victorian': 4987, 'orchestr': 4988, 'spill': 4989, 'macabr': 4990, 'vastli': 4991, 'evan': 4992, 'cypher': 4993, 'weaker': 4994, 'asset': 4995, 'monti': 4996, 'assort': 4997, 'optimist': 4998, 'bravo': 4999}\n"
     ]
    }
   ],
   "source": [
    "word_dict = build_dict(train_X)\n",
    "\n",
    "print(word_dict)"
   ]
  },
  {
   "cell_type": "code",
   "execution_count": 68,
   "metadata": {},
   "outputs": [
    {
     "name": "stdout",
     "output_type": "stream",
     "text": [
      "The five most frequently appearing words are:\n",
      "\n",
      "Top1 --- movi\n",
      "Top2 --- film\n",
      "Top3 --- one\n",
      "Top4 --- like\n",
      "Top5 --- time\n"
     ]
    }
   ],
   "source": [
    "# TODO: Use this space to determine the five most frequently appearing words in the training set.\n",
    "for idx, word in enumerate(word_dict.keys()):\n",
    "    \n",
    "    if idx == 0:\n",
    "        print(\"The five most frequently appearing words are:\\n\")\n",
    "    \n",
    "    if idx >=5:\n",
    "        break\n",
    "        \n",
    "    print(\"Top{} --- {}\".format(idx+1, word))"
   ]
  },
  {
   "cell_type": "markdown",
   "metadata": {},
   "source": [
    "As the results shown above, the five most frequently appearing words are movi, film, one, like, and time."
   ]
  },
  {
   "cell_type": "markdown",
   "metadata": {},
   "source": [
    "### Save `word_dict`\n",
    "\n",
    "Later on when we construct an endpoint which processes a submitted review we will need to make use of the `word_dict` which we have created. As such, we will save it to a file now for future use."
   ]
  },
  {
   "cell_type": "code",
   "execution_count": 69,
   "metadata": {},
   "outputs": [],
   "source": [
    "data_dir = '../data/pytorch' # The folder we will use for storing data\n",
    "if not os.path.exists(data_dir): # Make sure that the folder exists\n",
    "    os.makedirs(data_dir)"
   ]
  },
  {
   "cell_type": "code",
   "execution_count": 70,
   "metadata": {},
   "outputs": [],
   "source": [
    "with open(os.path.join(data_dir, 'word_dict.pkl'), \"wb\") as f:\n",
    "    pickle.dump(word_dict, f)"
   ]
  },
  {
   "cell_type": "markdown",
   "metadata": {},
   "source": [
    "### Transform the reviews\n",
    "\n",
    "Now that we have our word dictionary which allows us to transform the words appearing in the reviews into integers, it is time to make use of it and convert our reviews to their integer sequence representation, making sure to pad or truncate to a fixed length, which in our case is `500`."
   ]
  },
  {
   "cell_type": "code",
   "execution_count": 71,
   "metadata": {},
   "outputs": [],
   "source": [
    "def convert_and_pad(word_dict, sentence, pad=500):\n",
    "    NOWORD = 0 # We will use 0 to represent the 'no word' category\n",
    "    INFREQ = 1 # and we use 1 to represent the infrequent words, i.e., words not appearing in word_dict\n",
    "    \n",
    "    working_sentence = [NOWORD] * pad\n",
    "    \n",
    "    for word_index, word in enumerate(sentence[:pad]):\n",
    "        if word in word_dict:\n",
    "            working_sentence[word_index] = word_dict[word]\n",
    "        else:\n",
    "            working_sentence[word_index] = INFREQ\n",
    "            \n",
    "    return working_sentence, min(len(sentence), pad)\n",
    "\n",
    "def convert_and_pad_data(word_dict, data, pad=500):\n",
    "    result = []\n",
    "    lengths = []\n",
    "    \n",
    "    for sentence in data:\n",
    "        converted, leng = convert_and_pad(word_dict, sentence, pad)\n",
    "        result.append(converted)\n",
    "        lengths.append(leng)\n",
    "        \n",
    "    return np.array(result), np.array(lengths)"
   ]
  },
  {
   "cell_type": "code",
   "execution_count": 72,
   "metadata": {},
   "outputs": [],
   "source": [
    "train_X, train_X_len = convert_and_pad_data(word_dict, train_X)\n",
    "test_X, test_X_len = convert_and_pad_data(word_dict, test_X)"
   ]
  },
  {
   "cell_type": "markdown",
   "metadata": {},
   "source": [
    "As a quick check to make sure that things are working as intended, check to see what one of the reviews in the training set looks like after having been processeed. Does this look reasonable? What is the length of a review in the training set?"
   ]
  },
  {
   "cell_type": "code",
   "execution_count": 73,
   "metadata": {},
   "outputs": [
    {
     "name": "stdout",
     "output_type": "stream",
     "text": [
      "<class 'numpy.ndarray'>\n",
      "25000\n",
      "[  47   28  663  182  130   38   20  748  857   20  150 2863   37    1\n",
      "  150 2308   36   18 1433   15  205    2   28   18  859   79   92 1534\n",
      "   70    1   19  941    1   62    1   40   17    2  372    5 1948    1\n",
      "   62    5  175  110  257  802 1922    1  739    1 1016  263   45   17\n",
      "   11  219 1151    1   19    5    1  859    1    8   20   14  965  846\n",
      "  597 2274 2025 2730 1953  142  466  193   54  758 1953   60   52  124\n",
      "  557 1953  688    7   43 1953 1953   31   33 4674   17   21 1980 2025\n",
      " 2924   31 1615    5 1953  197    1   57  732    1 1332   22    2  408\n",
      "    1   16    7  193 1451   74   48  508    1    1  894   16  439    9\n",
      "    1    1    1    1 1047    1 1083    1    9   47 1408    4  182  151\n",
      "    1  894  482  241   32    5 1358   47   58   32 1359 4633 1048 3906\n",
      "  100    1  894    1    9   23  319    2  482  567 1865   27  460  846\n",
      "   34  802  558    2 3845 1948  961   71  604  221  112   16    7 1408\n",
      "  738  112   68   20  841  143   19  625  187 1016 1056 3782  510  413\n",
      "  110    1  841   34  987  781 1204   97  256   34   19  625  187   36\n",
      "   34  884    1 1506  781 1510 2793   58  112  669   28  182 4139  407\n",
      "   44    1  229   87    1  450   42 1000 1377  276 2580  182    1  229\n",
      " 1392  130  676  200    1   11  166  460  186 1030   20   36   26  150\n",
      "   20  280 1769  276   58  308   58    9    0    0    0    0    0    0\n",
      "    0    0    0    0    0    0    0    0    0    0    0    0    0    0\n",
      "    0    0    0    0    0    0    0    0    0    0    0    0    0    0\n",
      "    0    0    0    0    0    0    0    0    0    0    0    0    0    0\n",
      "    0    0    0    0    0    0    0    0    0    0    0    0    0    0\n",
      "    0    0    0    0    0    0    0    0    0    0    0    0    0    0\n",
      "    0    0    0    0    0    0    0    0    0    0    0    0    0    0\n",
      "    0    0    0    0    0    0    0    0    0    0    0    0    0    0\n",
      "    0    0    0    0    0    0    0    0    0    0    0    0    0    0\n",
      "    0    0    0    0    0    0    0    0    0    0    0    0    0    0\n",
      "    0    0    0    0    0    0    0    0    0    0    0    0    0    0\n",
      "    0    0    0    0    0    0    0    0    0    0    0    0    0    0\n",
      "    0    0    0    0    0    0    0    0    0    0    0    0    0    0\n",
      "    0    0    0    0    0    0    0    0    0    0    0    0    0    0\n",
      "    0    0    0    0    0    0    0    0    0    0    0    0    0    0\n",
      "    0    0    0    0    0    0    0    0    0    0    0    0    0    0\n",
      "    0    0    0    0    0    0    0    0    0    0    0    0    0    0\n",
      "    0    0    0    0    0    0    0    0    0    0]\n",
      "500\n",
      "[260  65 133 ... 151 101 180]\n"
     ]
    }
   ],
   "source": [
    "# Use this cell to examine one of the processed reviews to make sure everything is working as intended.\n",
    "print(type(train_X))\n",
    "print(len(train_X))\n",
    "\n",
    "print(train_X[0])\n",
    "print(len(train_X[0]))\n",
    "\n",
    "print(train_X_len)"
   ]
  },
  {
   "cell_type": "markdown",
   "metadata": {},
   "source": [
    "**Question:** In the cells above we use the `preprocess_data` and `convert_and_pad_data` methods to process both the training and testing set. Why or why not might this be a problem?"
   ]
  },
  {
   "cell_type": "markdown",
   "metadata": {},
   "source": [
    "**Answer:**\n",
    "\n",
    "preprocess_data\n",
    "- The `preprocess_data` is a great helper function to help us transform each review towards. Since performing this task may take a long time to finish, it smartly defines a inner cached function with if-else and try-exception Pythonic way. That way, if we’re unable to complete this step in current session we can come back without needing to do it again from scratch. This is great. \n",
    "\n",
    "convert_and_pad_data\n",
    "- As for `convert_and_pad_data` function, it is to transform all the words in the reviews into integers. Moreover, we have it padding with 0 in the tail with fixed length 500 truncated. This is because our network does not know what exactly each string word mean, so we’ll have to tokenize these words into integers. Thus we can further use them for training."
   ]
  },
  {
   "cell_type": "markdown",
   "metadata": {},
   "source": [
    "## Step 3: Upload the data to S3\n",
    "\n",
    "As in the XGBoost notebook, we will need to upload the training dataset to S3 in order for our training code to access it. For now we will save it locally and we will upload to S3 later on.\n",
    "\n",
    "### Save the processed training dataset locally\n",
    "\n",
    "It is important to note the format of the data that we are saving as we will need to know it when we write the training code. In our case, each row of the dataset has the form `label`, `length`, `review[500]` where `review[500]` is a sequence of `500` integers representing the words in the review."
   ]
  },
  {
   "cell_type": "code",
   "execution_count": 74,
   "metadata": {},
   "outputs": [],
   "source": [
    "import pandas as pd\n",
    "    \n",
    "pd.concat([pd.DataFrame(train_y), pd.DataFrame(train_X_len), pd.DataFrame(train_X)], axis=1) \\\n",
    "        .to_csv(os.path.join(data_dir, 'train.csv'), header=False, index=False)"
   ]
  },
  {
   "cell_type": "markdown",
   "metadata": {},
   "source": [
    "### Uploading the training data\n",
    "\n",
    "\n",
    "Next, we need to upload the training data to the SageMaker default S3 bucket so that we can provide access to it while training our model."
   ]
  },
  {
   "cell_type": "code",
   "execution_count": 75,
   "metadata": {},
   "outputs": [],
   "source": [
    "import sagemaker\n",
    "\n",
    "sagemaker_session = sagemaker.Session()\n",
    "\n",
    "bucket = sagemaker_session.default_bucket()\n",
    "prefix = 'sagemaker/sentiment_rnn'\n",
    "\n",
    "role = sagemaker.get_execution_role()"
   ]
  },
  {
   "cell_type": "code",
   "execution_count": 76,
   "metadata": {},
   "outputs": [],
   "source": [
    "input_data = sagemaker_session.upload_data(path=data_dir, bucket=bucket, key_prefix=prefix)"
   ]
  },
  {
   "cell_type": "markdown",
   "metadata": {},
   "source": [
    "**NOTE:** The cell above uploads the entire contents of our data directory. This includes the `word_dict.pkl` file. This is fortunate as we will need this later on when we create an endpoint that accepts an arbitrary review. For now, we will just take note of the fact that it resides in the data directory (and so also in the S3 training bucket) and that we will need to make sure it gets saved in the model directory."
   ]
  },
  {
   "cell_type": "markdown",
   "metadata": {},
   "source": [
    "## Step 4: Build and Train the PyTorch Model\n",
    "\n",
    "In the XGBoost notebook we discussed what a model is in the SageMaker framework. In particular, a model comprises three objects\n",
    "\n",
    " - Model Artifacts,\n",
    " - Training Code, and\n",
    " - Inference Code,\n",
    " \n",
    "each of which interact with one another. In the XGBoost example we used training and inference code that was provided by Amazon. Here we will still be using containers provided by Amazon with the added benefit of being able to include our own custom code.\n",
    "\n",
    "We will start by implementing our own neural network in PyTorch along with a training script. For the purposes of this project we have provided the necessary model object in the `model.py` file, inside of the `train` folder. You can see the provided implementation by running the cell below."
   ]
  },
  {
   "cell_type": "code",
   "execution_count": 77,
   "metadata": {},
   "outputs": [
    {
     "name": "stdout",
     "output_type": "stream",
     "text": [
      "\u001b[34mimport\u001b[39;49;00m \u001b[04m\u001b[36mtorch\u001b[39;49;00m\u001b[04m\u001b[36m.\u001b[39;49;00m\u001b[04m\u001b[36mnn\u001b[39;49;00m \u001b[34mas\u001b[39;49;00m \u001b[04m\u001b[36mnn\u001b[39;49;00m\r\n",
      "\r\n",
      "\u001b[34mclass\u001b[39;49;00m \u001b[04m\u001b[32mLSTMClassifier\u001b[39;49;00m(nn.Module):\r\n",
      "    \u001b[33m\"\"\"\u001b[39;49;00m\r\n",
      "\u001b[33m    This is the simple RNN model we will be using to perform Sentiment Analysis.\u001b[39;49;00m\r\n",
      "\u001b[33m    \"\"\"\u001b[39;49;00m\r\n",
      "\r\n",
      "    \u001b[34mdef\u001b[39;49;00m \u001b[32m__init__\u001b[39;49;00m(\u001b[36mself\u001b[39;49;00m, embedding_dim, hidden_dim, vocab_size):\r\n",
      "        \u001b[33m\"\"\"\u001b[39;49;00m\r\n",
      "\u001b[33m        Initialize the model by settingg up the various layers.\u001b[39;49;00m\r\n",
      "\u001b[33m        \"\"\"\u001b[39;49;00m\r\n",
      "        \u001b[36msuper\u001b[39;49;00m(LSTMClassifier, \u001b[36mself\u001b[39;49;00m).\u001b[32m__init__\u001b[39;49;00m()\r\n",
      "\r\n",
      "        \u001b[36mself\u001b[39;49;00m.embedding = nn.Embedding(vocab_size, embedding_dim, padding_idx=\u001b[34m0\u001b[39;49;00m)\r\n",
      "        \u001b[36mself\u001b[39;49;00m.lstm = nn.LSTM(embedding_dim, hidden_dim)\r\n",
      "        \u001b[36mself\u001b[39;49;00m.dense = nn.Linear(in_features=hidden_dim, out_features=\u001b[34m1\u001b[39;49;00m)\r\n",
      "        \u001b[36mself\u001b[39;49;00m.sig = nn.Sigmoid()\r\n",
      "        \r\n",
      "        \u001b[36mself\u001b[39;49;00m.word_dict = \u001b[34mNone\u001b[39;49;00m\r\n",
      "\r\n",
      "    \u001b[34mdef\u001b[39;49;00m \u001b[32mforward\u001b[39;49;00m(\u001b[36mself\u001b[39;49;00m, x):\r\n",
      "        \u001b[33m\"\"\"\u001b[39;49;00m\r\n",
      "\u001b[33m        Perform a forward pass of our model on some input.\u001b[39;49;00m\r\n",
      "\u001b[33m        \"\"\"\u001b[39;49;00m\r\n",
      "        x = x.t()\r\n",
      "        lengths = x[\u001b[34m0\u001b[39;49;00m,:]\r\n",
      "        reviews = x[\u001b[34m1\u001b[39;49;00m:,:]\r\n",
      "        embeds = \u001b[36mself\u001b[39;49;00m.embedding(reviews)\r\n",
      "        lstm_out, _ = \u001b[36mself\u001b[39;49;00m.lstm(embeds)\r\n",
      "        out = \u001b[36mself\u001b[39;49;00m.dense(lstm_out)\r\n",
      "        out = out[lengths - \u001b[34m1\u001b[39;49;00m, \u001b[36mrange\u001b[39;49;00m(\u001b[36mlen\u001b[39;49;00m(lengths))]\r\n",
      "        \u001b[34mreturn\u001b[39;49;00m \u001b[36mself\u001b[39;49;00m.sig(out.squeeze())\r\n"
     ]
    }
   ],
   "source": [
    "!pygmentize train/model.py"
   ]
  },
  {
   "cell_type": "markdown",
   "metadata": {},
   "source": [
    "The important takeaway from the implementation provided is that there are three parameters that we may wish to tweak to improve the performance of our model. These are the embedding dimension, the hidden dimension and the size of the vocabulary. We will likely want to make these parameters configurable in the training script so that if we wish to modify them we do not need to modify the script itself. We will see how to do this later on. To start we will write some of the training code in the notebook so that we can more easily diagnose any issues that arise.\n",
    "\n",
    "First we will load a small portion of the training data set to use as a sample. It would be very time consuming to try and train the model completely in the notebook as we do not have access to a gpu and the compute instance that we are using is not particularly powerful. However, we can work on a small bit of the data to get a feel for how our training script is behaving."
   ]
  },
  {
   "cell_type": "code",
   "execution_count": 78,
   "metadata": {},
   "outputs": [],
   "source": [
    "import torch\n",
    "import torch.utils.data\n",
    "\n",
    "# Read in only the first 250 rows\n",
    "train_sample = pd.read_csv(os.path.join(data_dir, 'train.csv'), header=None, names=None, nrows=250)\n",
    "\n",
    "# Turn the input pandas dataframe into tensors\n",
    "train_sample_y = torch.from_numpy(train_sample[[0]].values).float().squeeze()\n",
    "train_sample_X = torch.from_numpy(train_sample.drop([0], axis=1).values).long()\n",
    "\n",
    "# Build the dataset\n",
    "train_sample_ds = torch.utils.data.TensorDataset(train_sample_X, train_sample_y)\n",
    "# Build the dataloader\n",
    "train_sample_dl = torch.utils.data.DataLoader(train_sample_ds, batch_size=50)"
   ]
  },
  {
   "cell_type": "markdown",
   "metadata": {},
   "source": [
    "### (TODO) Writing the training method\n",
    "\n",
    "Next we need to write the training code itself. This should be very similar to training methods that you have written before to train PyTorch models. We will leave any difficult aspects such as model saving / loading and parameter loading until a little later."
   ]
  },
  {
   "cell_type": "code",
   "execution_count": 79,
   "metadata": {},
   "outputs": [],
   "source": [
    "def train(model, train_loader, epochs, optimizer, loss_fn, device):\n",
    "    for epoch in range(1, epochs + 1):\n",
    "        model.train()\n",
    "        total_loss = 0\n",
    "        for batch in train_loader:         \n",
    "            batch_X, batch_y = batch\n",
    "            \n",
    "            batch_X = batch_X.to(device)\n",
    "            batch_y = batch_y.to(device)\n",
    "            \n",
    "            # TODO: Complete this train method to train the model provided.\n",
    "            \n",
    "            total_loss += loss.data.item()\n",
    "        print(\"Epoch: {}, BCELoss: {}\".format(epoch, total_loss / len(train_loader)))"
   ]
  },
  {
   "cell_type": "code",
   "execution_count": 80,
   "metadata": {},
   "outputs": [],
   "source": [
    "def train(model, train_loader, epochs, optimizer, loss_fn, device):\n",
    "    for epoch in range(1, epochs + 1):\n",
    "        model.train()\n",
    "        total_loss = 0\n",
    "        for batch in train_loader:         \n",
    "            batch_X, batch_y = batch\n",
    "            \n",
    "            batch_X = batch_X.to(device)\n",
    "            batch_y = batch_y.to(device)\n",
    "            \n",
    "            # TODO: Complete this train method to train the model provided.\n",
    "            optimizer.zero_grad()\n",
    "            output = model(batch_X)\n",
    "            \n",
    "            loss = loss_fn(output, batch_y)\n",
    "            loss.backward()\n",
    "            optimizer.step()\n",
    "            \n",
    "            total_loss += loss.data.item()\n",
    "            \n",
    "        print(\"Epoch: {}, BCELoss: {}\".format(epoch, total_loss / len(train_loader)))"
   ]
  },
  {
   "cell_type": "markdown",
   "metadata": {},
   "source": [
    "Supposing we have the training method above, we will test that it is working by writing a bit of code in the notebook that executes our training method on the small sample training set that we loaded earlier. The reason for doing this in the notebook is so that we have an opportunity to fix any errors that arise early when they are easier to diagnose."
   ]
  },
  {
   "cell_type": "code",
   "execution_count": 81,
   "metadata": {},
   "outputs": [
    {
     "name": "stdout",
     "output_type": "stream",
     "text": [
      "Epoch: 1, BCELoss: 0.6944638133049011\n",
      "Epoch: 2, BCELoss: 0.6857093572616577\n",
      "Epoch: 3, BCELoss: 0.6781895279884338\n",
      "Epoch: 4, BCELoss: 0.6697451353073121\n",
      "Epoch: 5, BCELoss: 0.6590229034423828\n"
     ]
    }
   ],
   "source": [
    "import torch.optim as optim\n",
    "from train.model import LSTMClassifier\n",
    "\n",
    "device = torch.device(\"cuda\" if torch.cuda.is_available() else \"cpu\")\n",
    "model = LSTMClassifier(32, 100, 5000).to(device)\n",
    "optimizer = optim.Adam(model.parameters())\n",
    "loss_fn = torch.nn.BCELoss()\n",
    "\n",
    "train(model, train_sample_dl, 5, optimizer, loss_fn, device)"
   ]
  },
  {
   "cell_type": "markdown",
   "metadata": {},
   "source": [
    "In order to construct a PyTorch model using SageMaker we must provide SageMaker with a training script. We may optionally include a directory which will be copied to the container and from which our training code will be run. When the training container is executed it will check the uploaded directory (if there is one) for a `requirements.txt` file and install any required Python libraries, after which the training script will be run."
   ]
  },
  {
   "cell_type": "markdown",
   "metadata": {},
   "source": [
    "### (TODO) Training the model\n",
    "\n",
    "When a PyTorch model is constructed in SageMaker, an entry point must be specified. This is the Python file which will be executed when the model is trained. Inside of the `train` directory is a file called `train.py` which has been provided and which contains most of the necessary code to train our model. The only thing that is missing is the implementation of the `train()` method which you wrote earlier in this notebook.\n",
    "\n",
    "**TODO**: Copy the `train()` method written above and paste it into the `train/train.py` file where required.\n",
    "\n",
    "The way that SageMaker passes hyperparameters to the training script is by way of arguments. These arguments can then be parsed and used in the training script. To see how this is done take a look at the provided `train/train.py` file."
   ]
  },
  {
   "cell_type": "code",
   "execution_count": 82,
   "metadata": {},
   "outputs": [],
   "source": [
    "from sagemaker.pytorch import PyTorch\n",
    "\n",
    "estimator = PyTorch(entry_point=\"train.py\",\n",
    "                    source_dir=\"train\",\n",
    "                    role=role,\n",
    "                    framework_version='0.4.0',\n",
    "                    train_instance_count=1,\n",
    "                    train_instance_type='ml.p2.xlarge',\n",
    "                    hyperparameters={\n",
    "                        'epochs': 20,\n",
    "                        'hidden_dim': 200,\n",
    "                    })"
   ]
  },
  {
   "cell_type": "code",
   "execution_count": 83,
   "metadata": {},
   "outputs": [
    {
     "name": "stderr",
     "output_type": "stream",
     "text": [
      "'create_image_uri' will be deprecated in favor of 'ImageURIProvider' class in SageMaker Python SDK v2.\n",
      "'s3_input' class will be renamed to 'TrainingInput' in SageMaker Python SDK v2.\n",
      "'create_image_uri' will be deprecated in favor of 'ImageURIProvider' class in SageMaker Python SDK v2.\n"
     ]
    },
    {
     "name": "stdout",
     "output_type": "stream",
     "text": [
      "2022-03-10 09:23:07 Starting - Starting the training job......\n",
      "2022-03-10 09:23:45 Starting - Preparing the instances for training......\n",
      "2022-03-10 09:24:58 Downloading - Downloading input data...\n",
      "2022-03-10 09:25:34 Training - Downloading the training image........\u001b[34mbash: cannot set terminal process group (-1): Inappropriate ioctl for device\u001b[0m\n",
      "\u001b[34mbash: no job control in this shell\u001b[0m\n",
      "\u001b[34m2022-03-10 09:26:43,027 sagemaker-containers INFO     Imported framework sagemaker_pytorch_container.training\u001b[0m\n",
      "\u001b[34m2022-03-10 09:26:43,056 sagemaker_pytorch_container.training INFO     Block until all host DNS lookups succeed.\u001b[0m\n",
      "\u001b[34m2022-03-10 09:26:43,061 sagemaker_pytorch_container.training INFO     Invoking user training script.\u001b[0m\n",
      "\u001b[34m2022-03-10 09:26:43,361 sagemaker-containers INFO     Module train does not provide a setup.py. \u001b[0m\n",
      "\u001b[34mGenerating setup.py\u001b[0m\n",
      "\u001b[34m2022-03-10 09:26:43,361 sagemaker-containers INFO     Generating setup.cfg\u001b[0m\n",
      "\u001b[34m2022-03-10 09:26:43,361 sagemaker-containers INFO     Generating MANIFEST.in\u001b[0m\n",
      "\u001b[34m2022-03-10 09:26:43,362 sagemaker-containers INFO     Installing module with the following command:\u001b[0m\n",
      "\u001b[34m/usr/bin/python -m pip install -U . -r requirements.txt\u001b[0m\n",
      "\u001b[34mProcessing /opt/ml/code\u001b[0m\n",
      "\u001b[34mCollecting pandas (from -r requirements.txt (line 1))\n",
      "  Downloading https://files.pythonhosted.org/packages/74/24/0cdbf8907e1e3bc5a8da03345c23cbed7044330bb8f73bb12e711a640a00/pandas-0.24.2-cp35-cp35m-manylinux1_x86_64.whl (10.0MB)\u001b[0m\n",
      "\u001b[34mCollecting numpy (from -r requirements.txt (line 2))\u001b[0m\n",
      "\u001b[34m  Downloading https://files.pythonhosted.org/packages/b5/36/88723426b4ff576809fec7d73594fe17a35c27f8d01f93637637a29ae25b/numpy-1.18.5-cp35-cp35m-manylinux1_x86_64.whl (19.9MB)\u001b[0m\n",
      "\u001b[34mCollecting nltk (from -r requirements.txt (line 3))\n",
      "  Downloading https://files.pythonhosted.org/packages/5e/37/9532ddd4b1bbb619333d5708aaad9bf1742f051a664c3c6fa6632a105fd8/nltk-3.6.2-py3-none-any.whl (1.5MB)\u001b[0m\n",
      "\u001b[34mCollecting beautifulsoup4 (from -r requirements.txt (line 4))\n",
      "  Downloading https://files.pythonhosted.org/packages/69/bf/f0f194d3379d3f3347478bd267f754fc68c11cbf2fe302a6ab69447b1417/beautifulsoup4-4.10.0-py3-none-any.whl (97kB)\u001b[0m\n",
      "\u001b[34mCollecting html5lib (from -r requirements.txt (line 5))\n",
      "  Downloading https://files.pythonhosted.org/packages/6c/dd/a834df6482147d48e225a49515aabc28974ad5a4ca3215c18a882565b028/html5lib-1.1-py2.py3-none-any.whl (112kB)\u001b[0m\n",
      "\u001b[34mCollecting pytz>=2011k (from pandas->-r requirements.txt (line 1))\n",
      "  Downloading https://files.pythonhosted.org/packages/d3/e3/d9f046b5d1c94a3aeab15f1f867aa414f8ee9d196fae6865f1d6a0ee1a0b/pytz-2021.3-py2.py3-none-any.whl (503kB)\u001b[0m\n",
      "\u001b[34mRequirement already satisfied, skipping upgrade: python-dateutil>=2.5.0 in /usr/local/lib/python3.5/dist-packages (from pandas->-r requirements.txt (line 1)) (2.7.5)\u001b[0m\n",
      "\u001b[34mCollecting tqdm (from nltk->-r requirements.txt (line 3))\n",
      "  Downloading https://files.pythonhosted.org/packages/81/1c/93a2b77b97cdba15a59c3d2d03e53d3292158d1106d37f579069abd90ece/tqdm-4.63.0-py2.py3-none-any.whl (76kB)\u001b[0m\n",
      "\u001b[34mCollecting joblib (from nltk->-r requirements.txt (line 3))\n",
      "  Downloading https://files.pythonhosted.org/packages/28/5c/cf6a2b65a321c4a209efcdf64c2689efae2cb62661f8f6f4bb28547cf1bf/joblib-0.14.1-py2.py3-none-any.whl (294kB)\u001b[0m\n",
      "\u001b[34mRequirement already satisfied, skipping upgrade: click in /usr/local/lib/python3.5/dist-packages (from nltk->-r requirements.txt (line 3)) (7.0)\u001b[0m\n",
      "\u001b[34mCollecting regex (from nltk->-r requirements.txt (line 3))\u001b[0m\n",
      "\u001b[34m  Downloading https://files.pythonhosted.org/packages/4c/75/b5b60055897d78882da8bc4c94609067cf531a42726df2e44ce69e8ec7a9/regex-2022.1.18.tar.gz (382kB)\u001b[0m\n",
      "\u001b[34mCollecting soupsieve>1.2 (from beautifulsoup4->-r requirements.txt (line 4))\n",
      "  Downloading https://files.pythonhosted.org/packages/02/fb/1c65691a9aeb7bd6ac2aa505b84cb8b49ac29c976411c6ab3659425e045f/soupsieve-2.1-py3-none-any.whl\u001b[0m\n",
      "\u001b[34mCollecting webencodings (from html5lib->-r requirements.txt (line 5))\n",
      "  Downloading https://files.pythonhosted.org/packages/f4/24/2a3e3df732393fed8b3ebf2ec078f05546de641fe1b667ee316ec1dcf3b7/webencodings-0.5.1-py2.py3-none-any.whl\u001b[0m\n",
      "\u001b[34mRequirement already satisfied, skipping upgrade: six>=1.9 in /usr/local/lib/python3.5/dist-packages (from html5lib->-r requirements.txt (line 5)) (1.11.0)\u001b[0m\n",
      "\u001b[34mCollecting importlib-resources; python_version < \"3.7\" (from tqdm->nltk->-r requirements.txt (line 3))\n",
      "  Downloading https://files.pythonhosted.org/packages/e6/b5/ca7ff4e244ae51e70f603889fcd67ee142050b539b3e2f40fbbd8ca316b5/importlib_resources-3.2.1-py2.py3-none-any.whl\u001b[0m\n",
      "\u001b[34mCollecting zipp>=0.4; python_version < \"3.8\" (from importlib-resources; python_version < \"3.7\"->tqdm->nltk->-r requirements.txt (line 3))\n",
      "  Downloading https://files.pythonhosted.org/packages/96/0a/67556e9b7782df7118c1f49bdc494da5e5e429c93aa77965f33e81287c8c/zipp-1.2.0-py2.py3-none-any.whl\u001b[0m\n",
      "\u001b[34mBuilding wheels for collected packages: train, regex\n",
      "  Running setup.py bdist_wheel for train: started\u001b[0m\n",
      "\u001b[34m  Running setup.py bdist_wheel for train: finished with status 'done'\n",
      "  Stored in directory: /tmp/pip-ephem-wheel-cache-87uad20b/wheels/35/24/16/37574d11bf9bde50616c67372a334f94fa8356bc7164af8ca3\n",
      "  Running setup.py bdist_wheel for regex: started\u001b[0m\n",
      "\n",
      "2022-03-10 09:26:40 Training - Training image download completed. Training in progress.\u001b[34m  Running setup.py bdist_wheel for regex: finished with status 'done'\n",
      "  Stored in directory: /root/.cache/pip/wheels/91/d2/b9/77522f50d9ec6ab6c755f54d9dfed385ae6afd1b7296bbbcc2\u001b[0m\n",
      "\u001b[34mSuccessfully built train regex\u001b[0m\n",
      "\u001b[34mInstalling collected packages: pytz, numpy, pandas, zipp, importlib-resources, tqdm, joblib, regex, nltk, soupsieve, beautifulsoup4, webencodings, html5lib, train\n",
      "  Found existing installation: numpy 1.15.4\n",
      "    Uninstalling numpy-1.15.4:\u001b[0m\n",
      "\u001b[34m      Successfully uninstalled numpy-1.15.4\u001b[0m\n",
      "\u001b[34mSuccessfully installed beautifulsoup4-4.10.0 html5lib-1.1 importlib-resources-3.2.1 joblib-0.14.1 nltk-3.6.2 numpy-1.18.5 pandas-0.24.2 pytz-2021.3 regex-2022.1.18 soupsieve-2.1 tqdm-4.63.0 train-1.0.0 webencodings-0.5.1 zipp-1.2.0\u001b[0m\n",
      "\u001b[34mYou are using pip version 18.1, however version 20.3.4 is available.\u001b[0m\n",
      "\u001b[34mYou should consider upgrading via the 'pip install --upgrade pip' command.\u001b[0m\n",
      "\u001b[34m2022-03-10 09:27:08,407 sagemaker-containers INFO     Invoking user script\u001b[0m\n",
      "\u001b[34mTraining Env:\u001b[0m\n",
      "\u001b[34m{\n",
      "    \"resource_config\": {\n",
      "        \"current_group_name\": \"homogeneousCluster\",\n",
      "        \"current_instance_type\": \"ml.p2.xlarge\",\n",
      "        \"current_host\": \"algo-1\",\n",
      "        \"hosts\": [\n",
      "            \"algo-1\"\n",
      "        ],\n",
      "        \"network_interface_name\": \"eth0\",\n",
      "        \"instance_groups\": [\n",
      "            {\n",
      "                \"instance_type\": \"ml.p2.xlarge\",\n",
      "                \"instance_group_name\": \"homogeneousCluster\",\n",
      "                \"hosts\": [\n",
      "                    \"algo-1\"\n",
      "                ]\n",
      "            }\n",
      "        ]\n",
      "    },\n",
      "    \"output_data_dir\": \"/opt/ml/output/data\",\n",
      "    \"input_data_config\": {\n",
      "        \"training\": {\n",
      "            \"TrainingInputMode\": \"File\",\n",
      "            \"RecordWrapperType\": \"None\",\n",
      "            \"S3DistributionType\": \"FullyReplicated\"\n",
      "        }\n",
      "    },\n",
      "    \"hosts\": [\n",
      "        \"algo-1\"\n",
      "    ],\n",
      "    \"hyperparameters\": {\n",
      "        \"hidden_dim\": 200,\n",
      "        \"epochs\": 20\n",
      "    },\n",
      "    \"user_entry_point\": \"train.py\",\n",
      "    \"additional_framework_parameters\": {},\n",
      "    \"job_name\": \"sagemaker-pytorch-2022-03-10-09-23-07-221\",\n",
      "    \"framework_module\": \"sagemaker_pytorch_container.training:main\",\n",
      "    \"input_config_dir\": \"/opt/ml/input/config\",\n",
      "    \"output_dir\": \"/opt/ml/output\",\n",
      "    \"channel_input_dirs\": {\n",
      "        \"training\": \"/opt/ml/input/data/training\"\n",
      "    },\n",
      "    \"network_interface_name\": \"eth0\",\n",
      "    \"output_intermediate_dir\": \"/opt/ml/output/intermediate\",\n",
      "    \"num_cpus\": 4,\n",
      "    \"module_dir\": \"s3://sagemaker-us-east-1-677968221479/sagemaker-pytorch-2022-03-10-09-23-07-221/source/sourcedir.tar.gz\",\n",
      "    \"log_level\": 20,\n",
      "    \"model_dir\": \"/opt/ml/model\",\n",
      "    \"current_host\": \"algo-1\",\n",
      "    \"num_gpus\": 1,\n",
      "    \"module_name\": \"train\",\n",
      "    \"input_dir\": \"/opt/ml/input\"\u001b[0m\n",
      "\u001b[34m}\u001b[0m\n",
      "\u001b[34mEnvironment variables:\u001b[0m\n",
      "\u001b[34mSM_USER_ENTRY_POINT=train.py\u001b[0m\n",
      "\u001b[34mSM_NETWORK_INTERFACE_NAME=eth0\u001b[0m\n",
      "\u001b[34mSM_OUTPUT_DATA_DIR=/opt/ml/output/data\u001b[0m\n",
      "\u001b[34mSM_LOG_LEVEL=20\u001b[0m\n",
      "\u001b[34mSM_OUTPUT_DIR=/opt/ml/output\u001b[0m\n",
      "\u001b[34mSM_MODULE_DIR=s3://sagemaker-us-east-1-677968221479/sagemaker-pytorch-2022-03-10-09-23-07-221/source/sourcedir.tar.gz\u001b[0m\n",
      "\u001b[34mSM_MODULE_NAME=train\u001b[0m\n",
      "\u001b[34mPYTHONPATH=/usr/local/bin:/usr/lib/python35.zip:/usr/lib/python3.5:/usr/lib/python3.5/plat-x86_64-linux-gnu:/usr/lib/python3.5/lib-dynload:/usr/local/lib/python3.5/dist-packages:/usr/lib/python3/dist-packages\u001b[0m\n",
      "\u001b[34mSM_HOSTS=[\"algo-1\"]\u001b[0m\n",
      "\u001b[34mSM_HPS={\"epochs\":20,\"hidden_dim\":200}\u001b[0m\n",
      "\u001b[34mSM_FRAMEWORK_PARAMS={}\u001b[0m\n",
      "\u001b[34mSM_CHANNEL_TRAINING=/opt/ml/input/data/training\u001b[0m\n",
      "\u001b[34mSM_INPUT_DATA_CONFIG={\"training\":{\"RecordWrapperType\":\"None\",\"S3DistributionType\":\"FullyReplicated\",\"TrainingInputMode\":\"File\"}}\u001b[0m\n",
      "\u001b[34mSM_NUM_GPUS=1\u001b[0m\n",
      "\u001b[34mSM_NUM_CPUS=4\u001b[0m\n",
      "\u001b[34mSM_CHANNELS=[\"training\"]\u001b[0m\n",
      "\u001b[34mSM_FRAMEWORK_MODULE=sagemaker_pytorch_container.training:main\u001b[0m\n",
      "\u001b[34mSM_RESOURCE_CONFIG={\"current_group_name\":\"homogeneousCluster\",\"current_host\":\"algo-1\",\"current_instance_type\":\"ml.p2.xlarge\",\"hosts\":[\"algo-1\"],\"instance_groups\":[{\"hosts\":[\"algo-1\"],\"instance_group_name\":\"homogeneousCluster\",\"instance_type\":\"ml.p2.xlarge\"}],\"network_interface_name\":\"eth0\"}\u001b[0m\n",
      "\u001b[34mSM_OUTPUT_INTERMEDIATE_DIR=/opt/ml/output/intermediate\u001b[0m\n",
      "\u001b[34mSM_USER_ARGS=[\"--epochs\",\"20\",\"--hidden_dim\",\"200\"]\u001b[0m\n",
      "\u001b[34mSM_HP_EPOCHS=20\u001b[0m\n",
      "\u001b[34mSM_MODEL_DIR=/opt/ml/model\u001b[0m\n",
      "\u001b[34mSM_HP_HIDDEN_DIM=200\u001b[0m\n",
      "\u001b[34mSM_CURRENT_HOST=algo-1\u001b[0m\n",
      "\u001b[34mSM_INPUT_DIR=/opt/ml/input\u001b[0m\n",
      "\u001b[34mSM_INPUT_CONFIG_DIR=/opt/ml/input/config\u001b[0m\n",
      "\u001b[34mSM_TRAINING_ENV={\"additional_framework_parameters\":{},\"channel_input_dirs\":{\"training\":\"/opt/ml/input/data/training\"},\"current_host\":\"algo-1\",\"framework_module\":\"sagemaker_pytorch_container.training:main\",\"hosts\":[\"algo-1\"],\"hyperparameters\":{\"epochs\":20,\"hidden_dim\":200},\"input_config_dir\":\"/opt/ml/input/config\",\"input_data_config\":{\"training\":{\"RecordWrapperType\":\"None\",\"S3DistributionType\":\"FullyReplicated\",\"TrainingInputMode\":\"File\"}},\"input_dir\":\"/opt/ml/input\",\"job_name\":\"sagemaker-pytorch-2022-03-10-09-23-07-221\",\"log_level\":20,\"model_dir\":\"/opt/ml/model\",\"module_dir\":\"s3://sagemaker-us-east-1-677968221479/sagemaker-pytorch-2022-03-10-09-23-07-221/source/sourcedir.tar.gz\",\"module_name\":\"train\",\"network_interface_name\":\"eth0\",\"num_cpus\":4,\"num_gpus\":1,\"output_data_dir\":\"/opt/ml/output/data\",\"output_dir\":\"/opt/ml/output\",\"output_intermediate_dir\":\"/opt/ml/output/intermediate\",\"resource_config\":{\"current_group_name\":\"homogeneousCluster\",\"current_host\":\"algo-1\",\"current_instance_type\":\"ml.p2.xlarge\",\"hosts\":[\"algo-1\"],\"instance_groups\":[{\"hosts\":[\"algo-1\"],\"instance_group_name\":\"homogeneousCluster\",\"instance_type\":\"ml.p2.xlarge\"}],\"network_interface_name\":\"eth0\"},\"user_entry_point\":\"train.py\"}\u001b[0m\n",
      "\u001b[34mInvoking script with the following command:\u001b[0m\n",
      "\u001b[34m/usr/bin/python -m train --epochs 20 --hidden_dim 200\u001b[0m\n",
      "\u001b[34mUsing device cuda.\u001b[0m\n",
      "\u001b[34mGet train data loader.\u001b[0m\n",
      "\u001b[34mModel loaded with embedding_dim 32, hidden_dim 200, vocab_size 5000.\u001b[0m\n",
      "\u001b[34mEpoch: 1, BCELoss: 0.6664240068318893\u001b[0m\n",
      "\u001b[34mEpoch: 2, BCELoss: 0.569877875094511\u001b[0m\n",
      "\u001b[34mEpoch: 3, BCELoss: 0.47591082356414016\u001b[0m\n",
      "\u001b[34mEpoch: 4, BCELoss: 0.40687779139499275\u001b[0m\n",
      "\u001b[34mEpoch: 5, BCELoss: 0.3944287567722554\u001b[0m\n",
      "\u001b[34mEpoch: 6, BCELoss: 0.33758961911104163\u001b[0m\n",
      "\u001b[34mEpoch: 7, BCELoss: 0.31970455208603216\u001b[0m\n",
      "\u001b[34mEpoch: 8, BCELoss: 0.4877663145259935\u001b[0m\n",
      "\u001b[34mEpoch: 9, BCELoss: 0.4243320816633653\u001b[0m\n",
      "\u001b[34mEpoch: 10, BCELoss: 0.3313944035646867\u001b[0m\n",
      "\u001b[34mEpoch: 11, BCELoss: 0.29184645323120817\u001b[0m\n",
      "\u001b[34mEpoch: 12, BCELoss: 0.3517454144906025\u001b[0m\n",
      "\u001b[34mEpoch: 13, BCELoss: 0.44411261227666116\u001b[0m\n",
      "\u001b[34mEpoch: 14, BCELoss: 0.3644139943074207\u001b[0m\n",
      "\u001b[34mEpoch: 15, BCELoss: 0.3013175990508527\u001b[0m\n",
      "\u001b[34mEpoch: 16, BCELoss: 0.2939993879016565\u001b[0m\n",
      "\u001b[34mEpoch: 17, BCELoss: 0.26308348562036243\u001b[0m\n",
      "\u001b[34mEpoch: 18, BCELoss: 0.24627222059940806\u001b[0m\n",
      "\u001b[34mEpoch: 19, BCELoss: 0.2337990263286902\u001b[0m\n",
      "\u001b[34mEpoch: 20, BCELoss: 0.22605053137759773\u001b[0m\n",
      "\u001b[34m2022-03-10 09:32:55,794 sagemaker-containers INFO     Reporting training SUCCESS\u001b[0m\n",
      "\n",
      "2022-03-10 09:33:23 Uploading - Uploading generated training model\n",
      "2022-03-10 09:33:23 Completed - Training job completed\n",
      "Training seconds: 505\n",
      "Billable seconds: 505\n"
     ]
    }
   ],
   "source": [
    "estimator.fit({'training': input_data})"
   ]
  },
  {
   "cell_type": "markdown",
   "metadata": {},
   "source": [
    "## Step 5: Testing the model\n",
    "\n",
    "As mentioned at the top of this notebook, we will be testing this model by first deploying it and then sending the testing data to the deployed endpoint. We will do this so that we can make sure that the deployed model is working correctly.\n",
    "\n",
    "## Step 6: Deploy the model for testing\n",
    "\n",
    "Now that we have trained our model, we would like to test it to see how it performs. Currently our model takes input of the form `review_length, review[500]` where `review[500]` is a sequence of `500` integers which describe the words present in the review, encoded using `word_dict`. Fortunately for us, SageMaker provides built-in inference code for models with simple inputs such as this.\n",
    "\n",
    "There is one thing that we need to provide, however, and that is a function which loads the saved model. This function must be called `model_fn()` and takes as its only parameter a path to the directory where the model artifacts are stored. This function must also be present in the python file which we specified as the entry point. In our case the model loading function has been provided and so no changes need to be made.\n",
    "\n",
    "**NOTE**: When the built-in inference code is run it must import the `model_fn()` method from the `train.py` file. This is why the training code is wrapped in a main guard ( ie, `if __name__ == '__main__':` )\n",
    "\n",
    "Since we don't need to change anything in the code that was uploaded during training, we can simply deploy the current model as-is.\n",
    "\n",
    "**NOTE:** When deploying a model you are asking SageMaker to launch an compute instance that will wait for data to be sent to it. As a result, this compute instance will continue to run until *you* shut it down. This is important to know since the cost of a deployed endpoint depends on how long it has been running for.\n",
    "\n",
    "In other words **If you are no longer using a deployed endpoint, shut it down!**\n",
    "\n",
    "**TODO:** Deploy the trained model."
   ]
  },
  {
   "cell_type": "code",
   "execution_count": 84,
   "metadata": {},
   "outputs": [
    {
     "name": "stderr",
     "output_type": "stream",
     "text": [
      "Parameter image will be renamed to image_uri in SageMaker Python SDK v2.\n",
      "'create_image_uri' will be deprecated in favor of 'ImageURIProvider' class in SageMaker Python SDK v2.\n"
     ]
    },
    {
     "name": "stdout",
     "output_type": "stream",
     "text": [
      "---------!"
     ]
    }
   ],
   "source": [
    "# TODO: Deploy the trained model\n",
    "predictor = estimator.deploy(initial_instance_count=1, instance_type='ml.m4.xlarge')"
   ]
  },
  {
   "cell_type": "markdown",
   "metadata": {},
   "source": [
    "## Step 7 - Use the model for testing\n",
    "\n",
    "Once deployed, we can read in the test data and send it off to our deployed model to get some results. Once we collect all of the results we can determine how accurate our model is."
   ]
  },
  {
   "cell_type": "code",
   "execution_count": 85,
   "metadata": {},
   "outputs": [],
   "source": [
    "test_X = pd.concat([pd.DataFrame(test_X_len), pd.DataFrame(test_X)], axis=1)"
   ]
  },
  {
   "cell_type": "code",
   "execution_count": 86,
   "metadata": {},
   "outputs": [],
   "source": [
    "# We split the data into chunks and send each chunk seperately, accumulating the results.\n",
    "\n",
    "def predict(data, rows=512):\n",
    "    split_array = np.array_split(data, int(data.shape[0] / float(rows) + 1))\n",
    "    predictions = np.array([])\n",
    "    for array in split_array:\n",
    "        predictions = np.append(predictions, predictor.predict(array))\n",
    "    \n",
    "    return predictions"
   ]
  },
  {
   "cell_type": "code",
   "execution_count": 87,
   "metadata": {},
   "outputs": [],
   "source": [
    "predictions = predict(test_X.values)\n",
    "predictions = [round(num) for num in predictions]"
   ]
  },
  {
   "cell_type": "code",
   "execution_count": 88,
   "metadata": {},
   "outputs": [
    {
     "data": {
      "text/plain": [
       "0.86"
      ]
     },
     "execution_count": 88,
     "metadata": {},
     "output_type": "execute_result"
    }
   ],
   "source": [
    "from sklearn.metrics import accuracy_score\n",
    "accuracy_score(test_y, predictions)"
   ]
  },
  {
   "cell_type": "markdown",
   "metadata": {},
   "source": [
    "**Question:** How does this model compare to the XGBoost model you created earlier? Why might these two models perform differently on this dataset? Which do *you* think is better for sentiment analysis?"
   ]
  },
  {
   "cell_type": "markdown",
   "metadata": {},
   "source": [
    "**Answer:**\n",
    "\n",
    "Clearly, the model we used (LSTM) for the final project will have better outcome compared to XGBoost. \n",
    "\n",
    "XGBoost is a great machine learning algorithm for solving supervised learning problem. It is an interpretation-focused method, good for tabular data with a small number of variables. However, when it comes to dealing with big, unstructured data such as natural language processing for sentiment analysis, it falls weakly in the true positive area.\n",
    "\n",
    "Deep learning encompasses a broad class of models. LSTM, a well-known deep learning architecture with the feature of carrying the cell-state while training, can keep advancing the performance and accuracy by iterative training with adequate loss function and optimizer adjustment. Thus we can get much better result."
   ]
  },
  {
   "cell_type": "markdown",
   "metadata": {},
   "source": [
    "### (TODO) More testing\n",
    "\n",
    "We now have a trained model which has been deployed and which we can send processed reviews to and which returns the predicted sentiment. However, ultimately we would like to be able to send our model an unprocessed review. That is, we would like to send the review itself as a string. For example, suppose we wish to send the following review to our model."
   ]
  },
  {
   "cell_type": "code",
   "execution_count": 89,
   "metadata": {},
   "outputs": [],
   "source": [
    "test_review = 'The simplest pleasures in life are the best, and this film is one of them. Combining a rather basic storyline of love and adventure this movie transcends the usual weekend fair with wit and unmitigated charm.'"
   ]
  },
  {
   "cell_type": "markdown",
   "metadata": {},
   "source": [
    "The question we now need to answer is, how do we send this review to our model?\n",
    "\n",
    "Recall in the first section of this notebook we did a bunch of data processing to the IMDb dataset. In particular, we did two specific things to the provided reviews.\n",
    " - Removed any html tags and stemmed the input\n",
    " - Encoded the review as a sequence of integers using `word_dict`\n",
    " \n",
    "In order process the review we will need to repeat these two steps.\n",
    "\n",
    "**TODO**: Using the `review_to_words` and `convert_and_pad` methods from section one, convert `test_review` into a numpy array `test_data` suitable to send to our model. Remember that our model expects input of the form `review_length, review[500]`. So make sure you produce two variables from processing: \n",
    "- A sequence of length 500 which represents the converted review\n",
    "- The length of the review"
   ]
  },
  {
   "cell_type": "code",
   "execution_count": 90,
   "metadata": {},
   "outputs": [],
   "source": [
    "#help(predictor)"
   ]
  },
  {
   "cell_type": "code",
   "execution_count": 91,
   "metadata": {},
   "outputs": [],
   "source": [
    "# TODO: Convert test_review into a form usable by the model and save the results in test_data\n",
    "test_words = review_to_words(test_review)\n",
    "sequence, length = convert_and_pad(word_dict, test_words)\n",
    "test_data = np.expand_dims(np.array([length]+sequence),axis=0)"
   ]
  },
  {
   "cell_type": "code",
   "execution_count": 92,
   "metadata": {},
   "outputs": [
    {
     "data": {
      "text/plain": [
       "(1, 501)"
      ]
     },
     "execution_count": 92,
     "metadata": {},
     "output_type": "execute_result"
    }
   ],
   "source": [
    "test_data.shape"
   ]
  },
  {
   "cell_type": "markdown",
   "metadata": {},
   "source": [
    "Now that we have processed the review, we can send the resulting array to our model to predict the sentiment of the review."
   ]
  },
  {
   "cell_type": "code",
   "execution_count": 93,
   "metadata": {},
   "outputs": [
    {
     "data": {
      "text/plain": [
       "array(0.8691208, dtype=float32)"
      ]
     },
     "execution_count": 93,
     "metadata": {},
     "output_type": "execute_result"
    }
   ],
   "source": [
    "predictor.predict(test_data)"
   ]
  },
  {
   "cell_type": "markdown",
   "metadata": {},
   "source": [
    "Since the return value of our model is close to `1`, we can be certain that the review we submitted is positive."
   ]
  },
  {
   "cell_type": "markdown",
   "metadata": {},
   "source": [
    "### Delete the endpoint\n",
    "\n",
    "Of course, just like in the XGBoost notebook, once we've deployed an endpoint it continues to run until we tell it to shut down. Since we are done using our endpoint for now, we can delete it."
   ]
  },
  {
   "cell_type": "code",
   "execution_count": 94,
   "metadata": {},
   "outputs": [
    {
     "name": "stderr",
     "output_type": "stream",
     "text": [
      "estimator.delete_endpoint() will be deprecated in SageMaker Python SDK v2. Please use the delete_endpoint() function on your predictor instead.\n"
     ]
    }
   ],
   "source": [
    "estimator.delete_endpoint()"
   ]
  },
  {
   "cell_type": "markdown",
   "metadata": {},
   "source": [
    "## Step 6 (again) - Deploy the model for the web app\n",
    "\n",
    "Now that we know that our model is working, it's time to create some custom inference code so that we can send the model a review which has not been processed and have it determine the sentiment of the review.\n",
    "\n",
    "As we saw above, by default the estimator which we created, when deployed, will use the entry script and directory which we provided when creating the model. However, since we now wish to accept a string as input and our model expects a processed review, we need to write some custom inference code.\n",
    "\n",
    "We will store the code that we write in the `serve` directory. Provided in this directory is the `model.py` file that we used to construct our model, a `utils.py` file which contains the `review_to_words` and `convert_and_pad` pre-processing functions which we used during the initial data processing, and `predict.py`, the file which will contain our custom inference code. Note also that `requirements.txt` is present which will tell SageMaker what Python libraries are required by our custom inference code.\n",
    "\n",
    "When deploying a PyTorch model in SageMaker, you are expected to provide four functions which the SageMaker inference container will use.\n",
    " - `model_fn`: This function is the same function that we used in the training script and it tells SageMaker how to load our model.\n",
    " - `input_fn`: This function receives the raw serialized input that has been sent to the model's endpoint and its job is to de-serialize and make the input available for the inference code.\n",
    " - `output_fn`: This function takes the output of the inference code and its job is to serialize this output and return it to the caller of the model's endpoint.\n",
    " - `predict_fn`: The heart of the inference script, this is where the actual prediction is done and is the function which you will need to complete.\n",
    "\n",
    "For the simple website that we are constructing during this project, the `input_fn` and `output_fn` methods are relatively straightforward. We only require being able to accept a string as input and we expect to return a single value as output. You might imagine though that in a more complex application the input or output may be image data or some other binary data which would require some effort to serialize.\n",
    "\n",
    "### (TODO) Writing inference code\n",
    "\n",
    "Before writing our custom inference code, we will begin by taking a look at the code which has been provided."
   ]
  },
  {
   "cell_type": "code",
   "execution_count": 99,
   "metadata": {},
   "outputs": [
    {
     "name": "stdout",
     "output_type": "stream",
     "text": [
      "\u001b[34mimport\u001b[39;49;00m \u001b[04m\u001b[36margparse\u001b[39;49;00m\r\n",
      "\u001b[34mimport\u001b[39;49;00m \u001b[04m\u001b[36mjson\u001b[39;49;00m\r\n",
      "\u001b[34mimport\u001b[39;49;00m \u001b[04m\u001b[36mos\u001b[39;49;00m\r\n",
      "\u001b[34mimport\u001b[39;49;00m \u001b[04m\u001b[36mpickle\u001b[39;49;00m\r\n",
      "\u001b[34mimport\u001b[39;49;00m \u001b[04m\u001b[36msys\u001b[39;49;00m\r\n",
      "\u001b[34mimport\u001b[39;49;00m \u001b[04m\u001b[36msagemaker_containers\u001b[39;49;00m\r\n",
      "\u001b[34mimport\u001b[39;49;00m \u001b[04m\u001b[36mpandas\u001b[39;49;00m \u001b[34mas\u001b[39;49;00m \u001b[04m\u001b[36mpd\u001b[39;49;00m\r\n",
      "\u001b[34mimport\u001b[39;49;00m \u001b[04m\u001b[36mnumpy\u001b[39;49;00m \u001b[34mas\u001b[39;49;00m \u001b[04m\u001b[36mnp\u001b[39;49;00m\r\n",
      "\u001b[34mimport\u001b[39;49;00m \u001b[04m\u001b[36mtorch\u001b[39;49;00m\r\n",
      "\u001b[34mimport\u001b[39;49;00m \u001b[04m\u001b[36mtorch\u001b[39;49;00m\u001b[04m\u001b[36m.\u001b[39;49;00m\u001b[04m\u001b[36mnn\u001b[39;49;00m \u001b[34mas\u001b[39;49;00m \u001b[04m\u001b[36mnn\u001b[39;49;00m\r\n",
      "\u001b[34mimport\u001b[39;49;00m \u001b[04m\u001b[36mtorch\u001b[39;49;00m\u001b[04m\u001b[36m.\u001b[39;49;00m\u001b[04m\u001b[36moptim\u001b[39;49;00m \u001b[34mas\u001b[39;49;00m \u001b[04m\u001b[36moptim\u001b[39;49;00m\r\n",
      "\u001b[34mimport\u001b[39;49;00m \u001b[04m\u001b[36mtorch\u001b[39;49;00m\u001b[04m\u001b[36m.\u001b[39;49;00m\u001b[04m\u001b[36mutils\u001b[39;49;00m\u001b[04m\u001b[36m.\u001b[39;49;00m\u001b[04m\u001b[36mdata\u001b[39;49;00m\r\n",
      "\r\n",
      "\u001b[34mfrom\u001b[39;49;00m \u001b[04m\u001b[36mmodel\u001b[39;49;00m \u001b[34mimport\u001b[39;49;00m LSTMClassifier\r\n",
      "\r\n",
      "\u001b[34mfrom\u001b[39;49;00m \u001b[04m\u001b[36mutils\u001b[39;49;00m \u001b[34mimport\u001b[39;49;00m review_to_words, convert_and_pad\r\n",
      "\r\n",
      "\u001b[34mdef\u001b[39;49;00m \u001b[32mmodel_fn\u001b[39;49;00m(model_dir):\r\n",
      "    \u001b[33m\"\"\"Load the PyTorch model from the `model_dir` directory.\"\"\"\u001b[39;49;00m\r\n",
      "    \u001b[36mprint\u001b[39;49;00m(\u001b[33m\"\u001b[39;49;00m\u001b[33mLoading model.\u001b[39;49;00m\u001b[33m\"\u001b[39;49;00m)\r\n",
      "\r\n",
      "    \u001b[37m# First, load the parameters used to create the model.\u001b[39;49;00m\r\n",
      "    model_info = {}\r\n",
      "    model_info_path = os.path.join(model_dir, \u001b[33m'\u001b[39;49;00m\u001b[33mmodel_info.pth\u001b[39;49;00m\u001b[33m'\u001b[39;49;00m)\r\n",
      "    \u001b[34mwith\u001b[39;49;00m \u001b[36mopen\u001b[39;49;00m(model_info_path, \u001b[33m'\u001b[39;49;00m\u001b[33mrb\u001b[39;49;00m\u001b[33m'\u001b[39;49;00m) \u001b[34mas\u001b[39;49;00m f:\r\n",
      "        model_info = torch.load(f)\r\n",
      "\r\n",
      "    \u001b[36mprint\u001b[39;49;00m(\u001b[33m\"\u001b[39;49;00m\u001b[33mmodel_info: \u001b[39;49;00m\u001b[33m{}\u001b[39;49;00m\u001b[33m\"\u001b[39;49;00m.format(model_info))\r\n",
      "\r\n",
      "    \u001b[37m# Determine the device and construct the model.\u001b[39;49;00m\r\n",
      "    device = torch.device(\u001b[33m\"\u001b[39;49;00m\u001b[33mcuda\u001b[39;49;00m\u001b[33m\"\u001b[39;49;00m \u001b[34mif\u001b[39;49;00m torch.cuda.is_available() \u001b[34melse\u001b[39;49;00m \u001b[33m\"\u001b[39;49;00m\u001b[33mcpu\u001b[39;49;00m\u001b[33m\"\u001b[39;49;00m)\r\n",
      "    model = LSTMClassifier(model_info[\u001b[33m'\u001b[39;49;00m\u001b[33membedding_dim\u001b[39;49;00m\u001b[33m'\u001b[39;49;00m], model_info[\u001b[33m'\u001b[39;49;00m\u001b[33mhidden_dim\u001b[39;49;00m\u001b[33m'\u001b[39;49;00m], model_info[\u001b[33m'\u001b[39;49;00m\u001b[33mvocab_size\u001b[39;49;00m\u001b[33m'\u001b[39;49;00m])\r\n",
      "\r\n",
      "    \u001b[37m# Load the store model parameters.\u001b[39;49;00m\r\n",
      "    model_path = os.path.join(model_dir, \u001b[33m'\u001b[39;49;00m\u001b[33mmodel.pth\u001b[39;49;00m\u001b[33m'\u001b[39;49;00m)\r\n",
      "    \u001b[34mwith\u001b[39;49;00m \u001b[36mopen\u001b[39;49;00m(model_path, \u001b[33m'\u001b[39;49;00m\u001b[33mrb\u001b[39;49;00m\u001b[33m'\u001b[39;49;00m) \u001b[34mas\u001b[39;49;00m f:\r\n",
      "        model.load_state_dict(torch.load(f))\r\n",
      "\r\n",
      "    \u001b[37m# Load the saved word_dict.\u001b[39;49;00m\r\n",
      "    word_dict_path = os.path.join(model_dir, \u001b[33m'\u001b[39;49;00m\u001b[33mword_dict.pkl\u001b[39;49;00m\u001b[33m'\u001b[39;49;00m)\r\n",
      "    \u001b[34mwith\u001b[39;49;00m \u001b[36mopen\u001b[39;49;00m(word_dict_path, \u001b[33m'\u001b[39;49;00m\u001b[33mrb\u001b[39;49;00m\u001b[33m'\u001b[39;49;00m) \u001b[34mas\u001b[39;49;00m f:\r\n",
      "        model.word_dict = pickle.load(f)\r\n",
      "\r\n",
      "    model.to(device).eval()\r\n",
      "\r\n",
      "    \u001b[36mprint\u001b[39;49;00m(\u001b[33m\"\u001b[39;49;00m\u001b[33mDone loading model.\u001b[39;49;00m\u001b[33m\"\u001b[39;49;00m)\r\n",
      "    \u001b[34mreturn\u001b[39;49;00m model\r\n",
      "\r\n",
      "\u001b[34mdef\u001b[39;49;00m \u001b[32minput_fn\u001b[39;49;00m(serialized_input_data, content_type):\r\n",
      "    \u001b[36mprint\u001b[39;49;00m(\u001b[33m'\u001b[39;49;00m\u001b[33mDeserializing the input data.\u001b[39;49;00m\u001b[33m'\u001b[39;49;00m)\r\n",
      "    \u001b[34mif\u001b[39;49;00m content_type == \u001b[33m'\u001b[39;49;00m\u001b[33mtext/plain\u001b[39;49;00m\u001b[33m'\u001b[39;49;00m:\r\n",
      "        data = serialized_input_data.decode(\u001b[33m'\u001b[39;49;00m\u001b[33mutf-8\u001b[39;49;00m\u001b[33m'\u001b[39;49;00m)\r\n",
      "        \u001b[34mreturn\u001b[39;49;00m data\r\n",
      "    \u001b[34mraise\u001b[39;49;00m \u001b[36mException\u001b[39;49;00m(\u001b[33m'\u001b[39;49;00m\u001b[33mRequested unsupported ContentType in content_type: \u001b[39;49;00m\u001b[33m'\u001b[39;49;00m + content_type)\r\n",
      "\r\n",
      "\u001b[34mdef\u001b[39;49;00m \u001b[32moutput_fn\u001b[39;49;00m(prediction_output, accept):\r\n",
      "    \u001b[36mprint\u001b[39;49;00m(\u001b[33m'\u001b[39;49;00m\u001b[33mSerializing the generated output.\u001b[39;49;00m\u001b[33m'\u001b[39;49;00m)\r\n",
      "    \u001b[34mreturn\u001b[39;49;00m \u001b[36mstr\u001b[39;49;00m(prediction_output)\r\n",
      "\r\n",
      "\u001b[34mdef\u001b[39;49;00m \u001b[32mpredict_fn\u001b[39;49;00m(input_data, model):\r\n",
      "    \u001b[36mprint\u001b[39;49;00m(\u001b[33m'\u001b[39;49;00m\u001b[33mInferring sentiment of input data.\u001b[39;49;00m\u001b[33m'\u001b[39;49;00m)\r\n",
      "\r\n",
      "    device = torch.device(\u001b[33m\"\u001b[39;49;00m\u001b[33mcuda\u001b[39;49;00m\u001b[33m\"\u001b[39;49;00m \u001b[34mif\u001b[39;49;00m torch.cuda.is_available() \u001b[34melse\u001b[39;49;00m \u001b[33m\"\u001b[39;49;00m\u001b[33mcpu\u001b[39;49;00m\u001b[33m\"\u001b[39;49;00m)\r\n",
      "    \r\n",
      "    \u001b[34mif\u001b[39;49;00m model.word_dict \u001b[35mis\u001b[39;49;00m \u001b[34mNone\u001b[39;49;00m:\r\n",
      "        \u001b[34mraise\u001b[39;49;00m \u001b[36mException\u001b[39;49;00m(\u001b[33m'\u001b[39;49;00m\u001b[33mModel has not been loaded properly, no word_dict.\u001b[39;49;00m\u001b[33m'\u001b[39;49;00m)\r\n",
      "    \r\n",
      "    \u001b[37m# TODO: Process input_data so that it is ready to be sent to our model.\u001b[39;49;00m\r\n",
      "    \u001b[37m#       You should produce two variables:\u001b[39;49;00m\r\n",
      "    \u001b[37m#         data_X   - A sequence of length 500 which represents the converted review\u001b[39;49;00m\r\n",
      "    \u001b[37m#         data_len - The length of the review\u001b[39;49;00m\r\n",
      "\r\n",
      "    words = review_to_words(input_data)\r\n",
      "    data_X, data_len = convert_and_pad(model.word_dict, words)\r\n",
      "\r\n",
      "    \u001b[37m# Using data_X and data_len we construct an appropriate input tensor. Remember\u001b[39;49;00m\r\n",
      "    \u001b[37m# that our model expects input data of the form 'len, review[500]'.\u001b[39;49;00m\r\n",
      "    data_pack = np.hstack((data_len, data_X))\r\n",
      "    data_pack = data_pack.reshape(\u001b[34m1\u001b[39;49;00m, -\u001b[34m1\u001b[39;49;00m)\r\n",
      "    \r\n",
      "    data = torch.from_numpy(data_pack)\r\n",
      "    data = data.to(device)\r\n",
      "\r\n",
      "    \u001b[37m# Make sure to put the model into evaluation mode\u001b[39;49;00m\r\n",
      "    model.eval()\r\n",
      "\r\n",
      "    \u001b[37m# TODO: Compute the result of applying the model to the input data. The variable `result` should\u001b[39;49;00m\r\n",
      "    \u001b[37m#       be a numpy array which contains a single integer which is either 1 or 0\u001b[39;49;00m\r\n",
      "    \r\n",
      "    \u001b[37m#result = np.squeeze(model(data))\u001b[39;49;00m\r\n",
      "    \u001b[37m#print(type(result))\u001b[39;49;00m\r\n",
      "    \u001b[37m#result = result.item()\u001b[39;49;00m\r\n",
      "    \u001b[37m#print(type(result))\u001b[39;49;00m\r\n",
      "    result = np.round(model(data).detach().cpu().numpy()).astype(np.int)\r\n",
      "\r\n",
      "    \u001b[34mreturn\u001b[39;49;00m result\r\n"
     ]
    }
   ],
   "source": [
    "!pygmentize serve/predict.py"
   ]
  },
  {
   "cell_type": "markdown",
   "metadata": {},
   "source": [
    "As mentioned earlier, the `model_fn` method is the same as the one provided in the training code and the `input_fn` and `output_fn` methods are very simple and your task will be to complete the `predict_fn` method. \n",
    "\n",
    "**Note**: Our model expects input data of the form 'len, review[500]'. So make sure you produce two variables from processing: \n",
    "- `data_X`:  A sequence of length 500 which represents the converted review\n",
    "- `data_len`: - The length of the review\n",
    "\n",
    "Make sure that you save the completed file as `predict.py` in the `serve` directory.\n",
    "\n",
    "**TODO**: Complete the `predict_fn()` method in the `serve/predict.py` file."
   ]
  },
  {
   "cell_type": "markdown",
   "metadata": {},
   "source": [
    "### Deploying the model\n",
    "\n",
    "Now that the custom inference code has been written, we will create and deploy our model. To begin with, we need to construct a new PyTorchModel object which points to the model artifacts created during training and also points to the inference code that we wish to use. Then we can call the deploy method to launch the deployment container.\n",
    "\n",
    "**NOTE**: The default behaviour for a deployed PyTorch model is to assume that any input passed to the predictor is a `numpy` array. In our case we want to send a string so we need to construct a simple wrapper around the `RealTimePredictor` class to accomodate simple strings. In a more complicated situation you may want to provide a serialization object, for example if you wanted to sent image data."
   ]
  },
  {
   "cell_type": "code",
   "execution_count": 100,
   "metadata": {},
   "outputs": [
    {
     "name": "stderr",
     "output_type": "stream",
     "text": [
      "Parameter image will be renamed to image_uri in SageMaker Python SDK v2.\n",
      "'create_image_uri' will be deprecated in favor of 'ImageURIProvider' class in SageMaker Python SDK v2.\n"
     ]
    },
    {
     "name": "stdout",
     "output_type": "stream",
     "text": [
      "----------!"
     ]
    }
   ],
   "source": [
    "from sagemaker.predictor import RealTimePredictor\n",
    "from sagemaker.pytorch import PyTorchModel\n",
    "\n",
    "class StringPredictor(RealTimePredictor):\n",
    "    def __init__(self, endpoint_name, sagemaker_session):\n",
    "        super(StringPredictor, self).__init__(endpoint_name, sagemaker_session, content_type='text/plain')\n",
    "\n",
    "model = PyTorchModel(model_data=estimator.model_data,\n",
    "                     role = role,\n",
    "                     framework_version='0.4.0',\n",
    "                     entry_point='predict.py',\n",
    "                     source_dir='serve',\n",
    "                     predictor_cls=StringPredictor)\n",
    "predictor = model.deploy(initial_instance_count=1, instance_type='ml.m4.xlarge')"
   ]
  },
  {
   "cell_type": "markdown",
   "metadata": {},
   "source": [
    "### Testing the model\n",
    "\n",
    "Now that we have deployed our model with the custom inference code, we should test to see if everything is working. Here we test our model by loading the first `250` positive and negative reviews and send them to the endpoint, then collect the results. The reason for only sending some of the data is that the amount of time it takes for our model to process the input and then perform inference is quite long and so testing the entire data set would be prohibitive."
   ]
  },
  {
   "cell_type": "code",
   "execution_count": 101,
   "metadata": {},
   "outputs": [],
   "source": [
    "import glob\n",
    "\n",
    "def test_reviews(data_dir='../data/aclImdb', stop=250):\n",
    "    \n",
    "    results = []\n",
    "    ground = []\n",
    "    \n",
    "    # We make sure to test both positive and negative reviews    \n",
    "    for sentiment in ['pos', 'neg']:\n",
    "        \n",
    "        path = os.path.join(data_dir, 'test', sentiment, '*.txt')\n",
    "        files = glob.glob(path)\n",
    "        \n",
    "        files_read = 0\n",
    "        \n",
    "        print('Starting ', sentiment, ' files')\n",
    "        \n",
    "        # Iterate through the files and send them to the predictor\n",
    "        for f in files:\n",
    "            with open(f) as review:\n",
    "                # First, we store the ground truth (was the review positive or negative)\n",
    "                if sentiment == 'pos':\n",
    "                    ground.append(1)\n",
    "                else:\n",
    "                    ground.append(0)\n",
    "                # Read in the review and convert to 'utf-8' for transmission via HTTP\n",
    "                review_input = review.read().encode('utf-8')\n",
    "                # Send the review to the predictor and store the results\n",
    "                results.append(float(predictor.predict(review_input)))\n",
    "                \n",
    "            # Sending reviews to our endpoint one at a time takes a while so we\n",
    "            # only send a small number of reviews\n",
    "            files_read += 1\n",
    "            if files_read == stop:\n",
    "                break\n",
    "            \n",
    "    return ground, results"
   ]
  },
  {
   "cell_type": "code",
   "execution_count": 102,
   "metadata": {},
   "outputs": [
    {
     "name": "stdout",
     "output_type": "stream",
     "text": [
      "Starting  pos  files\n",
      "Starting  neg  files\n"
     ]
    }
   ],
   "source": [
    "ground, results = test_reviews()"
   ]
  },
  {
   "cell_type": "code",
   "execution_count": 103,
   "metadata": {},
   "outputs": [
    {
     "name": "stdout",
     "output_type": "stream",
     "text": [
      "[1, 1, 1, 1, 1, 1, 1, 1, 1, 1]\n",
      "[1.0, 1.0, 1.0, 1.0, 1.0, 1.0, 1.0, 1.0, 0.0, 1.0]\n",
      "-------------\n",
      "[0, 0, 1, 0, 0, 0, 1, 1, 0, 1]\n",
      "[0.0, 0.0, 1.0, 0.0, 0.0, 0.0, 1.0, 1.0, 0.0, 0.0]\n"
     ]
    }
   ],
   "source": [
    "# Test cell to correct data type of results for accuracy_score\n",
    "\n",
    "print(ground[:10])\n",
    "print(results[:10])\n",
    "\n",
    "print(\"-------------\")\n",
    "\n",
    "print(test_y[:10])\n",
    "print(predictions[:10])"
   ]
  },
  {
   "cell_type": "code",
   "execution_count": 104,
   "metadata": {},
   "outputs": [
    {
     "data": {
      "text/plain": [
       "[1, 1, 1, 1, 1, 1, 1, 1, 0, 1]"
      ]
     },
     "execution_count": 104,
     "metadata": {},
     "output_type": "execute_result"
    }
   ],
   "source": [
    "results = [round(num) for num in results]\n",
    "\n",
    "results[:10]"
   ]
  },
  {
   "cell_type": "code",
   "execution_count": 105,
   "metadata": {},
   "outputs": [
    {
     "data": {
      "text/plain": [
       "0.86"
      ]
     },
     "execution_count": 105,
     "metadata": {},
     "output_type": "execute_result"
    }
   ],
   "source": [
    "from sklearn.metrics import accuracy_score\n",
    "accuracy_score(ground, results)\n",
    "\n",
    "from sklearn.metrics import accuracy_score\n",
    "accuracy_score(test_y, predictions)"
   ]
  },
  {
   "cell_type": "markdown",
   "metadata": {},
   "source": [
    "As an additional test, we can try sending the `test_review` that we looked at earlier."
   ]
  },
  {
   "cell_type": "code",
   "execution_count": 106,
   "metadata": {},
   "outputs": [
    {
     "data": {
      "text/plain": [
       "b'1'"
      ]
     },
     "execution_count": 106,
     "metadata": {},
     "output_type": "execute_result"
    }
   ],
   "source": [
    "predictor.predict(test_review)"
   ]
  },
  {
   "cell_type": "markdown",
   "metadata": {},
   "source": [
    "Now that we know our endpoint is working as expected, we can set up the web page that will interact with it. If you don't have time to finish the project now, make sure to skip down to the end of this notebook and shut down your endpoint. You can deploy it again when you come back."
   ]
  },
  {
   "cell_type": "markdown",
   "metadata": {},
   "source": [
    "## Step 7 (again): Use the model for the web app\n",
    "\n",
    "> **TODO:** This entire section and the next contain tasks for you to complete, mostly using the AWS console.\n",
    "\n",
    "So far we have been accessing our model endpoint by constructing a predictor object which uses the endpoint and then just using the predictor object to perform inference. What if we wanted to create a web app which accessed our model? The way things are set up currently makes that not possible since in order to access a SageMaker endpoint the app would first have to authenticate with AWS using an IAM role which included access to SageMaker endpoints. However, there is an easier way! We just need to use some additional AWS services.\n",
    "\n",
    "<img src=\"Web App Diagram.svg\">\n",
    "\n",
    "The diagram above gives an overview of how the various services will work together. On the far right is the model which we trained above and which is deployed using SageMaker. On the far left is our web app that collects a user's movie review, sends it off and expects a positive or negative sentiment in return.\n",
    "\n",
    "In the middle is where some of the magic happens. We will construct a Lambda function, which you can think of as a straightforward Python function that can be executed whenever a specified event occurs. We will give this function permission to send and recieve data from a SageMaker endpoint.\n",
    "\n",
    "Lastly, the method we will use to execute the Lambda function is a new endpoint that we will create using API Gateway. This endpoint will be a url that listens for data to be sent to it. Once it gets some data it will pass that data on to the Lambda function and then return whatever the Lambda function returns. Essentially it will act as an interface that lets our web app communicate with the Lambda function.\n",
    "\n",
    "### Setting up a Lambda function\n",
    "\n",
    "The first thing we are going to do is set up a Lambda function. This Lambda function will be executed whenever our public API has data sent to it. When it is executed it will receive the data, perform any sort of processing that is required, send the data (the review) to the SageMaker endpoint we've created and then return the result.\n",
    "\n",
    "#### Part A: Create an IAM Role for the Lambda function\n",
    "\n",
    "Since we want the Lambda function to call a SageMaker endpoint, we need to make sure that it has permission to do so. To do this, we will construct a role that we can later give the Lambda function.\n",
    "\n",
    "Using the AWS Console, navigate to the **IAM** page and click on **Roles**. Then, click on **Create role**. Make sure that the **AWS service** is the type of trusted entity selected and choose **Lambda** as the service that will use this role, then click **Next: Permissions**.\n",
    "\n",
    "In the search box type `sagemaker` and select the check box next to the **AmazonSageMakerFullAccess** policy. Then, click on **Next: Review**.\n",
    "\n",
    "Lastly, give this role a name. Make sure you use a name that you will remember later on, for example `LambdaSageMakerRole`. Then, click on **Create role**.\n",
    "\n",
    "#### Part B: Create a Lambda function\n",
    "\n",
    "Now it is time to actually create the Lambda function.\n",
    "\n",
    "Using the AWS Console, navigate to the AWS Lambda page and click on **Create a function**. When you get to the next page, make sure that **Author from scratch** is selected. Now, name your Lambda function, using a name that you will remember later on, for example `sentiment_analysis_func`. Make sure that the **Python 3.6** runtime is selected and then choose the role that you created in the previous part. Then, click on **Create Function**.\n",
    "\n",
    "On the next page you will see some information about the Lambda function you've just created. If you scroll down you should see an editor in which you can write the code that will be executed when your Lambda function is triggered. In our example, we will use the code below. \n",
    "\n",
    "```python\n",
    "# We need to use the low-level library to interact with SageMaker since the SageMaker API\n",
    "# is not available natively through Lambda.\n",
    "import boto3\n",
    "\n",
    "def lambda_handler(event, context):\n",
    "\n",
    "    # The SageMaker runtime is what allows us to invoke the endpoint that we've created.\n",
    "    runtime = boto3.Session().client('sagemaker-runtime')\n",
    "\n",
    "    # Now we use the SageMaker runtime to invoke our endpoint, sending the review we were given\n",
    "    response = runtime.invoke_endpoint(EndpointName = '**ENDPOINT NAME HERE**',    # The name of the endpoint we created\n",
    "                                       ContentType = 'text/plain',                 # The data format that is expected\n",
    "                                       Body = event['body'])                       # The actual review\n",
    "\n",
    "    # The response is an HTTP response whose body contains the result of our inference\n",
    "    result = response['Body'].read().decode('utf-8')\n",
    "\n",
    "    return {\n",
    "        'statusCode' : 200,\n",
    "        'headers' : { 'Content-Type' : 'text/plain', 'Access-Control-Allow-Origin' : '*' },\n",
    "        'body' : result\n",
    "    }\n",
    "```\n",
    "\n",
    "Once you have copy and pasted the code above into the Lambda code editor, replace the `**ENDPOINT NAME HERE**` portion with the name of the endpoint that we deployed earlier. You can determine the name of the endpoint using the code cell below."
   ]
  },
  {
   "cell_type": "code",
   "execution_count": 107,
   "metadata": {},
   "outputs": [
    {
     "data": {
      "text/plain": [
       "'sagemaker-pytorch-2022-03-10-09-52-43-920'"
      ]
     },
     "execution_count": 107,
     "metadata": {},
     "output_type": "execute_result"
    }
   ],
   "source": [
    "predictor.endpoint"
   ]
  },
  {
   "cell_type": "markdown",
   "metadata": {},
   "source": [
    "Once you have added the endpoint name to the Lambda function, click on **Save**. Your Lambda function is now up and running. Next we need to create a way for our web app to execute the Lambda function.\n",
    "\n",
    "### Setting up API Gateway\n",
    "\n",
    "Now that our Lambda function is set up, it is time to create a new API using API Gateway that will trigger the Lambda function we have just created.\n",
    "\n",
    "Using AWS Console, navigate to **Amazon API Gateway** and then click on **Get started**.\n",
    "\n",
    "On the next page, make sure that **New API** is selected and give the new api a name, for example, `sentiment_analysis_api`. Then, click on **Create API**.\n",
    "\n",
    "Now we have created an API, however it doesn't currently do anything. What we want it to do is to trigger the Lambda function that we created earlier.\n",
    "\n",
    "Select the **Actions** dropdown menu and click **Create Method**. A new blank method will be created, select its dropdown menu and select **POST**, then click on the check mark beside it.\n",
    "\n",
    "For the integration point, make sure that **Lambda Function** is selected and click on the **Use Lambda Proxy integration**. This option makes sure that the data that is sent to the API is then sent directly to the Lambda function with no processing. It also means that the return value must be a proper response object as it will also not be processed by API Gateway.\n",
    "\n",
    "Type the name of the Lambda function you created earlier into the **Lambda Function** text entry box and then click on **Save**. Click on **OK** in the pop-up box that then appears, giving permission to API Gateway to invoke the Lambda function you created.\n",
    "\n",
    "The last step in creating the API Gateway is to select the **Actions** dropdown and click on **Deploy API**. You will need to create a new Deployment stage and name it anything you like, for example `prod`.\n",
    "\n",
    "You have now successfully set up a public API to access your SageMaker model. Make sure to copy or write down the URL provided to invoke your newly created public API as this will be needed in the next step. This URL can be found at the top of the page, highlighted in blue next to the text **Invoke URL**."
   ]
  },
  {
   "cell_type": "markdown",
   "metadata": {},
   "source": [
    "## Step 4: Deploying our web app\n",
    "\n",
    "Now that we have a publicly available API, we can start using it in a web app. For our purposes, we have provided a simple static html file which can make use of the public api you created earlier.\n",
    "\n",
    "In the `website` folder there should be a file called `index.html`. Download the file to your computer and open that file up in a text editor of your choice. There should be a line which contains **\\*\\*REPLACE WITH PUBLIC API URL\\*\\***. Replace this string with the url that you wrote down in the last step and then save the file.\n",
    "\n",
    "Now, if you open `index.html` on your local computer, your browser will behave as a local web server and you can use the provided site to interact with your SageMaker model.\n",
    "\n",
    "If you'd like to go further, you can host this html file anywhere you'd like, for example using github or hosting a static site on Amazon's S3. Once you have done this you can share the link with anyone you'd like and have them play with it too!\n",
    "\n",
    "> **Important Note** In order for the web app to communicate with the SageMaker endpoint, the endpoint has to actually be deployed and running. This means that you are paying for it. Make sure that the endpoint is running when you want to use the web app but that you shut it down when you don't need it, otherwise you will end up with a surprisingly large AWS bill.\n",
    "\n",
    "**TODO:** Make sure that you include the edited `index.html` file in your project submission."
   ]
  },
  {
   "cell_type": "markdown",
   "metadata": {},
   "source": [
    "Now that your web app is working, trying playing around with it and see how well it works.\n",
    "\n",
    "**Question**: Post a screenshot showing a sample review that you entered into your web app and the predicted sentiment. What was the predicted sentiment of your example review?"
   ]
  },
  {
   "cell_type": "markdown",
   "metadata": {},
   "source": [
    "**Screenshot:**\n",
    "\n",
    "**Answer:**\n",
    "\n",
    "*I posted two screenshots in the following. One for positive and the other for negative. The test results showed that our deployed model can successfully predict the new data (in this case, new submitted review). We can see that our network was trained to be sensitive for the emotional words like good, great, awesome, masterpiece, bad, awful, terrible., etc.*\n",
    "\n",
    "<img src=\"sentiment-inference-result-pos.jpg\">\n",
    "\n",
    "<img src=\"sentiment-inference-result-neg.jpg\">"
   ]
  },
  {
   "cell_type": "markdown",
   "metadata": {},
   "source": [
    "### Delete the endpoint\n",
    "\n",
    "Remember to always shut down your endpoint if you are no longer using it. You are charged for the length of time that the endpoint is running so if you forget and leave it on you could end up with an unexpectedly large bill."
   ]
  },
  {
   "cell_type": "code",
   "execution_count": 108,
   "metadata": {},
   "outputs": [],
   "source": [
    "predictor.delete_endpoint()"
   ]
  },
  {
   "cell_type": "code",
   "execution_count": null,
   "metadata": {},
   "outputs": [],
   "source": []
  }
 ],
 "metadata": {
  "kernelspec": {
   "display_name": "conda_pytorch_p36",
   "language": "python",
   "name": "conda_pytorch_p36"
  },
  "language_info": {
   "codemirror_mode": {
    "name": "ipython",
    "version": 3
   },
   "file_extension": ".py",
   "mimetype": "text/x-python",
   "name": "python",
   "nbconvert_exporter": "python",
   "pygments_lexer": "ipython3",
   "version": "3.6.13"
  }
 },
 "nbformat": 4,
 "nbformat_minor": 4
}
